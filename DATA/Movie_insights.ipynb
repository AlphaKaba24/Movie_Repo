{
 "cells": [
  {
   "cell_type": "code",
   "execution_count": 179,
   "id": "e8c305ae",
   "metadata": {
    "ExecuteTime": {
     "end_time": "2022-08-04T22:39:54.495940Z",
     "start_time": "2022-08-04T22:39:54.486512Z"
    }
   },
   "outputs": [],
   "source": [
    "import pandas as pd"
   ]
  },
  {
   "cell_type": "code",
   "execution_count": 180,
   "id": "6431c712",
   "metadata": {
    "ExecuteTime": {
     "end_time": "2022-08-04T22:39:55.203714Z",
     "start_time": "2022-08-04T22:39:55.186820Z"
    }
   },
   "outputs": [],
   "source": [
    "basics_url='https://datasets.imdbws.com/title.basics.tsv.gz'"
   ]
  },
  {
   "cell_type": "code",
   "execution_count": 181,
   "id": "d17bcf74",
   "metadata": {
    "ExecuteTime": {
     "end_time": "2022-08-04T22:39:55.880247Z",
     "start_time": "2022-08-04T22:39:55.865868Z"
    }
   },
   "outputs": [],
   "source": [
    "ratings_url='https://datasets.imdbws.com/title.ratings.tsv.gz'"
   ]
  },
  {
   "cell_type": "code",
   "execution_count": 182,
   "id": "561c33a3",
   "metadata": {
    "ExecuteTime": {
     "end_time": "2022-08-04T22:39:56.480459Z",
     "start_time": "2022-08-04T22:39:56.466598Z"
    }
   },
   "outputs": [],
   "source": [
    "akas_url='https://datasets.imdbws.com/title.akas.tsv.gz'"
   ]
  },
  {
   "cell_type": "code",
   "execution_count": 183,
   "id": "7c000d3d",
   "metadata": {
    "ExecuteTime": {
     "end_time": "2022-08-04T22:40:13.880501Z",
     "start_time": "2022-08-04T22:39:57.950551Z"
    }
   },
   "outputs": [
    {
     "name": "stderr",
     "output_type": "stream",
     "text": [
      "C:\\Users\\Alpha\\AppData\\Local\\Temp\\ipykernel_23180\\1344591589.py:1: DtypeWarning: Columns (4,5) have mixed types. Specify dtype option on import or set low_memory=False.\n",
      "  basics= pd.read_csv(basics_url, sep='\\t', low_memory='False')\n"
     ]
    }
   ],
   "source": [
    "basics= pd.read_csv(basics_url, sep='\\t', low_memory='False')"
   ]
  },
  {
   "cell_type": "code",
   "execution_count": 184,
   "id": "6b2dea24",
   "metadata": {
    "ExecuteTime": {
     "end_time": "2022-08-04T22:40:14.665001Z",
     "start_time": "2022-08-04T22:40:13.928768Z"
    }
   },
   "outputs": [],
   "source": [
    "ratings = pd.read_csv(ratings_url, sep='\\t', low_memory='False')"
   ]
  },
  {
   "cell_type": "code",
   "execution_count": 185,
   "id": "3e9121ef",
   "metadata": {
    "ExecuteTime": {
     "end_time": "2022-08-04T22:40:50.702642Z",
     "start_time": "2022-08-04T22:40:14.712828Z"
    }
   },
   "outputs": [
    {
     "name": "stderr",
     "output_type": "stream",
     "text": [
      "C:\\Users\\Alpha\\AppData\\Local\\Temp\\ipykernel_23180\\3527530519.py:1: DtypeWarning: Columns (7) have mixed types. Specify dtype option on import or set low_memory=False.\n",
      "  akas = pd.read_csv(akas_url, sep='\\t', low_memory='False')\n"
     ]
    }
   ],
   "source": [
    "akas = pd.read_csv(akas_url, sep='\\t', low_memory='False')"
   ]
  },
  {
   "cell_type": "code",
   "execution_count": 186,
   "id": "3b2f608d",
   "metadata": {
    "ExecuteTime": {
     "end_time": "2022-08-04T22:41:29.302543Z",
     "start_time": "2022-08-04T22:41:18.012548Z"
    }
   },
   "outputs": [],
   "source": [
    "basics.replace({'\\\\N':np.nan}, inplace=True)"
   ]
  },
  {
   "cell_type": "code",
   "execution_count": 187,
   "id": "46c7b0d5",
   "metadata": {
    "ExecuteTime": {
     "end_time": "2022-08-04T22:41:29.533099Z",
     "start_time": "2022-08-04T22:41:29.366532Z"
    }
   },
   "outputs": [],
   "source": [
    "ratings.replace({'\\\\N':np.nan}, inplace=True)"
   ]
  },
  {
   "cell_type": "code",
   "execution_count": 188,
   "id": "140cf23c",
   "metadata": {
    "ExecuteTime": {
     "end_time": "2022-08-04T22:41:57.256494Z",
     "start_time": "2022-08-04T22:41:29.581212Z"
    }
   },
   "outputs": [],
   "source": [
    "akas.replace({'\\\\N':np.nan}, inplace=True)"
   ]
  },
  {
   "cell_type": "code",
   "execution_count": 189,
   "id": "1cd54794",
   "metadata": {
    "ExecuteTime": {
     "end_time": "2022-08-04T22:41:57.333345Z",
     "start_time": "2022-08-04T22:41:57.319951Z"
    }
   },
   "outputs": [
    {
     "data": {
      "text/html": [
       "<div>\n",
       "<style scoped>\n",
       "    .dataframe tbody tr th:only-of-type {\n",
       "        vertical-align: middle;\n",
       "    }\n",
       "\n",
       "    .dataframe tbody tr th {\n",
       "        vertical-align: top;\n",
       "    }\n",
       "\n",
       "    .dataframe thead th {\n",
       "        text-align: right;\n",
       "    }\n",
       "</style>\n",
       "<table border=\"1\" class=\"dataframe\">\n",
       "  <thead>\n",
       "    <tr style=\"text-align: right;\">\n",
       "      <th></th>\n",
       "      <th>tconst</th>\n",
       "      <th>titleType</th>\n",
       "      <th>primaryTitle</th>\n",
       "      <th>originalTitle</th>\n",
       "      <th>isAdult</th>\n",
       "      <th>startYear</th>\n",
       "      <th>endYear</th>\n",
       "      <th>runtimeMinutes</th>\n",
       "      <th>genres</th>\n",
       "    </tr>\n",
       "  </thead>\n",
       "  <tbody>\n",
       "    <tr>\n",
       "      <th>0</th>\n",
       "      <td>tt0000001</td>\n",
       "      <td>short</td>\n",
       "      <td>Carmencita</td>\n",
       "      <td>Carmencita</td>\n",
       "      <td>0</td>\n",
       "      <td>1894</td>\n",
       "      <td>NaN</td>\n",
       "      <td>1</td>\n",
       "      <td>Documentary,Short</td>\n",
       "    </tr>\n",
       "    <tr>\n",
       "      <th>1</th>\n",
       "      <td>tt0000002</td>\n",
       "      <td>short</td>\n",
       "      <td>Le clown et ses chiens</td>\n",
       "      <td>Le clown et ses chiens</td>\n",
       "      <td>0</td>\n",
       "      <td>1892</td>\n",
       "      <td>NaN</td>\n",
       "      <td>5</td>\n",
       "      <td>Animation,Short</td>\n",
       "    </tr>\n",
       "    <tr>\n",
       "      <th>2</th>\n",
       "      <td>tt0000003</td>\n",
       "      <td>short</td>\n",
       "      <td>Pauvre Pierrot</td>\n",
       "      <td>Pauvre Pierrot</td>\n",
       "      <td>0</td>\n",
       "      <td>1892</td>\n",
       "      <td>NaN</td>\n",
       "      <td>4</td>\n",
       "      <td>Animation,Comedy,Romance</td>\n",
       "    </tr>\n",
       "    <tr>\n",
       "      <th>3</th>\n",
       "      <td>tt0000004</td>\n",
       "      <td>short</td>\n",
       "      <td>Un bon bock</td>\n",
       "      <td>Un bon bock</td>\n",
       "      <td>0</td>\n",
       "      <td>1892</td>\n",
       "      <td>NaN</td>\n",
       "      <td>12</td>\n",
       "      <td>Animation,Short</td>\n",
       "    </tr>\n",
       "    <tr>\n",
       "      <th>4</th>\n",
       "      <td>tt0000005</td>\n",
       "      <td>short</td>\n",
       "      <td>Blacksmith Scene</td>\n",
       "      <td>Blacksmith Scene</td>\n",
       "      <td>0</td>\n",
       "      <td>1893</td>\n",
       "      <td>NaN</td>\n",
       "      <td>1</td>\n",
       "      <td>Comedy,Short</td>\n",
       "    </tr>\n",
       "    <tr>\n",
       "      <th>...</th>\n",
       "      <td>...</td>\n",
       "      <td>...</td>\n",
       "      <td>...</td>\n",
       "      <td>...</td>\n",
       "      <td>...</td>\n",
       "      <td>...</td>\n",
       "      <td>...</td>\n",
       "      <td>...</td>\n",
       "      <td>...</td>\n",
       "    </tr>\n",
       "    <tr>\n",
       "      <th>9119482</th>\n",
       "      <td>tt9916848</td>\n",
       "      <td>tvEpisode</td>\n",
       "      <td>Episode #3.17</td>\n",
       "      <td>Episode #3.17</td>\n",
       "      <td>0</td>\n",
       "      <td>2010</td>\n",
       "      <td>NaN</td>\n",
       "      <td>NaN</td>\n",
       "      <td>Action,Drama,Family</td>\n",
       "    </tr>\n",
       "    <tr>\n",
       "      <th>9119483</th>\n",
       "      <td>tt9916850</td>\n",
       "      <td>tvEpisode</td>\n",
       "      <td>Episode #3.19</td>\n",
       "      <td>Episode #3.19</td>\n",
       "      <td>0</td>\n",
       "      <td>2010</td>\n",
       "      <td>NaN</td>\n",
       "      <td>NaN</td>\n",
       "      <td>Action,Drama,Family</td>\n",
       "    </tr>\n",
       "    <tr>\n",
       "      <th>9119484</th>\n",
       "      <td>tt9916852</td>\n",
       "      <td>tvEpisode</td>\n",
       "      <td>Episode #3.20</td>\n",
       "      <td>Episode #3.20</td>\n",
       "      <td>0</td>\n",
       "      <td>2010</td>\n",
       "      <td>NaN</td>\n",
       "      <td>NaN</td>\n",
       "      <td>Action,Drama,Family</td>\n",
       "    </tr>\n",
       "    <tr>\n",
       "      <th>9119485</th>\n",
       "      <td>tt9916856</td>\n",
       "      <td>short</td>\n",
       "      <td>The Wind</td>\n",
       "      <td>The Wind</td>\n",
       "      <td>0</td>\n",
       "      <td>2015</td>\n",
       "      <td>NaN</td>\n",
       "      <td>27</td>\n",
       "      <td>Short</td>\n",
       "    </tr>\n",
       "    <tr>\n",
       "      <th>9119486</th>\n",
       "      <td>tt9916880</td>\n",
       "      <td>tvEpisode</td>\n",
       "      <td>Horrid Henry Knows It All</td>\n",
       "      <td>Horrid Henry Knows It All</td>\n",
       "      <td>0</td>\n",
       "      <td>2014</td>\n",
       "      <td>NaN</td>\n",
       "      <td>10</td>\n",
       "      <td>Adventure,Animation,Comedy</td>\n",
       "    </tr>\n",
       "  </tbody>\n",
       "</table>\n",
       "<p>9119487 rows × 9 columns</p>\n",
       "</div>"
      ],
      "text/plain": [
       "            tconst  titleType               primaryTitle  \\\n",
       "0        tt0000001      short                 Carmencita   \n",
       "1        tt0000002      short     Le clown et ses chiens   \n",
       "2        tt0000003      short             Pauvre Pierrot   \n",
       "3        tt0000004      short                Un bon bock   \n",
       "4        tt0000005      short           Blacksmith Scene   \n",
       "...            ...        ...                        ...   \n",
       "9119482  tt9916848  tvEpisode              Episode #3.17   \n",
       "9119483  tt9916850  tvEpisode              Episode #3.19   \n",
       "9119484  tt9916852  tvEpisode              Episode #3.20   \n",
       "9119485  tt9916856      short                   The Wind   \n",
       "9119486  tt9916880  tvEpisode  Horrid Henry Knows It All   \n",
       "\n",
       "                     originalTitle isAdult startYear endYear runtimeMinutes  \\\n",
       "0                       Carmencita       0      1894     NaN              1   \n",
       "1           Le clown et ses chiens       0      1892     NaN              5   \n",
       "2                   Pauvre Pierrot       0      1892     NaN              4   \n",
       "3                      Un bon bock       0      1892     NaN             12   \n",
       "4                 Blacksmith Scene       0      1893     NaN              1   \n",
       "...                            ...     ...       ...     ...            ...   \n",
       "9119482              Episode #3.17       0      2010     NaN            NaN   \n",
       "9119483              Episode #3.19       0      2010     NaN            NaN   \n",
       "9119484              Episode #3.20       0      2010     NaN            NaN   \n",
       "9119485                   The Wind       0      2015     NaN             27   \n",
       "9119486  Horrid Henry Knows It All       0      2014     NaN             10   \n",
       "\n",
       "                             genres  \n",
       "0                 Documentary,Short  \n",
       "1                   Animation,Short  \n",
       "2          Animation,Comedy,Romance  \n",
       "3                   Animation,Short  \n",
       "4                      Comedy,Short  \n",
       "...                             ...  \n",
       "9119482         Action,Drama,Family  \n",
       "9119483         Action,Drama,Family  \n",
       "9119484         Action,Drama,Family  \n",
       "9119485                       Short  \n",
       "9119486  Adventure,Animation,Comedy  \n",
       "\n",
       "[9119487 rows x 9 columns]"
      ]
     },
     "execution_count": 189,
     "metadata": {},
     "output_type": "execute_result"
    }
   ],
   "source": [
    "basics"
   ]
  },
  {
   "cell_type": "code",
   "execution_count": 190,
   "id": "9d9bc085",
   "metadata": {
    "ExecuteTime": {
     "end_time": "2022-08-04T22:42:02.930206Z",
     "start_time": "2022-08-04T22:42:02.520509Z"
    }
   },
   "outputs": [
    {
     "data": {
      "text/plain": [
       "tvEpisode       6865649\n",
       "short            882039\n",
       "movie            617304\n",
       "video            263728\n",
       "tvSeries         229026\n",
       "tvMovie          137022\n",
       "tvMiniSeries      44555\n",
       "tvSpecial         37794\n",
       "videoGame         31742\n",
       "tvShort           10626\n",
       "tvPilot               2\n",
       "Name: titleType, dtype: int64"
      ]
     },
     "execution_count": 190,
     "metadata": {},
     "output_type": "execute_result"
    }
   ],
   "source": [
    "basics['titleType'].value_counts()"
   ]
  },
  {
   "cell_type": "code",
   "execution_count": 191,
   "id": "66a094c9",
   "metadata": {
    "ExecuteTime": {
     "end_time": "2022-08-04T22:42:08.372537Z",
     "start_time": "2022-08-04T22:42:04.993265Z"
    }
   },
   "outputs": [],
   "source": [
    "basics = basics[basics[\"titleType\"].str.contains(\"tvEpisode\")==False]"
   ]
  },
  {
   "cell_type": "code",
   "execution_count": 192,
   "id": "d5c2fa51",
   "metadata": {
    "ExecuteTime": {
     "end_time": "2022-08-04T22:42:09.310571Z",
     "start_time": "2022-08-04T22:42:08.420251Z"
    }
   },
   "outputs": [],
   "source": [
    "basics = basics[basics[\"titleType\"].str.contains(\"short\")==False]"
   ]
  },
  {
   "cell_type": "code",
   "execution_count": 193,
   "id": "eba79414",
   "metadata": {
    "ExecuteTime": {
     "end_time": "2022-08-04T22:42:10.771123Z",
     "start_time": "2022-08-04T22:42:10.203867Z"
    }
   },
   "outputs": [],
   "source": [
    "basics = basics[basics[\"titleType\"].str.contains(\"video\")==False]"
   ]
  },
  {
   "cell_type": "code",
   "execution_count": 194,
   "id": "387f1d1a",
   "metadata": {
    "ExecuteTime": {
     "end_time": "2022-08-04T22:42:11.263359Z",
     "start_time": "2022-08-04T22:42:10.819314Z"
    }
   },
   "outputs": [],
   "source": [
    "basics = basics[basics[\"titleType\"].str.contains(\"tvMovie\")==False]"
   ]
  },
  {
   "cell_type": "code",
   "execution_count": 195,
   "id": "36a1fba8",
   "metadata": {
    "ExecuteTime": {
     "end_time": "2022-08-04T22:42:11.693874Z",
     "start_time": "2022-08-04T22:42:11.311289Z"
    }
   },
   "outputs": [],
   "source": [
    "basics = basics[basics[\"titleType\"].str.contains(\"tvSeries\")==False]"
   ]
  },
  {
   "cell_type": "code",
   "execution_count": 196,
   "id": "f61df3be",
   "metadata": {
    "ExecuteTime": {
     "end_time": "2022-08-04T22:42:12.047767Z",
     "start_time": "2022-08-04T22:42:11.742038Z"
    }
   },
   "outputs": [],
   "source": [
    "basics = basics[basics[\"titleType\"].str.contains(\"tvMiniSeries\")==False]"
   ]
  },
  {
   "cell_type": "code",
   "execution_count": 197,
   "id": "fd4082eb",
   "metadata": {
    "ExecuteTime": {
     "end_time": "2022-08-04T22:42:12.386342Z",
     "start_time": "2022-08-04T22:42:12.096045Z"
    }
   },
   "outputs": [],
   "source": [
    "basics = basics[basics[\"titleType\"].str.contains(\"tvShort\")==False]"
   ]
  },
  {
   "cell_type": "code",
   "execution_count": 198,
   "id": "5ab4af9f",
   "metadata": {
    "ExecuteTime": {
     "end_time": "2022-08-04T22:42:49.705532Z",
     "start_time": "2022-08-04T22:42:49.410800Z"
    }
   },
   "outputs": [],
   "source": [
    "basics = basics[basics[\"titleType\"].str.contains(\"videoGame\")==False]"
   ]
  },
  {
   "cell_type": "code",
   "execution_count": 199,
   "id": "64895beb",
   "metadata": {
    "ExecuteTime": {
     "end_time": "2022-08-04T22:42:50.689195Z",
     "start_time": "2022-08-04T22:42:50.676283Z"
    }
   },
   "outputs": [
    {
     "data": {
      "text/html": [
       "<div>\n",
       "<style scoped>\n",
       "    .dataframe tbody tr th:only-of-type {\n",
       "        vertical-align: middle;\n",
       "    }\n",
       "\n",
       "    .dataframe tbody tr th {\n",
       "        vertical-align: top;\n",
       "    }\n",
       "\n",
       "    .dataframe thead th {\n",
       "        text-align: right;\n",
       "    }\n",
       "</style>\n",
       "<table border=\"1\" class=\"dataframe\">\n",
       "  <thead>\n",
       "    <tr style=\"text-align: right;\">\n",
       "      <th></th>\n",
       "      <th>tconst</th>\n",
       "      <th>titleType</th>\n",
       "      <th>primaryTitle</th>\n",
       "      <th>originalTitle</th>\n",
       "      <th>isAdult</th>\n",
       "      <th>startYear</th>\n",
       "      <th>endYear</th>\n",
       "      <th>runtimeMinutes</th>\n",
       "      <th>genres</th>\n",
       "    </tr>\n",
       "  </thead>\n",
       "  <tbody>\n",
       "    <tr>\n",
       "      <th>8</th>\n",
       "      <td>tt0000009</td>\n",
       "      <td>movie</td>\n",
       "      <td>Miss Jerry</td>\n",
       "      <td>Miss Jerry</td>\n",
       "      <td>0</td>\n",
       "      <td>1894</td>\n",
       "      <td>NaN</td>\n",
       "      <td>45</td>\n",
       "      <td>Romance</td>\n",
       "    </tr>\n",
       "    <tr>\n",
       "      <th>498</th>\n",
       "      <td>tt0000502</td>\n",
       "      <td>movie</td>\n",
       "      <td>Bohemios</td>\n",
       "      <td>Bohemios</td>\n",
       "      <td>0</td>\n",
       "      <td>1905</td>\n",
       "      <td>NaN</td>\n",
       "      <td>100</td>\n",
       "      <td>NaN</td>\n",
       "    </tr>\n",
       "    <tr>\n",
       "      <th>570</th>\n",
       "      <td>tt0000574</td>\n",
       "      <td>movie</td>\n",
       "      <td>The Story of the Kelly Gang</td>\n",
       "      <td>The Story of the Kelly Gang</td>\n",
       "      <td>0</td>\n",
       "      <td>1906</td>\n",
       "      <td>NaN</td>\n",
       "      <td>70</td>\n",
       "      <td>Action,Adventure,Biography</td>\n",
       "    </tr>\n",
       "    <tr>\n",
       "      <th>587</th>\n",
       "      <td>tt0000591</td>\n",
       "      <td>movie</td>\n",
       "      <td>The Prodigal Son</td>\n",
       "      <td>L'enfant prodigue</td>\n",
       "      <td>0</td>\n",
       "      <td>1907</td>\n",
       "      <td>NaN</td>\n",
       "      <td>90</td>\n",
       "      <td>Drama</td>\n",
       "    </tr>\n",
       "    <tr>\n",
       "      <th>610</th>\n",
       "      <td>tt0000615</td>\n",
       "      <td>movie</td>\n",
       "      <td>Robbery Under Arms</td>\n",
       "      <td>Robbery Under Arms</td>\n",
       "      <td>0</td>\n",
       "      <td>1907</td>\n",
       "      <td>NaN</td>\n",
       "      <td>NaN</td>\n",
       "      <td>Drama</td>\n",
       "    </tr>\n",
       "    <tr>\n",
       "      <th>...</th>\n",
       "      <td>...</td>\n",
       "      <td>...</td>\n",
       "      <td>...</td>\n",
       "      <td>...</td>\n",
       "      <td>...</td>\n",
       "      <td>...</td>\n",
       "      <td>...</td>\n",
       "      <td>...</td>\n",
       "      <td>...</td>\n",
       "    </tr>\n",
       "    <tr>\n",
       "      <th>9119377</th>\n",
       "      <td>tt9916622</td>\n",
       "      <td>movie</td>\n",
       "      <td>Rodolpho Teóphilo - O Legado de um Pioneiro</td>\n",
       "      <td>Rodolpho Teóphilo - O Legado de um Pioneiro</td>\n",
       "      <td>0</td>\n",
       "      <td>2015</td>\n",
       "      <td>NaN</td>\n",
       "      <td>57</td>\n",
       "      <td>Documentary</td>\n",
       "    </tr>\n",
       "    <tr>\n",
       "      <th>9119404</th>\n",
       "      <td>tt9916680</td>\n",
       "      <td>movie</td>\n",
       "      <td>De la ilusión al desconcierto: cine colombiano...</td>\n",
       "      <td>De la ilusión al desconcierto: cine colombiano...</td>\n",
       "      <td>0</td>\n",
       "      <td>2007</td>\n",
       "      <td>NaN</td>\n",
       "      <td>100</td>\n",
       "      <td>Documentary</td>\n",
       "    </tr>\n",
       "    <tr>\n",
       "      <th>9119416</th>\n",
       "      <td>tt9916706</td>\n",
       "      <td>movie</td>\n",
       "      <td>Dankyavar Danka</td>\n",
       "      <td>Dankyavar Danka</td>\n",
       "      <td>0</td>\n",
       "      <td>2013</td>\n",
       "      <td>NaN</td>\n",
       "      <td>NaN</td>\n",
       "      <td>Comedy</td>\n",
       "    </tr>\n",
       "    <tr>\n",
       "      <th>9119427</th>\n",
       "      <td>tt9916730</td>\n",
       "      <td>movie</td>\n",
       "      <td>6 Gunn</td>\n",
       "      <td>6 Gunn</td>\n",
       "      <td>0</td>\n",
       "      <td>2017</td>\n",
       "      <td>NaN</td>\n",
       "      <td>116</td>\n",
       "      <td>NaN</td>\n",
       "    </tr>\n",
       "    <tr>\n",
       "      <th>9119437</th>\n",
       "      <td>tt9916754</td>\n",
       "      <td>movie</td>\n",
       "      <td>Chico Albuquerque - Revelações</td>\n",
       "      <td>Chico Albuquerque - Revelações</td>\n",
       "      <td>0</td>\n",
       "      <td>2013</td>\n",
       "      <td>NaN</td>\n",
       "      <td>49</td>\n",
       "      <td>Documentary</td>\n",
       "    </tr>\n",
       "  </tbody>\n",
       "</table>\n",
       "<p>655100 rows × 9 columns</p>\n",
       "</div>"
      ],
      "text/plain": [
       "            tconst titleType  \\\n",
       "8        tt0000009     movie   \n",
       "498      tt0000502     movie   \n",
       "570      tt0000574     movie   \n",
       "587      tt0000591     movie   \n",
       "610      tt0000615     movie   \n",
       "...            ...       ...   \n",
       "9119377  tt9916622     movie   \n",
       "9119404  tt9916680     movie   \n",
       "9119416  tt9916706     movie   \n",
       "9119427  tt9916730     movie   \n",
       "9119437  tt9916754     movie   \n",
       "\n",
       "                                              primaryTitle  \\\n",
       "8                                               Miss Jerry   \n",
       "498                                               Bohemios   \n",
       "570                            The Story of the Kelly Gang   \n",
       "587                                       The Prodigal Son   \n",
       "610                                     Robbery Under Arms   \n",
       "...                                                    ...   \n",
       "9119377        Rodolpho Teóphilo - O Legado de um Pioneiro   \n",
       "9119404  De la ilusión al desconcierto: cine colombiano...   \n",
       "9119416                                    Dankyavar Danka   \n",
       "9119427                                             6 Gunn   \n",
       "9119437                     Chico Albuquerque - Revelações   \n",
       "\n",
       "                                             originalTitle isAdult startYear  \\\n",
       "8                                               Miss Jerry       0      1894   \n",
       "498                                               Bohemios       0      1905   \n",
       "570                            The Story of the Kelly Gang       0      1906   \n",
       "587                                      L'enfant prodigue       0      1907   \n",
       "610                                     Robbery Under Arms       0      1907   \n",
       "...                                                    ...     ...       ...   \n",
       "9119377        Rodolpho Teóphilo - O Legado de um Pioneiro       0      2015   \n",
       "9119404  De la ilusión al desconcierto: cine colombiano...       0      2007   \n",
       "9119416                                    Dankyavar Danka       0      2013   \n",
       "9119427                                             6 Gunn       0      2017   \n",
       "9119437                     Chico Albuquerque - Revelações       0      2013   \n",
       "\n",
       "        endYear runtimeMinutes                      genres  \n",
       "8           NaN             45                     Romance  \n",
       "498         NaN            100                         NaN  \n",
       "570         NaN             70  Action,Adventure,Biography  \n",
       "587         NaN             90                       Drama  \n",
       "610         NaN            NaN                       Drama  \n",
       "...         ...            ...                         ...  \n",
       "9119377     NaN             57                 Documentary  \n",
       "9119404     NaN            100                 Documentary  \n",
       "9119416     NaN            NaN                      Comedy  \n",
       "9119427     NaN            116                         NaN  \n",
       "9119437     NaN             49                 Documentary  \n",
       "\n",
       "[655100 rows x 9 columns]"
      ]
     },
     "execution_count": 199,
     "metadata": {},
     "output_type": "execute_result"
    }
   ],
   "source": [
    "basics"
   ]
  },
  {
   "cell_type": "code",
   "execution_count": 200,
   "id": "9f196818",
   "metadata": {
    "ExecuteTime": {
     "end_time": "2022-08-04T22:42:54.058148Z",
     "start_time": "2022-08-04T22:42:54.019815Z"
    }
   },
   "outputs": [
    {
     "data": {
      "text/plain": [
       "2018    20006\n",
       "2017    19902\n",
       "2019    19793\n",
       "2021    19662\n",
       "2016    19463\n",
       "        ...  \n",
       "2000        1\n",
       "2021        1\n",
       "2019        1\n",
       "1906        1\n",
       "1896        1\n",
       "Name: startYear, Length: 222, dtype: int64"
      ]
     },
     "execution_count": 200,
     "metadata": {},
     "output_type": "execute_result"
    }
   ],
   "source": [
    "basics['startYear'].value_counts()"
   ]
  },
  {
   "cell_type": "code",
   "execution_count": 201,
   "id": "d833f1c5",
   "metadata": {
    "ExecuteTime": {
     "end_time": "2022-08-04T22:42:56.890066Z",
     "start_time": "2022-08-04T22:42:56.285306Z"
    }
   },
   "outputs": [
    {
     "name": "stdout",
     "output_type": "stream",
     "text": [
      "<class 'pandas.core.frame.DataFrame'>\n",
      "Int64Index: 655100 entries, 8 to 9119437\n",
      "Data columns (total 9 columns):\n",
      " #   Column          Non-Null Count   Dtype \n",
      "---  ------          --------------   ----- \n",
      " 0   tconst          655100 non-null  object\n",
      " 1   titleType       655100 non-null  object\n",
      " 2   primaryTitle    655100 non-null  object\n",
      " 3   originalTitle   655100 non-null  object\n",
      " 4   isAdult         655100 non-null  object\n",
      " 5   startYear       573496 non-null  object\n",
      " 6   endYear         1 non-null       object\n",
      " 7   runtimeMinutes  407591 non-null  object\n",
      " 8   genres          577981 non-null  object\n",
      "dtypes: object(9)\n",
      "memory usage: 50.0+ MB\n"
     ]
    }
   ],
   "source": [
    "basics.info()"
   ]
  },
  {
   "cell_type": "code",
   "execution_count": 202,
   "id": "17cf02db",
   "metadata": {
    "ExecuteTime": {
     "end_time": "2022-08-04T22:43:02.146927Z",
     "start_time": "2022-08-04T22:43:01.539783Z"
    }
   },
   "outputs": [
    {
     "data": {
      "text/plain": [
       "tconst                 0\n",
       "titleType              0\n",
       "primaryTitle           0\n",
       "originalTitle          0\n",
       "isAdult                0\n",
       "startYear              0\n",
       "endYear           376097\n",
       "runtimeMinutes         0\n",
       "genres                 0\n",
       "dtype: int64"
      ]
     },
     "execution_count": 202,
     "metadata": {},
     "output_type": "execute_result"
    }
   ],
   "source": [
    "basics = basics.dropna(subset=['genres', 'runtimeMinutes', 'startYear'])\n",
    "basics.isna().sum()"
   ]
  },
  {
   "cell_type": "code",
   "execution_count": 203,
   "id": "0e48d845",
   "metadata": {
    "ExecuteTime": {
     "end_time": "2022-08-04T22:43:03.532725Z",
     "start_time": "2022-08-04T22:43:03.522805Z"
    }
   },
   "outputs": [
    {
     "data": {
      "text/plain": [
       "tconst            object\n",
       "titleType         object\n",
       "primaryTitle      object\n",
       "originalTitle     object\n",
       "isAdult           object\n",
       "startYear         object\n",
       "endYear           object\n",
       "runtimeMinutes    object\n",
       "genres            object\n",
       "dtype: object"
      ]
     },
     "execution_count": 203,
     "metadata": {},
     "output_type": "execute_result"
    }
   ],
   "source": [
    "basics.dtypes"
   ]
  },
  {
   "cell_type": "code",
   "execution_count": 204,
   "id": "492975f8",
   "metadata": {
    "ExecuteTime": {
     "end_time": "2022-08-04T22:43:06.272992Z",
     "start_time": "2022-08-04T22:43:06.173230Z"
    }
   },
   "outputs": [
    {
     "name": "stderr",
     "output_type": "stream",
     "text": [
      "C:\\Users\\Alpha\\AppData\\Local\\Temp\\ipykernel_23180\\3388318893.py:1: SettingWithCopyWarning: \n",
      "A value is trying to be set on a copy of a slice from a DataFrame.\n",
      "Try using .loc[row_indexer,col_indexer] = value instead\n",
      "\n",
      "See the caveats in the documentation: https://pandas.pydata.org/pandas-docs/stable/user_guide/indexing.html#returning-a-view-versus-a-copy\n",
      "  basics['startYear'] = basics['startYear'].astype(int)\n"
     ]
    }
   ],
   "source": [
    "basics['startYear'] = basics['startYear'].astype(int)"
   ]
  },
  {
   "cell_type": "code",
   "execution_count": 205,
   "id": "d53c8a9d",
   "metadata": {
    "ExecuteTime": {
     "end_time": "2022-08-04T22:43:10.609915Z",
     "start_time": "2022-08-04T22:43:10.399875Z"
    }
   },
   "outputs": [
    {
     "data": {
      "text/html": [
       "<div>\n",
       "<style scoped>\n",
       "    .dataframe tbody tr th:only-of-type {\n",
       "        vertical-align: middle;\n",
       "    }\n",
       "\n",
       "    .dataframe tbody tr th {\n",
       "        vertical-align: top;\n",
       "    }\n",
       "\n",
       "    .dataframe thead th {\n",
       "        text-align: right;\n",
       "    }\n",
       "</style>\n",
       "<table border=\"1\" class=\"dataframe\">\n",
       "  <thead>\n",
       "    <tr style=\"text-align: right;\">\n",
       "      <th></th>\n",
       "      <th>tconst</th>\n",
       "      <th>titleType</th>\n",
       "      <th>primaryTitle</th>\n",
       "      <th>originalTitle</th>\n",
       "      <th>isAdult</th>\n",
       "      <th>startYear</th>\n",
       "      <th>endYear</th>\n",
       "      <th>runtimeMinutes</th>\n",
       "      <th>genres</th>\n",
       "    </tr>\n",
       "  </thead>\n",
       "  <tbody>\n",
       "    <tr>\n",
       "      <th>8</th>\n",
       "      <td>tt0000009</td>\n",
       "      <td>movie</td>\n",
       "      <td>Miss Jerry</td>\n",
       "      <td>Miss Jerry</td>\n",
       "      <td>0</td>\n",
       "      <td>1894</td>\n",
       "      <td>NaN</td>\n",
       "      <td>45</td>\n",
       "      <td>Romance</td>\n",
       "    </tr>\n",
       "    <tr>\n",
       "      <th>570</th>\n",
       "      <td>tt0000574</td>\n",
       "      <td>movie</td>\n",
       "      <td>The Story of the Kelly Gang</td>\n",
       "      <td>The Story of the Kelly Gang</td>\n",
       "      <td>0</td>\n",
       "      <td>1906</td>\n",
       "      <td>NaN</td>\n",
       "      <td>70</td>\n",
       "      <td>Action,Adventure,Biography</td>\n",
       "    </tr>\n",
       "    <tr>\n",
       "      <th>587</th>\n",
       "      <td>tt0000591</td>\n",
       "      <td>movie</td>\n",
       "      <td>The Prodigal Son</td>\n",
       "      <td>L'enfant prodigue</td>\n",
       "      <td>0</td>\n",
       "      <td>1907</td>\n",
       "      <td>NaN</td>\n",
       "      <td>90</td>\n",
       "      <td>Drama</td>\n",
       "    </tr>\n",
       "    <tr>\n",
       "      <th>672</th>\n",
       "      <td>tt0000679</td>\n",
       "      <td>movie</td>\n",
       "      <td>The Fairylogue and Radio-Plays</td>\n",
       "      <td>The Fairylogue and Radio-Plays</td>\n",
       "      <td>0</td>\n",
       "      <td>1908</td>\n",
       "      <td>NaN</td>\n",
       "      <td>120</td>\n",
       "      <td>Adventure,Fantasy</td>\n",
       "    </tr>\n",
       "    <tr>\n",
       "      <th>1172</th>\n",
       "      <td>tt0001184</td>\n",
       "      <td>movie</td>\n",
       "      <td>Don Juan de Serrallonga</td>\n",
       "      <td>Don Juan de Serrallonga</td>\n",
       "      <td>0</td>\n",
       "      <td>1910</td>\n",
       "      <td>NaN</td>\n",
       "      <td>58</td>\n",
       "      <td>Adventure,Drama</td>\n",
       "    </tr>\n",
       "  </tbody>\n",
       "</table>\n",
       "</div>"
      ],
      "text/plain": [
       "         tconst titleType                    primaryTitle  \\\n",
       "8     tt0000009     movie                      Miss Jerry   \n",
       "570   tt0000574     movie     The Story of the Kelly Gang   \n",
       "587   tt0000591     movie                The Prodigal Son   \n",
       "672   tt0000679     movie  The Fairylogue and Radio-Plays   \n",
       "1172  tt0001184     movie         Don Juan de Serrallonga   \n",
       "\n",
       "                       originalTitle isAdult  startYear endYear  \\\n",
       "8                         Miss Jerry       0       1894     NaN   \n",
       "570      The Story of the Kelly Gang       0       1906     NaN   \n",
       "587                L'enfant prodigue       0       1907     NaN   \n",
       "672   The Fairylogue and Radio-Plays       0       1908     NaN   \n",
       "1172         Don Juan de Serrallonga       0       1910     NaN   \n",
       "\n",
       "     runtimeMinutes                      genres  \n",
       "8                45                     Romance  \n",
       "570              70  Action,Adventure,Biography  \n",
       "587              90                       Drama  \n",
       "672             120           Adventure,Fantasy  \n",
       "1172             58             Adventure,Drama  "
      ]
     },
     "execution_count": 205,
     "metadata": {},
     "output_type": "execute_result"
    }
   ],
   "source": [
    "is_documentary = basics[\"genres\"].str.contains('Documentary', case=False)\n",
    "basics = basics[~is_documentary]\n",
    "basics.head()"
   ]
  },
  {
   "cell_type": "code",
   "execution_count": 159,
   "id": "dce50e09",
   "metadata": {
    "ExecuteTime": {
     "end_time": "2022-08-04T22:38:43.193945Z",
     "start_time": "2022-08-04T22:38:29.206160Z"
    }
   },
   "outputs": [
    {
     "name": "stdout",
     "output_type": "stream",
     "text": [
      "Requirement already satisfied: tmdbsimple in c:\\users\\alpha\\anaconda3\\envs\\dojo-env\\lib\\site-packages (2.9.1)\n",
      "Requirement already satisfied: requests in c:\\users\\alpha\\anaconda3\\envs\\dojo-env\\lib\\site-packages (from tmdbsimple) (2.28.1)\n",
      "Requirement already satisfied: idna<4,>=2.5 in c:\\users\\alpha\\anaconda3\\envs\\dojo-env\\lib\\site-packages (from requests->tmdbsimple) (3.3)\n",
      "Requirement already satisfied: certifi>=2017.4.17 in c:\\users\\alpha\\anaconda3\\envs\\dojo-env\\lib\\site-packages (from requests->tmdbsimple) (2022.6.15)\n",
      "Requirement already satisfied: urllib3<1.27,>=1.21.1 in c:\\users\\alpha\\anaconda3\\envs\\dojo-env\\lib\\site-packages (from requests->tmdbsimple) (1.26.8)\n",
      "Requirement already satisfied: charset-normalizer<3,>=2 in c:\\users\\alpha\\anaconda3\\envs\\dojo-env\\lib\\site-packages (from requests->tmdbsimple) (2.1.0)\n"
     ]
    }
   ],
   "source": [
    "#!pip install tmdbsimple"
   ]
  },
  {
   "cell_type": "code",
   "execution_count": 207,
   "id": "3c700c22",
   "metadata": {
    "ExecuteTime": {
     "end_time": "2022-08-04T22:43:20.271008Z",
     "start_time": "2022-08-04T22:43:20.251637Z"
    }
   },
   "outputs": [
    {
     "data": {
      "text/plain": [
       "dict_keys(['api-key'])"
      ]
     },
     "execution_count": 207,
     "metadata": {},
     "output_type": "execute_result"
    }
   ],
   "source": [
    "import json\n",
    "with open('/Users/Alpha/.secretMovie/tmdb_api.json', 'r') as f:\n",
    "    login = json.load(f)\n",
    "\n",
    "login.keys()\n",
    "\n"
   ]
  },
  {
   "cell_type": "code",
   "execution_count": 208,
   "id": "cdf5fb4f",
   "metadata": {
    "ExecuteTime": {
     "end_time": "2022-08-04T22:43:22.162744Z",
     "start_time": "2022-08-04T22:43:22.153789Z"
    }
   },
   "outputs": [],
   "source": [
    "import tmdbsimple as tmdb\n",
    "tmdb.API_KEY =  login['api-key']"
   ]
  },
  {
   "cell_type": "code",
   "execution_count": 209,
   "id": "cc2f70b0",
   "metadata": {
    "ExecuteTime": {
     "end_time": "2022-08-04T22:43:24.174193Z",
     "start_time": "2022-08-04T22:43:23.956680Z"
    }
   },
   "outputs": [],
   "source": [
    "def get_movie_with_rating(movie_id):\n",
    "\n",
    "    movie = tmdb.Movies(movie_id)\n",
    "\n",
    "    movie_info = movie.info()\n",
    "    releases = movie.releases()\n",
    "\n",
    "    for c in releases['countries']:\n",
    "        if c['iso_3166_1' ] =='US':\n",
    "            movie_info['certification'] = c['certification']\n",
    "    return movie_info\n",
    "\n",
    "def write_json(new_data, filename): \n",
    "    \"\"\"Adapted from: https://www.geeksforgeeks.org/append-to-json-file-using-python/\"\"\"    \n",
    "    \n",
    "    with open(filename,'r+') as file:\n",
    "        # First we load existing data into a dict.\n",
    "        file_data = json.load(file)\n",
    "        ## Choose extend or append\n",
    "        if (type(new_data) == list) & (type(file_data) == list):\n",
    "            file_data.extend(new_data)\n",
    "        else:\n",
    "             file_data.append(new_data)\n",
    "        # Sets file's current position at offset.\n",
    "        file.seek(0)\n",
    "        # convert back to json.\n",
    "        json.dump(file_data, file)\n"
   ]
  },
  {
   "cell_type": "code",
   "execution_count": 210,
   "id": "8dfe5485",
   "metadata": {
    "ExecuteTime": {
     "end_time": "2022-08-04T22:43:26.541926Z",
     "start_time": "2022-08-04T22:43:26.419629Z"
    },
    "scrolled": true
   },
   "outputs": [
    {
     "data": {
      "text/plain": [
       "{'adult': False,\n",
       " 'backdrop_path': '/nNmJRkg8wWnRmzQDe2FwKbPIsJV.jpg',\n",
       " 'belongs_to_collection': {'id': 86311,\n",
       "  'name': 'The Avengers Collection',\n",
       "  'poster_path': '/yFSIUVTCvgYrpalUktulvk3Gi5Y.jpg',\n",
       "  'backdrop_path': '/zuW6fOiusv4X9nnW3paHGfXcSll.jpg'},\n",
       " 'budget': 220000000,\n",
       " 'genres': [{'id': 878, 'name': 'Science Fiction'},\n",
       "  {'id': 28, 'name': 'Action'},\n",
       "  {'id': 12, 'name': 'Adventure'}],\n",
       " 'homepage': 'https://www.marvel.com/movies/the-avengers',\n",
       " 'id': 24428,\n",
       " 'imdb_id': 'tt0848228',\n",
       " 'original_language': 'en',\n",
       " 'original_title': 'The Avengers',\n",
       " 'overview': 'When an unexpected enemy emerges and threatens global safety and security, Nick Fury, director of the international peacekeeping agency known as S.H.I.E.L.D., finds himself in need of a team to pull the world back from the brink of disaster. Spanning the globe, a daring recruitment effort begins!',\n",
       " 'popularity': 290.097,\n",
       " 'poster_path': '/RYMX2wcKCBAr24UyPD7xwmjaTn.jpg',\n",
       " 'production_companies': [{'id': 420,\n",
       "   'logo_path': '/hUzeosd33nzE5MCNsZxCGEKTXaQ.png',\n",
       "   'name': 'Marvel Studios',\n",
       "   'origin_country': 'US'}],\n",
       " 'production_countries': [{'iso_3166_1': 'US',\n",
       "   'name': 'United States of America'}],\n",
       " 'release_date': '2012-04-25',\n",
       " 'revenue': 1518815515,\n",
       " 'runtime': 143,\n",
       " 'spoken_languages': [{'english_name': 'English',\n",
       "   'iso_639_1': 'en',\n",
       "   'name': 'English'},\n",
       "  {'english_name': 'Hindi', 'iso_639_1': 'hi', 'name': 'हिन्दी'},\n",
       "  {'english_name': 'Russian', 'iso_639_1': 'ru', 'name': 'Pусский'}],\n",
       " 'status': 'Released',\n",
       " 'tagline': 'Some assembly required.',\n",
       " 'title': 'The Avengers',\n",
       " 'video': False,\n",
       " 'vote_average': 7.706,\n",
       " 'vote_count': 27302,\n",
       " 'certification': 'PG-13'}"
      ]
     },
     "execution_count": 210,
     "metadata": {},
     "output_type": "execute_result"
    }
   ],
   "source": [
    "test = get_movie_with_rating(\"tt0848228\") \n",
    "test\n",
    "\n"
   ]
  },
  {
   "cell_type": "code",
   "execution_count": 211,
   "id": "7dec896a",
   "metadata": {
    "ExecuteTime": {
     "end_time": "2022-08-04T22:46:04.135098Z",
     "start_time": "2022-08-04T22:46:01.164299Z"
    }
   },
   "outputs": [],
   "source": [
    "## Save current dataframe to file.\n",
    "basics.to_csv(\"Data/title_basics.csv.gz\",compression='gzip',index=False)\n"
   ]
  },
  {
   "cell_type": "code",
   "execution_count": 212,
   "id": "3888677b",
   "metadata": {
    "ExecuteTime": {
     "end_time": "2022-08-04T22:46:11.963403Z",
     "start_time": "2022-08-04T22:46:11.305212Z"
    },
    "scrolled": true
   },
   "outputs": [
    {
     "data": {
      "text/html": [
       "<div>\n",
       "<style scoped>\n",
       "    .dataframe tbody tr th:only-of-type {\n",
       "        vertical-align: middle;\n",
       "    }\n",
       "\n",
       "    .dataframe tbody tr th {\n",
       "        vertical-align: top;\n",
       "    }\n",
       "\n",
       "    .dataframe thead th {\n",
       "        text-align: right;\n",
       "    }\n",
       "</style>\n",
       "<table border=\"1\" class=\"dataframe\">\n",
       "  <thead>\n",
       "    <tr style=\"text-align: right;\">\n",
       "      <th></th>\n",
       "      <th>tconst</th>\n",
       "      <th>titleType</th>\n",
       "      <th>primaryTitle</th>\n",
       "      <th>originalTitle</th>\n",
       "      <th>isAdult</th>\n",
       "      <th>startYear</th>\n",
       "      <th>endYear</th>\n",
       "      <th>runtimeMinutes</th>\n",
       "      <th>genres</th>\n",
       "    </tr>\n",
       "  </thead>\n",
       "  <tbody>\n",
       "    <tr>\n",
       "      <th>0</th>\n",
       "      <td>tt0000009</td>\n",
       "      <td>movie</td>\n",
       "      <td>Miss Jerry</td>\n",
       "      <td>Miss Jerry</td>\n",
       "      <td>0</td>\n",
       "      <td>1894</td>\n",
       "      <td>NaN</td>\n",
       "      <td>45</td>\n",
       "      <td>Romance</td>\n",
       "    </tr>\n",
       "    <tr>\n",
       "      <th>1</th>\n",
       "      <td>tt0000574</td>\n",
       "      <td>movie</td>\n",
       "      <td>The Story of the Kelly Gang</td>\n",
       "      <td>The Story of the Kelly Gang</td>\n",
       "      <td>0</td>\n",
       "      <td>1906</td>\n",
       "      <td>NaN</td>\n",
       "      <td>70</td>\n",
       "      <td>Action,Adventure,Biography</td>\n",
       "    </tr>\n",
       "    <tr>\n",
       "      <th>2</th>\n",
       "      <td>tt0000591</td>\n",
       "      <td>movie</td>\n",
       "      <td>The Prodigal Son</td>\n",
       "      <td>L'enfant prodigue</td>\n",
       "      <td>0</td>\n",
       "      <td>1907</td>\n",
       "      <td>NaN</td>\n",
       "      <td>90</td>\n",
       "      <td>Drama</td>\n",
       "    </tr>\n",
       "    <tr>\n",
       "      <th>3</th>\n",
       "      <td>tt0000679</td>\n",
       "      <td>movie</td>\n",
       "      <td>The Fairylogue and Radio-Plays</td>\n",
       "      <td>The Fairylogue and Radio-Plays</td>\n",
       "      <td>0</td>\n",
       "      <td>1908</td>\n",
       "      <td>NaN</td>\n",
       "      <td>120</td>\n",
       "      <td>Adventure,Fantasy</td>\n",
       "    </tr>\n",
       "    <tr>\n",
       "      <th>4</th>\n",
       "      <td>tt0001184</td>\n",
       "      <td>movie</td>\n",
       "      <td>Don Juan de Serrallonga</td>\n",
       "      <td>Don Juan de Serrallonga</td>\n",
       "      <td>0</td>\n",
       "      <td>1910</td>\n",
       "      <td>NaN</td>\n",
       "      <td>58</td>\n",
       "      <td>Adventure,Drama</td>\n",
       "    </tr>\n",
       "  </tbody>\n",
       "</table>\n",
       "</div>"
      ],
      "text/plain": [
       "      tconst titleType                    primaryTitle  \\\n",
       "0  tt0000009     movie                      Miss Jerry   \n",
       "1  tt0000574     movie     The Story of the Kelly Gang   \n",
       "2  tt0000591     movie                The Prodigal Son   \n",
       "3  tt0000679     movie  The Fairylogue and Radio-Plays   \n",
       "4  tt0001184     movie         Don Juan de Serrallonga   \n",
       "\n",
       "                    originalTitle  isAdult  startYear  endYear  \\\n",
       "0                      Miss Jerry        0       1894      NaN   \n",
       "1     The Story of the Kelly Gang        0       1906      NaN   \n",
       "2               L'enfant prodigue        0       1907      NaN   \n",
       "3  The Fairylogue and Radio-Plays        0       1908      NaN   \n",
       "4         Don Juan de Serrallonga        0       1910      NaN   \n",
       "\n",
       "   runtimeMinutes                      genres  \n",
       "0              45                     Romance  \n",
       "1              70  Action,Adventure,Biography  \n",
       "2              90                       Drama  \n",
       "3             120           Adventure,Fantasy  \n",
       "4              58             Adventure,Drama  "
      ]
     },
     "execution_count": 212,
     "metadata": {},
     "output_type": "execute_result"
    }
   ],
   "source": [
    "# Open saved file and preview again\n",
    "basics = pd.read_csv(\"Data/title_basics.csv.gz\", low_memory = False)\n",
    "basics.head()\n",
    "\n"
   ]
  },
  {
   "cell_type": "code",
   "execution_count": 216,
   "id": "2a3c59b1",
   "metadata": {
    "ExecuteTime": {
     "end_time": "2022-08-04T22:51:45.423965Z",
     "start_time": "2022-08-04T22:51:36.943280Z"
    }
   },
   "outputs": [],
   "source": [
    "ratings.to_csv(\"Data/title_ratings.csv.gz\",compression='gzip',index=False)"
   ]
  },
  {
   "cell_type": "code",
   "execution_count": 217,
   "id": "b25a35a6",
   "metadata": {
    "ExecuteTime": {
     "end_time": "2022-08-04T22:52:02.305761Z",
     "start_time": "2022-08-04T22:52:01.507201Z"
    }
   },
   "outputs": [
    {
     "data": {
      "text/html": [
       "<div>\n",
       "<style scoped>\n",
       "    .dataframe tbody tr th:only-of-type {\n",
       "        vertical-align: middle;\n",
       "    }\n",
       "\n",
       "    .dataframe tbody tr th {\n",
       "        vertical-align: top;\n",
       "    }\n",
       "\n",
       "    .dataframe thead th {\n",
       "        text-align: right;\n",
       "    }\n",
       "</style>\n",
       "<table border=\"1\" class=\"dataframe\">\n",
       "  <thead>\n",
       "    <tr style=\"text-align: right;\">\n",
       "      <th></th>\n",
       "      <th>tconst</th>\n",
       "      <th>averageRating</th>\n",
       "      <th>numVotes</th>\n",
       "    </tr>\n",
       "  </thead>\n",
       "  <tbody>\n",
       "    <tr>\n",
       "      <th>0</th>\n",
       "      <td>tt0000001</td>\n",
       "      <td>5.7</td>\n",
       "      <td>1901</td>\n",
       "    </tr>\n",
       "    <tr>\n",
       "      <th>1</th>\n",
       "      <td>tt0000002</td>\n",
       "      <td>5.9</td>\n",
       "      <td>255</td>\n",
       "    </tr>\n",
       "    <tr>\n",
       "      <th>2</th>\n",
       "      <td>tt0000003</td>\n",
       "      <td>6.5</td>\n",
       "      <td>1696</td>\n",
       "    </tr>\n",
       "    <tr>\n",
       "      <th>3</th>\n",
       "      <td>tt0000004</td>\n",
       "      <td>5.7</td>\n",
       "      <td>167</td>\n",
       "    </tr>\n",
       "    <tr>\n",
       "      <th>4</th>\n",
       "      <td>tt0000005</td>\n",
       "      <td>6.2</td>\n",
       "      <td>2515</td>\n",
       "    </tr>\n",
       "  </tbody>\n",
       "</table>\n",
       "</div>"
      ],
      "text/plain": [
       "      tconst  averageRating  numVotes\n",
       "0  tt0000001            5.7      1901\n",
       "1  tt0000002            5.9       255\n",
       "2  tt0000003            6.5      1696\n",
       "3  tt0000004            5.7       167\n",
       "4  tt0000005            6.2      2515"
      ]
     },
     "execution_count": 217,
     "metadata": {},
     "output_type": "execute_result"
    }
   ],
   "source": [
    "ratings = pd.read_csv(\"Data/title_ratings.csv.gz\", low_memory = False)\n",
    "ratings.head()"
   ]
  },
  {
   "cell_type": "code",
   "execution_count": 218,
   "id": "aef3e6c2",
   "metadata": {
    "ExecuteTime": {
     "end_time": "2022-08-04T22:54:54.277271Z",
     "start_time": "2022-08-04T22:52:29.848449Z"
    }
   },
   "outputs": [],
   "source": [
    "akas.to_csv(\"Data/title_akas.csv.gz\",compression='gzip',index=False)"
   ]
  },
  {
   "cell_type": "code",
   "execution_count": 219,
   "id": "b63e1e14",
   "metadata": {
    "ExecuteTime": {
     "end_time": "2022-08-04T22:55:28.550534Z",
     "start_time": "2022-08-04T22:54:54.371403Z"
    }
   },
   "outputs": [
    {
     "data": {
      "text/html": [
       "<div>\n",
       "<style scoped>\n",
       "    .dataframe tbody tr th:only-of-type {\n",
       "        vertical-align: middle;\n",
       "    }\n",
       "\n",
       "    .dataframe tbody tr th {\n",
       "        vertical-align: top;\n",
       "    }\n",
       "\n",
       "    .dataframe thead th {\n",
       "        text-align: right;\n",
       "    }\n",
       "</style>\n",
       "<table border=\"1\" class=\"dataframe\">\n",
       "  <thead>\n",
       "    <tr style=\"text-align: right;\">\n",
       "      <th></th>\n",
       "      <th>titleId</th>\n",
       "      <th>ordering</th>\n",
       "      <th>title</th>\n",
       "      <th>region</th>\n",
       "      <th>language</th>\n",
       "      <th>types</th>\n",
       "      <th>attributes</th>\n",
       "      <th>isOriginalTitle</th>\n",
       "    </tr>\n",
       "  </thead>\n",
       "  <tbody>\n",
       "    <tr>\n",
       "      <th>0</th>\n",
       "      <td>tt0000001</td>\n",
       "      <td>1</td>\n",
       "      <td>Карменсіта</td>\n",
       "      <td>UA</td>\n",
       "      <td>NaN</td>\n",
       "      <td>imdbDisplay</td>\n",
       "      <td>NaN</td>\n",
       "      <td>0.0</td>\n",
       "    </tr>\n",
       "    <tr>\n",
       "      <th>1</th>\n",
       "      <td>tt0000001</td>\n",
       "      <td>2</td>\n",
       "      <td>Carmencita</td>\n",
       "      <td>DE</td>\n",
       "      <td>NaN</td>\n",
       "      <td>NaN</td>\n",
       "      <td>literal title</td>\n",
       "      <td>0.0</td>\n",
       "    </tr>\n",
       "    <tr>\n",
       "      <th>2</th>\n",
       "      <td>tt0000001</td>\n",
       "      <td>3</td>\n",
       "      <td>Carmencita - spanyol tánc</td>\n",
       "      <td>HU</td>\n",
       "      <td>NaN</td>\n",
       "      <td>imdbDisplay</td>\n",
       "      <td>NaN</td>\n",
       "      <td>0.0</td>\n",
       "    </tr>\n",
       "    <tr>\n",
       "      <th>3</th>\n",
       "      <td>tt0000001</td>\n",
       "      <td>4</td>\n",
       "      <td>Καρμενσίτα</td>\n",
       "      <td>GR</td>\n",
       "      <td>NaN</td>\n",
       "      <td>imdbDisplay</td>\n",
       "      <td>NaN</td>\n",
       "      <td>0.0</td>\n",
       "    </tr>\n",
       "    <tr>\n",
       "      <th>4</th>\n",
       "      <td>tt0000001</td>\n",
       "      <td>5</td>\n",
       "      <td>Карменсита</td>\n",
       "      <td>RU</td>\n",
       "      <td>NaN</td>\n",
       "      <td>imdbDisplay</td>\n",
       "      <td>NaN</td>\n",
       "      <td>0.0</td>\n",
       "    </tr>\n",
       "  </tbody>\n",
       "</table>\n",
       "</div>"
      ],
      "text/plain": [
       "     titleId  ordering                      title region language  \\\n",
       "0  tt0000001         1                 Карменсіта     UA      NaN   \n",
       "1  tt0000001         2                 Carmencita     DE      NaN   \n",
       "2  tt0000001         3  Carmencita - spanyol tánc     HU      NaN   \n",
       "3  tt0000001         4                 Καρμενσίτα     GR      NaN   \n",
       "4  tt0000001         5                 Карменсита     RU      NaN   \n",
       "\n",
       "         types     attributes  isOriginalTitle  \n",
       "0  imdbDisplay            NaN              0.0  \n",
       "1          NaN  literal title              0.0  \n",
       "2  imdbDisplay            NaN              0.0  \n",
       "3  imdbDisplay            NaN              0.0  \n",
       "4  imdbDisplay            NaN              0.0  "
      ]
     },
     "execution_count": 219,
     "metadata": {},
     "output_type": "execute_result"
    }
   ],
   "source": [
    "akas = pd.read_csv(\"Data/title_akas.csv.gz\", low_memory = False)\n",
    "akas.head()"
   ]
  },
  {
   "cell_type": "code",
   "execution_count": 164,
   "id": "8fade93d",
   "metadata": {
    "ExecuteTime": {
     "end_time": "2022-08-04T22:38:44.315619Z",
     "start_time": "2022-08-04T22:38:44.302199Z"
    },
    "scrolled": true
   },
   "outputs": [
    {
     "data": {
      "text/plain": [
       "['.ipynb_checkpoints',\n",
       " 'akas.csv.gz',\n",
       " 'basics.csv.gz',\n",
       " 'final_tmdb_data_2000.csv.gz',\n",
       " 'final_tmdb_data_2001.csv.gz',\n",
       " 'ratings.csv.gz',\n",
       " 'tmdb_api_results_2000.json',\n",
       " 'tmdb_api_results_2001.json']"
      ]
     },
     "execution_count": 164,
     "metadata": {},
     "output_type": "execute_result"
    }
   ],
   "source": [
    "import os, time,json\n",
    "import tmdbsimple as tmdb\n",
    "DATA = \"DATA/DATA\"\n",
    "os.makedirs(DATA, exist_ok=True)\n",
    "os.listdir(DATA)"
   ]
  },
  {
   "cell_type": "code",
   "execution_count": 220,
   "id": "4431d6e2",
   "metadata": {
    "ExecuteTime": {
     "end_time": "2022-08-04T22:55:28.673518Z",
     "start_time": "2022-08-04T22:55:28.660127Z"
    }
   },
   "outputs": [],
   "source": [
    "from tqdm.notebook import trange, tqdm"
   ]
  },
  {
   "cell_type": "code",
   "execution_count": 221,
   "id": "df62c46d",
   "metadata": {
    "ExecuteTime": {
     "end_time": "2022-08-04T22:55:36.471974Z",
     "start_time": "2022-08-04T22:55:36.465498Z"
    }
   },
   "outputs": [],
   "source": [
    "YEARS_TO_GET = [2000,2001]"
   ]
  },
  {
   "cell_type": "code",
   "execution_count": 222,
   "id": "2b209bed",
   "metadata": {
    "ExecuteTime": {
     "end_time": "2022-08-04T22:55:37.115439Z",
     "start_time": "2022-08-04T22:55:37.107482Z"
    }
   },
   "outputs": [
    {
     "name": "stdout",
     "output_type": "stream",
     "text": [
      "2000\n",
      "2001\n"
     ]
    }
   ],
   "source": [
    "for i in YEARS_TO_GET:\n",
    "    print(i)\n",
    "    "
   ]
  },
  {
   "cell_type": "code",
   "execution_count": 223,
   "id": "0f6a8afc",
   "metadata": {
    "ExecuteTime": {
     "end_time": "2022-08-04T23:39:46.798951Z",
     "start_time": "2022-08-04T22:55:39.597951Z"
    }
   },
   "outputs": [
    {
     "data": {
      "application/vnd.jupyter.widget-view+json": {
       "model_id": "c63c260cab444f72987cff1da3b9bc8c",
       "version_major": 2,
       "version_minor": 0
      },
      "text/plain": [
       "YEARS:   0%|          | 0/2 [00:00<?, ?it/s]"
      ]
     },
     "metadata": {},
     "output_type": "display_data"
    },
    {
     "data": {
      "application/vnd.jupyter.widget-view+json": {
       "model_id": "967b12dcb5d64535824ff7f889fd0429",
       "version_major": 2,
       "version_minor": 0
      },
      "text/plain": [
       "Movies from 2000:   0%|          | 0/2900 [00:00<?, ?it/s]"
      ]
     },
     "metadata": {},
     "output_type": "display_data"
    },
    {
     "data": {
      "application/vnd.jupyter.widget-view+json": {
       "model_id": "613e5546906c48588042a12de0a160e5",
       "version_major": 2,
       "version_minor": 0
      },
      "text/plain": [
       "Movies from 2001:   0%|          | 0/3021 [00:00<?, ?it/s]"
      ]
     },
     "metadata": {},
     "output_type": "display_data"
    }
   ],
   "source": [
    "for YEAR in tqdm(YEARS_TO_GET,desc='YEARS',position=0):\n",
    "    JSON_FILE = f'{DATA}tmdb_api_results_{YEAR}.json'\n",
    "    \n",
    "    file_exists = os.path.isfile(JSON_FILE)\n",
    "    \n",
    "    if file_exists == False:\n",
    "\n",
    "        with open(JSON_FILE,'w') as f:\n",
    "            json.dump([{'imdb_id':0}],f)\n",
    "    \n",
    "\n",
    "    df = basics.loc[ basics['startYear']==YEAR].copy()\n",
    "    # saving movie ids to list\n",
    "    movie_ids = df['tconst'].copy()#.to_list()\n",
    "    \n",
    "    # Load existing data from json into a dataframe called \"previous_df\"\n",
    "    previous_df = pd.read_json(JSON_FILE)\n",
    "    \n",
    "    # filter out any ids that are already in the JSON_FILE\n",
    "    movie_ids_to_get = movie_ids[~movie_ids.isin(previous_df['imdb_id'])]\n",
    "    \n",
    "    #Get index and movie id from list\n",
    "# INNER Loop\n",
    "    for movie_id in tqdm(movie_ids_to_get,\n",
    "                                  desc=f'Movies from {YEAR}',\n",
    "                                  position=1,\n",
    "                                  leave=True):\n",
    "        # Attempt to retrieve then data for the movie id\n",
    "        try:\n",
    "            temp = get_movie_with_rating(movie_id)  #This uses your pre-made function\n",
    "            # Append/extend results to existing file using a pre-made function\n",
    "            write_json(temp,JSON_FILE)\n",
    "            # Short 20 ms sleep to prevent overwhelming server\n",
    "            time.sleep(0.02)\n",
    "            \n",
    "        # If it fails,  make a dict with just the id and None for certification.\n",
    "        except Exception as e:\n",
    "            continue\n",
    "    \n",
    "    final_year_df = pd.read_json(JSON_FILE)\n",
    "    final_year_df.to_csv(f\"{DATA}final_tmdb_data_{YEAR}.csv.gz\", compression=\"gzip\", index=False)\n",
    "\n",
    "\n",
    "\n",
    "\n",
    "\n"
   ]
  },
  {
   "cell_type": "code",
   "execution_count": 225,
   "id": "303c676e",
   "metadata": {
    "ExecuteTime": {
     "end_time": "2022-08-04T23:41:37.546123Z",
     "start_time": "2022-08-04T23:41:37.477244Z"
    },
    "scrolled": true
   },
   "outputs": [
    {
     "data": {
      "text/html": [
       "<div>\n",
       "<style scoped>\n",
       "    .dataframe tbody tr th:only-of-type {\n",
       "        vertical-align: middle;\n",
       "    }\n",
       "\n",
       "    .dataframe tbody tr th {\n",
       "        vertical-align: top;\n",
       "    }\n",
       "\n",
       "    .dataframe thead th {\n",
       "        text-align: right;\n",
       "    }\n",
       "</style>\n",
       "<table border=\"1\" class=\"dataframe\">\n",
       "  <thead>\n",
       "    <tr style=\"text-align: right;\">\n",
       "      <th></th>\n",
       "      <th>imdb_id</th>\n",
       "      <th>adult</th>\n",
       "      <th>backdrop_path</th>\n",
       "      <th>belongs_to_collection</th>\n",
       "      <th>budget</th>\n",
       "      <th>genres</th>\n",
       "      <th>homepage</th>\n",
       "      <th>id</th>\n",
       "      <th>original_language</th>\n",
       "      <th>original_title</th>\n",
       "      <th>...</th>\n",
       "      <th>revenue</th>\n",
       "      <th>runtime</th>\n",
       "      <th>spoken_languages</th>\n",
       "      <th>status</th>\n",
       "      <th>tagline</th>\n",
       "      <th>title</th>\n",
       "      <th>video</th>\n",
       "      <th>vote_average</th>\n",
       "      <th>vote_count</th>\n",
       "      <th>certification</th>\n",
       "    </tr>\n",
       "  </thead>\n",
       "  <tbody>\n",
       "    <tr>\n",
       "      <th>0</th>\n",
       "      <td>0</td>\n",
       "      <td>NaN</td>\n",
       "      <td>NaN</td>\n",
       "      <td>NaN</td>\n",
       "      <td>NaN</td>\n",
       "      <td>NaN</td>\n",
       "      <td>NaN</td>\n",
       "      <td>NaN</td>\n",
       "      <td>NaN</td>\n",
       "      <td>NaN</td>\n",
       "      <td>...</td>\n",
       "      <td>NaN</td>\n",
       "      <td>NaN</td>\n",
       "      <td>NaN</td>\n",
       "      <td>NaN</td>\n",
       "      <td>NaN</td>\n",
       "      <td>NaN</td>\n",
       "      <td>NaN</td>\n",
       "      <td>NaN</td>\n",
       "      <td>NaN</td>\n",
       "      <td>NaN</td>\n",
       "    </tr>\n",
       "    <tr>\n",
       "      <th>1</th>\n",
       "      <td>tt1831837</td>\n",
       "      <td>0.0</td>\n",
       "      <td>NaN</td>\n",
       "      <td>NaN</td>\n",
       "      <td>0.0</td>\n",
       "      <td>[{'id': 16, 'name': 'Animation'}, {'id': 35, '...</td>\n",
       "      <td>NaN</td>\n",
       "      <td>720041.0</td>\n",
       "      <td>ru</td>\n",
       "      <td>Звериные войны</td>\n",
       "      <td>...</td>\n",
       "      <td>0.0</td>\n",
       "      <td>73.0</td>\n",
       "      <td>[{'english_name': 'Russian', 'iso_639_1': 'ru'...</td>\n",
       "      <td>Released</td>\n",
       "      <td>The First and Only Animated Lampoon on Football</td>\n",
       "      <td>Animal Wars</td>\n",
       "      <td>0.0</td>\n",
       "      <td>0.0</td>\n",
       "      <td>0.0</td>\n",
       "      <td>NaN</td>\n",
       "    </tr>\n",
       "    <tr>\n",
       "      <th>2</th>\n",
       "      <td>tt1831837</td>\n",
       "      <td>0.0</td>\n",
       "      <td>NaN</td>\n",
       "      <td>NaN</td>\n",
       "      <td>0.0</td>\n",
       "      <td>[{'id': 16, 'name': 'Animation'}, {'id': 35, '...</td>\n",
       "      <td>NaN</td>\n",
       "      <td>720041.0</td>\n",
       "      <td>ru</td>\n",
       "      <td>Звериные войны</td>\n",
       "      <td>...</td>\n",
       "      <td>0.0</td>\n",
       "      <td>73.0</td>\n",
       "      <td>[{'english_name': 'Russian', 'iso_639_1': 'ru'...</td>\n",
       "      <td>Released</td>\n",
       "      <td>The First and Only Animated Lampoon on Football</td>\n",
       "      <td>Animal Wars</td>\n",
       "      <td>0.0</td>\n",
       "      <td>0.0</td>\n",
       "      <td>0.0</td>\n",
       "      <td>NaN</td>\n",
       "    </tr>\n",
       "    <tr>\n",
       "      <th>3</th>\n",
       "      <td>tt0113026</td>\n",
       "      <td>0.0</td>\n",
       "      <td>/vMFs7nw6P0bIV1jDsQpxAieAVnH.jpg</td>\n",
       "      <td>NaN</td>\n",
       "      <td>10000000.0</td>\n",
       "      <td>[{'id': 35, 'name': 'Comedy'}, {'id': 10402, '...</td>\n",
       "      <td>NaN</td>\n",
       "      <td>62127.0</td>\n",
       "      <td>en</td>\n",
       "      <td>The Fantasticks</td>\n",
       "      <td>...</td>\n",
       "      <td>0.0</td>\n",
       "      <td>86.0</td>\n",
       "      <td>[{'english_name': 'English', 'iso_639_1': 'en'...</td>\n",
       "      <td>Released</td>\n",
       "      <td>Try to remember the first time magic happened</td>\n",
       "      <td>The Fantasticks</td>\n",
       "      <td>0.0</td>\n",
       "      <td>5.5</td>\n",
       "      <td>22.0</td>\n",
       "      <td>NaN</td>\n",
       "    </tr>\n",
       "    <tr>\n",
       "      <th>4</th>\n",
       "      <td>tt0113092</td>\n",
       "      <td>0.0</td>\n",
       "      <td>NaN</td>\n",
       "      <td>NaN</td>\n",
       "      <td>0.0</td>\n",
       "      <td>[{'id': 878, 'name': 'Science Fiction'}]</td>\n",
       "      <td>NaN</td>\n",
       "      <td>110977.0</td>\n",
       "      <td>en</td>\n",
       "      <td>For the Cause</td>\n",
       "      <td>...</td>\n",
       "      <td>0.0</td>\n",
       "      <td>100.0</td>\n",
       "      <td>[{'english_name': 'English', 'iso_639_1': 'en'...</td>\n",
       "      <td>Released</td>\n",
       "      <td>The ultimate showdown on a forbidden planet.</td>\n",
       "      <td>For the Cause</td>\n",
       "      <td>0.0</td>\n",
       "      <td>5.1</td>\n",
       "      <td>8.0</td>\n",
       "      <td>NaN</td>\n",
       "    </tr>\n",
       "    <tr>\n",
       "      <th>...</th>\n",
       "      <td>...</td>\n",
       "      <td>...</td>\n",
       "      <td>...</td>\n",
       "      <td>...</td>\n",
       "      <td>...</td>\n",
       "      <td>...</td>\n",
       "      <td>...</td>\n",
       "      <td>...</td>\n",
       "      <td>...</td>\n",
       "      <td>...</td>\n",
       "      <td>...</td>\n",
       "      <td>...</td>\n",
       "      <td>...</td>\n",
       "      <td>...</td>\n",
       "      <td>...</td>\n",
       "      <td>...</td>\n",
       "      <td>...</td>\n",
       "      <td>...</td>\n",
       "      <td>...</td>\n",
       "      <td>...</td>\n",
       "      <td>...</td>\n",
       "    </tr>\n",
       "    <tr>\n",
       "      <th>2217</th>\n",
       "      <td>tt7802790</td>\n",
       "      <td>0.0</td>\n",
       "      <td>/etxml2M8GQzb31jcH0cdA489WCX.jpg</td>\n",
       "      <td>NaN</td>\n",
       "      <td>0.0</td>\n",
       "      <td>[{'id': 35, 'name': 'Comedy'}, {'id': 80, 'nam...</td>\n",
       "      <td>NaN</td>\n",
       "      <td>610992.0</td>\n",
       "      <td>fa</td>\n",
       "      <td>مومیایی ۳</td>\n",
       "      <td>...</td>\n",
       "      <td>0.0</td>\n",
       "      <td>98.0</td>\n",
       "      <td>[{'english_name': 'Persian', 'iso_639_1': 'fa'...</td>\n",
       "      <td>Released</td>\n",
       "      <td>NaN</td>\n",
       "      <td>The Mummy 3</td>\n",
       "      <td>0.0</td>\n",
       "      <td>7.0</td>\n",
       "      <td>1.0</td>\n",
       "      <td>NaN</td>\n",
       "    </tr>\n",
       "    <tr>\n",
       "      <th>2218</th>\n",
       "      <td>tt8561732</td>\n",
       "      <td>0.0</td>\n",
       "      <td>NaN</td>\n",
       "      <td>NaN</td>\n",
       "      <td>0.0</td>\n",
       "      <td>[{'id': 10749, 'name': 'Romance'}]</td>\n",
       "      <td>NaN</td>\n",
       "      <td>740825.0</td>\n",
       "      <td>en</td>\n",
       "      <td>Tumi Mur Mathu Mur</td>\n",
       "      <td>...</td>\n",
       "      <td>0.0</td>\n",
       "      <td>90.0</td>\n",
       "      <td>[{'english_name': 'Assamese', 'iso_639_1': 'as...</td>\n",
       "      <td>Released</td>\n",
       "      <td>NaN</td>\n",
       "      <td>Tumi Mur Mathu Mur</td>\n",
       "      <td>0.0</td>\n",
       "      <td>0.0</td>\n",
       "      <td>0.0</td>\n",
       "      <td>NaN</td>\n",
       "    </tr>\n",
       "    <tr>\n",
       "      <th>2219</th>\n",
       "      <td>tt8929736</td>\n",
       "      <td>0.0</td>\n",
       "      <td>NaN</td>\n",
       "      <td>NaN</td>\n",
       "      <td>0.0</td>\n",
       "      <td>[{'id': 10751, 'name': 'Family'}, {'id': 35, '...</td>\n",
       "      <td>NaN</td>\n",
       "      <td>373320.0</td>\n",
       "      <td>ta</td>\n",
       "      <td>பட்ஜெட் பத்மநாபன்</td>\n",
       "      <td>...</td>\n",
       "      <td>0.0</td>\n",
       "      <td>153.0</td>\n",
       "      <td>[{'english_name': 'Tamil', 'iso_639_1': 'ta', ...</td>\n",
       "      <td>Released</td>\n",
       "      <td>NaN</td>\n",
       "      <td>Budget Padmanabhan</td>\n",
       "      <td>0.0</td>\n",
       "      <td>5.8</td>\n",
       "      <td>2.0</td>\n",
       "      <td>NaN</td>\n",
       "    </tr>\n",
       "    <tr>\n",
       "      <th>2220</th>\n",
       "      <td>tt9209606</td>\n",
       "      <td>0.0</td>\n",
       "      <td>NaN</td>\n",
       "      <td>NaN</td>\n",
       "      <td>0.0</td>\n",
       "      <td>[]</td>\n",
       "      <td>NaN</td>\n",
       "      <td>878312.0</td>\n",
       "      <td>mg</td>\n",
       "      <td>Lolovokatra 2</td>\n",
       "      <td>...</td>\n",
       "      <td>0.0</td>\n",
       "      <td>90.0</td>\n",
       "      <td>[]</td>\n",
       "      <td>Released</td>\n",
       "      <td>NaN</td>\n",
       "      <td>Lolovokatra 2</td>\n",
       "      <td>0.0</td>\n",
       "      <td>0.0</td>\n",
       "      <td>0.0</td>\n",
       "      <td>NaN</td>\n",
       "    </tr>\n",
       "    <tr>\n",
       "      <th>2221</th>\n",
       "      <td>tt9486348</td>\n",
       "      <td>0.0</td>\n",
       "      <td>NaN</td>\n",
       "      <td>NaN</td>\n",
       "      <td>0.0</td>\n",
       "      <td>[{'id': 35, 'name': 'Comedy'}]</td>\n",
       "      <td>NaN</td>\n",
       "      <td>514110.0</td>\n",
       "      <td>ar</td>\n",
       "      <td>شجيع السيما</td>\n",
       "      <td>...</td>\n",
       "      <td>0.0</td>\n",
       "      <td>95.0</td>\n",
       "      <td>[{'english_name': 'Arabic', 'iso_639_1': 'ar',...</td>\n",
       "      <td>Released</td>\n",
       "      <td>NaN</td>\n",
       "      <td>shajie alsiyama</td>\n",
       "      <td>0.0</td>\n",
       "      <td>4.5</td>\n",
       "      <td>2.0</td>\n",
       "      <td>NaN</td>\n",
       "    </tr>\n",
       "  </tbody>\n",
       "</table>\n",
       "<p>2222 rows × 26 columns</p>\n",
       "</div>"
      ],
      "text/plain": [
       "        imdb_id  adult                     backdrop_path  \\\n",
       "0             0    NaN                               NaN   \n",
       "1     tt1831837    0.0                               NaN   \n",
       "2     tt1831837    0.0                               NaN   \n",
       "3     tt0113026    0.0  /vMFs7nw6P0bIV1jDsQpxAieAVnH.jpg   \n",
       "4     tt0113092    0.0                               NaN   \n",
       "...         ...    ...                               ...   \n",
       "2217  tt7802790    0.0  /etxml2M8GQzb31jcH0cdA489WCX.jpg   \n",
       "2218  tt8561732    0.0                               NaN   \n",
       "2219  tt8929736    0.0                               NaN   \n",
       "2220  tt9209606    0.0                               NaN   \n",
       "2221  tt9486348    0.0                               NaN   \n",
       "\n",
       "     belongs_to_collection      budget  \\\n",
       "0                      NaN         NaN   \n",
       "1                      NaN         0.0   \n",
       "2                      NaN         0.0   \n",
       "3                      NaN  10000000.0   \n",
       "4                      NaN         0.0   \n",
       "...                    ...         ...   \n",
       "2217                   NaN         0.0   \n",
       "2218                   NaN         0.0   \n",
       "2219                   NaN         0.0   \n",
       "2220                   NaN         0.0   \n",
       "2221                   NaN         0.0   \n",
       "\n",
       "                                                 genres homepage        id  \\\n",
       "0                                                   NaN      NaN       NaN   \n",
       "1     [{'id': 16, 'name': 'Animation'}, {'id': 35, '...      NaN  720041.0   \n",
       "2     [{'id': 16, 'name': 'Animation'}, {'id': 35, '...      NaN  720041.0   \n",
       "3     [{'id': 35, 'name': 'Comedy'}, {'id': 10402, '...      NaN   62127.0   \n",
       "4              [{'id': 878, 'name': 'Science Fiction'}]      NaN  110977.0   \n",
       "...                                                 ...      ...       ...   \n",
       "2217  [{'id': 35, 'name': 'Comedy'}, {'id': 80, 'nam...      NaN  610992.0   \n",
       "2218                 [{'id': 10749, 'name': 'Romance'}]      NaN  740825.0   \n",
       "2219  [{'id': 10751, 'name': 'Family'}, {'id': 35, '...      NaN  373320.0   \n",
       "2220                                                 []      NaN  878312.0   \n",
       "2221                     [{'id': 35, 'name': 'Comedy'}]      NaN  514110.0   \n",
       "\n",
       "     original_language      original_title  ... revenue  runtime  \\\n",
       "0                  NaN                 NaN  ...     NaN      NaN   \n",
       "1                   ru      Звериные войны  ...     0.0     73.0   \n",
       "2                   ru      Звериные войны  ...     0.0     73.0   \n",
       "3                   en     The Fantasticks  ...     0.0     86.0   \n",
       "4                   en       For the Cause  ...     0.0    100.0   \n",
       "...                ...                 ...  ...     ...      ...   \n",
       "2217                fa           مومیایی ۳  ...     0.0     98.0   \n",
       "2218                en  Tumi Mur Mathu Mur  ...     0.0     90.0   \n",
       "2219                ta   பட்ஜெட் பத்மநாபன்  ...     0.0    153.0   \n",
       "2220                mg       Lolovokatra 2  ...     0.0     90.0   \n",
       "2221                ar         شجيع السيما  ...     0.0     95.0   \n",
       "\n",
       "                                       spoken_languages    status  \\\n",
       "0                                                   NaN       NaN   \n",
       "1     [{'english_name': 'Russian', 'iso_639_1': 'ru'...  Released   \n",
       "2     [{'english_name': 'Russian', 'iso_639_1': 'ru'...  Released   \n",
       "3     [{'english_name': 'English', 'iso_639_1': 'en'...  Released   \n",
       "4     [{'english_name': 'English', 'iso_639_1': 'en'...  Released   \n",
       "...                                                 ...       ...   \n",
       "2217  [{'english_name': 'Persian', 'iso_639_1': 'fa'...  Released   \n",
       "2218  [{'english_name': 'Assamese', 'iso_639_1': 'as...  Released   \n",
       "2219  [{'english_name': 'Tamil', 'iso_639_1': 'ta', ...  Released   \n",
       "2220                                                 []  Released   \n",
       "2221  [{'english_name': 'Arabic', 'iso_639_1': 'ar',...  Released   \n",
       "\n",
       "                                              tagline               title  \\\n",
       "0                                                 NaN                 NaN   \n",
       "1     The First and Only Animated Lampoon on Football         Animal Wars   \n",
       "2     The First and Only Animated Lampoon on Football         Animal Wars   \n",
       "3       Try to remember the first time magic happened     The Fantasticks   \n",
       "4        The ultimate showdown on a forbidden planet.       For the Cause   \n",
       "...                                               ...                 ...   \n",
       "2217                                              NaN         The Mummy 3   \n",
       "2218                                              NaN  Tumi Mur Mathu Mur   \n",
       "2219                                              NaN  Budget Padmanabhan   \n",
       "2220                                              NaN       Lolovokatra 2   \n",
       "2221                                              NaN     shajie alsiyama   \n",
       "\n",
       "      video  vote_average vote_count certification  \n",
       "0       NaN           NaN        NaN           NaN  \n",
       "1       0.0           0.0        0.0           NaN  \n",
       "2       0.0           0.0        0.0           NaN  \n",
       "3       0.0           5.5       22.0           NaN  \n",
       "4       0.0           5.1        8.0           NaN  \n",
       "...     ...           ...        ...           ...  \n",
       "2217    0.0           7.0        1.0           NaN  \n",
       "2218    0.0           0.0        0.0           NaN  \n",
       "2219    0.0           5.8        2.0           NaN  \n",
       "2220    0.0           0.0        0.0           NaN  \n",
       "2221    0.0           4.5        2.0           NaN  \n",
       "\n",
       "[2222 rows x 26 columns]"
      ]
     },
     "execution_count": 225,
     "metadata": {},
     "output_type": "execute_result"
    }
   ],
   "source": [
    "Movies_2000 = pd.read_csv('final_tmdb_data_2000.csv.gz')\n",
    "Movies_2000"
   ]
  },
  {
   "cell_type": "code",
   "execution_count": 226,
   "id": "47833d8f",
   "metadata": {
    "ExecuteTime": {
     "end_time": "2022-08-04T23:41:45.826741Z",
     "start_time": "2022-08-04T23:41:45.755321Z"
    }
   },
   "outputs": [
    {
     "data": {
      "text/html": [
       "<div>\n",
       "<style scoped>\n",
       "    .dataframe tbody tr th:only-of-type {\n",
       "        vertical-align: middle;\n",
       "    }\n",
       "\n",
       "    .dataframe tbody tr th {\n",
       "        vertical-align: top;\n",
       "    }\n",
       "\n",
       "    .dataframe thead th {\n",
       "        text-align: right;\n",
       "    }\n",
       "</style>\n",
       "<table border=\"1\" class=\"dataframe\">\n",
       "  <thead>\n",
       "    <tr style=\"text-align: right;\">\n",
       "      <th></th>\n",
       "      <th>imdb_id</th>\n",
       "      <th>adult</th>\n",
       "      <th>backdrop_path</th>\n",
       "      <th>belongs_to_collection</th>\n",
       "      <th>budget</th>\n",
       "      <th>genres</th>\n",
       "      <th>homepage</th>\n",
       "      <th>id</th>\n",
       "      <th>original_language</th>\n",
       "      <th>original_title</th>\n",
       "      <th>...</th>\n",
       "      <th>revenue</th>\n",
       "      <th>runtime</th>\n",
       "      <th>spoken_languages</th>\n",
       "      <th>status</th>\n",
       "      <th>tagline</th>\n",
       "      <th>title</th>\n",
       "      <th>video</th>\n",
       "      <th>vote_average</th>\n",
       "      <th>vote_count</th>\n",
       "      <th>certification</th>\n",
       "    </tr>\n",
       "  </thead>\n",
       "  <tbody>\n",
       "    <tr>\n",
       "      <th>0</th>\n",
       "      <td>0</td>\n",
       "      <td>NaN</td>\n",
       "      <td>NaN</td>\n",
       "      <td>NaN</td>\n",
       "      <td>NaN</td>\n",
       "      <td>NaN</td>\n",
       "      <td>NaN</td>\n",
       "      <td>NaN</td>\n",
       "      <td>NaN</td>\n",
       "      <td>NaN</td>\n",
       "      <td>...</td>\n",
       "      <td>NaN</td>\n",
       "      <td>NaN</td>\n",
       "      <td>NaN</td>\n",
       "      <td>NaN</td>\n",
       "      <td>NaN</td>\n",
       "      <td>NaN</td>\n",
       "      <td>NaN</td>\n",
       "      <td>NaN</td>\n",
       "      <td>NaN</td>\n",
       "      <td>NaN</td>\n",
       "    </tr>\n",
       "    <tr>\n",
       "      <th>1</th>\n",
       "      <td>tt0035423</td>\n",
       "      <td>0.0</td>\n",
       "      <td>/ab5yL8zgRotrICzGbEl10z24N71.jpg</td>\n",
       "      <td>NaN</td>\n",
       "      <td>48000000.0</td>\n",
       "      <td>[{'id': 35, 'name': 'Comedy'}, {'id': 14, 'nam...</td>\n",
       "      <td>NaN</td>\n",
       "      <td>11232.0</td>\n",
       "      <td>en</td>\n",
       "      <td>Kate &amp; Leopold</td>\n",
       "      <td>...</td>\n",
       "      <td>76019048.0</td>\n",
       "      <td>118.0</td>\n",
       "      <td>[{'english_name': 'French', 'iso_639_1': 'fr',...</td>\n",
       "      <td>Released</td>\n",
       "      <td>If they lived in the same century they'd be pe...</td>\n",
       "      <td>Kate &amp; Leopold</td>\n",
       "      <td>0.0</td>\n",
       "      <td>6.316</td>\n",
       "      <td>1132.0</td>\n",
       "      <td>PG-13</td>\n",
       "    </tr>\n",
       "    <tr>\n",
       "      <th>2</th>\n",
       "      <td>tt0079644</td>\n",
       "      <td>0.0</td>\n",
       "      <td>/79axmuH1UGkB7m72jjB9rPff9om.jpg</td>\n",
       "      <td>NaN</td>\n",
       "      <td>0.0</td>\n",
       "      <td>[{'id': 10752, 'name': 'War'}]</td>\n",
       "      <td>NaN</td>\n",
       "      <td>285529.0</td>\n",
       "      <td>id</td>\n",
       "      <td>November 1828</td>\n",
       "      <td>...</td>\n",
       "      <td>0.0</td>\n",
       "      <td>140.0</td>\n",
       "      <td>[{'english_name': 'Indonesian', 'iso_639_1': '...</td>\n",
       "      <td>Released</td>\n",
       "      <td>NaN</td>\n",
       "      <td>November 1828</td>\n",
       "      <td>0.0</td>\n",
       "      <td>0.000</td>\n",
       "      <td>0.0</td>\n",
       "      <td>NaN</td>\n",
       "    </tr>\n",
       "    <tr>\n",
       "      <th>3</th>\n",
       "      <td>tt0089067</td>\n",
       "      <td>0.0</td>\n",
       "      <td>NaN</td>\n",
       "      <td>NaN</td>\n",
       "      <td>0.0</td>\n",
       "      <td>[{'id': 35, 'name': 'Comedy'}]</td>\n",
       "      <td>NaN</td>\n",
       "      <td>210258.0</td>\n",
       "      <td>es</td>\n",
       "      <td>El día de los albañiles 2</td>\n",
       "      <td>...</td>\n",
       "      <td>0.0</td>\n",
       "      <td>90.0</td>\n",
       "      <td>[{'english_name': 'Spanish', 'iso_639_1': 'es'...</td>\n",
       "      <td>Released</td>\n",
       "      <td>The laborers are back full of love and laughs.</td>\n",
       "      <td>El día de los albañiles 2</td>\n",
       "      <td>0.0</td>\n",
       "      <td>7.197</td>\n",
       "      <td>71.0</td>\n",
       "      <td>NaN</td>\n",
       "    </tr>\n",
       "    <tr>\n",
       "      <th>4</th>\n",
       "      <td>tt0114447</td>\n",
       "      <td>0.0</td>\n",
       "      <td>NaN</td>\n",
       "      <td>NaN</td>\n",
       "      <td>0.0</td>\n",
       "      <td>[{'id': 53, 'name': 'Thriller'}, {'id': 28, 'n...</td>\n",
       "      <td>NaN</td>\n",
       "      <td>151007.0</td>\n",
       "      <td>en</td>\n",
       "      <td>The Silent Force</td>\n",
       "      <td>...</td>\n",
       "      <td>0.0</td>\n",
       "      <td>90.0</td>\n",
       "      <td>[{'english_name': 'English', 'iso_639_1': 'en'...</td>\n",
       "      <td>Released</td>\n",
       "      <td>They left him for dead... They should have fin...</td>\n",
       "      <td>The Silent Force</td>\n",
       "      <td>0.0</td>\n",
       "      <td>5.000</td>\n",
       "      <td>3.0</td>\n",
       "      <td>NaN</td>\n",
       "    </tr>\n",
       "  </tbody>\n",
       "</table>\n",
       "<p>5 rows × 26 columns</p>\n",
       "</div>"
      ],
      "text/plain": [
       "     imdb_id  adult                     backdrop_path belongs_to_collection  \\\n",
       "0          0    NaN                               NaN                   NaN   \n",
       "1  tt0035423    0.0  /ab5yL8zgRotrICzGbEl10z24N71.jpg                   NaN   \n",
       "2  tt0079644    0.0  /79axmuH1UGkB7m72jjB9rPff9om.jpg                   NaN   \n",
       "3  tt0089067    0.0                               NaN                   NaN   \n",
       "4  tt0114447    0.0                               NaN                   NaN   \n",
       "\n",
       "       budget                                             genres homepage  \\\n",
       "0         NaN                                                NaN      NaN   \n",
       "1  48000000.0  [{'id': 35, 'name': 'Comedy'}, {'id': 14, 'nam...      NaN   \n",
       "2         0.0                     [{'id': 10752, 'name': 'War'}]      NaN   \n",
       "3         0.0                     [{'id': 35, 'name': 'Comedy'}]      NaN   \n",
       "4         0.0  [{'id': 53, 'name': 'Thriller'}, {'id': 28, 'n...      NaN   \n",
       "\n",
       "         id original_language             original_title  ...     revenue  \\\n",
       "0       NaN               NaN                        NaN  ...         NaN   \n",
       "1   11232.0                en             Kate & Leopold  ...  76019048.0   \n",
       "2  285529.0                id              November 1828  ...         0.0   \n",
       "3  210258.0                es  El día de los albañiles 2  ...         0.0   \n",
       "4  151007.0                en           The Silent Force  ...         0.0   \n",
       "\n",
       "   runtime                                   spoken_languages    status  \\\n",
       "0      NaN                                                NaN       NaN   \n",
       "1    118.0  [{'english_name': 'French', 'iso_639_1': 'fr',...  Released   \n",
       "2    140.0  [{'english_name': 'Indonesian', 'iso_639_1': '...  Released   \n",
       "3     90.0  [{'english_name': 'Spanish', 'iso_639_1': 'es'...  Released   \n",
       "4     90.0  [{'english_name': 'English', 'iso_639_1': 'en'...  Released   \n",
       "\n",
       "                                             tagline  \\\n",
       "0                                                NaN   \n",
       "1  If they lived in the same century they'd be pe...   \n",
       "2                                                NaN   \n",
       "3     The laborers are back full of love and laughs.   \n",
       "4  They left him for dead... They should have fin...   \n",
       "\n",
       "                       title  video  vote_average vote_count certification  \n",
       "0                        NaN    NaN           NaN        NaN           NaN  \n",
       "1             Kate & Leopold    0.0         6.316     1132.0         PG-13  \n",
       "2              November 1828    0.0         0.000        0.0           NaN  \n",
       "3  El día de los albañiles 2    0.0         7.197       71.0           NaN  \n",
       "4           The Silent Force    0.0         5.000        3.0           NaN  \n",
       "\n",
       "[5 rows x 26 columns]"
      ]
     },
     "execution_count": 226,
     "metadata": {},
     "output_type": "execute_result"
    }
   ],
   "source": [
    "Movies_2001 = pd.read_csv('final_tmdb_data_2001.csv.gz')\n",
    "Movies_2001.head()"
   ]
  },
  {
   "cell_type": "code",
   "execution_count": 227,
   "id": "4769c580",
   "metadata": {
    "ExecuteTime": {
     "end_time": "2022-08-04T23:41:57.155498Z",
     "start_time": "2022-08-04T23:41:57.113313Z"
    }
   },
   "outputs": [
    {
     "data": {
      "text/html": [
       "<div>\n",
       "<style scoped>\n",
       "    .dataframe tbody tr th:only-of-type {\n",
       "        vertical-align: middle;\n",
       "    }\n",
       "\n",
       "    .dataframe tbody tr th {\n",
       "        vertical-align: top;\n",
       "    }\n",
       "\n",
       "    .dataframe thead th {\n",
       "        text-align: right;\n",
       "    }\n",
       "</style>\n",
       "<table border=\"1\" class=\"dataframe\">\n",
       "  <thead>\n",
       "    <tr style=\"text-align: right;\">\n",
       "      <th></th>\n",
       "      <th>imdb_id</th>\n",
       "      <th>adult</th>\n",
       "      <th>backdrop_path</th>\n",
       "      <th>belongs_to_collection</th>\n",
       "      <th>budget</th>\n",
       "      <th>genres</th>\n",
       "      <th>homepage</th>\n",
       "      <th>id</th>\n",
       "      <th>original_language</th>\n",
       "      <th>original_title</th>\n",
       "      <th>...</th>\n",
       "      <th>revenue</th>\n",
       "      <th>runtime</th>\n",
       "      <th>spoken_languages</th>\n",
       "      <th>status</th>\n",
       "      <th>tagline</th>\n",
       "      <th>title</th>\n",
       "      <th>video</th>\n",
       "      <th>vote_average</th>\n",
       "      <th>vote_count</th>\n",
       "      <th>certification</th>\n",
       "    </tr>\n",
       "  </thead>\n",
       "  <tbody>\n",
       "    <tr>\n",
       "      <th>0</th>\n",
       "      <td>0</td>\n",
       "      <td>NaN</td>\n",
       "      <td>NaN</td>\n",
       "      <td>NaN</td>\n",
       "      <td>NaN</td>\n",
       "      <td>NaN</td>\n",
       "      <td>NaN</td>\n",
       "      <td>NaN</td>\n",
       "      <td>NaN</td>\n",
       "      <td>NaN</td>\n",
       "      <td>...</td>\n",
       "      <td>NaN</td>\n",
       "      <td>NaN</td>\n",
       "      <td>NaN</td>\n",
       "      <td>NaN</td>\n",
       "      <td>NaN</td>\n",
       "      <td>NaN</td>\n",
       "      <td>NaN</td>\n",
       "      <td>NaN</td>\n",
       "      <td>NaN</td>\n",
       "      <td>NaN</td>\n",
       "    </tr>\n",
       "    <tr>\n",
       "      <th>1</th>\n",
       "      <td>tt1831837</td>\n",
       "      <td>0.0</td>\n",
       "      <td>NaN</td>\n",
       "      <td>NaN</td>\n",
       "      <td>0.0</td>\n",
       "      <td>[{'id': 16, 'name': 'Animation'}, {'id': 35, '...</td>\n",
       "      <td>NaN</td>\n",
       "      <td>720041.0</td>\n",
       "      <td>ru</td>\n",
       "      <td>Звериные войны</td>\n",
       "      <td>...</td>\n",
       "      <td>0.0</td>\n",
       "      <td>73.0</td>\n",
       "      <td>[{'english_name': 'Russian', 'iso_639_1': 'ru'...</td>\n",
       "      <td>Released</td>\n",
       "      <td>The First and Only Animated Lampoon on Football</td>\n",
       "      <td>Animal Wars</td>\n",
       "      <td>0.0</td>\n",
       "      <td>0.0</td>\n",
       "      <td>0.0</td>\n",
       "      <td>NaN</td>\n",
       "    </tr>\n",
       "    <tr>\n",
       "      <th>2</th>\n",
       "      <td>tt1831837</td>\n",
       "      <td>0.0</td>\n",
       "      <td>NaN</td>\n",
       "      <td>NaN</td>\n",
       "      <td>0.0</td>\n",
       "      <td>[{'id': 16, 'name': 'Animation'}, {'id': 35, '...</td>\n",
       "      <td>NaN</td>\n",
       "      <td>720041.0</td>\n",
       "      <td>ru</td>\n",
       "      <td>Звериные войны</td>\n",
       "      <td>...</td>\n",
       "      <td>0.0</td>\n",
       "      <td>73.0</td>\n",
       "      <td>[{'english_name': 'Russian', 'iso_639_1': 'ru'...</td>\n",
       "      <td>Released</td>\n",
       "      <td>The First and Only Animated Lampoon on Football</td>\n",
       "      <td>Animal Wars</td>\n",
       "      <td>0.0</td>\n",
       "      <td>0.0</td>\n",
       "      <td>0.0</td>\n",
       "      <td>NaN</td>\n",
       "    </tr>\n",
       "    <tr>\n",
       "      <th>3</th>\n",
       "      <td>tt0113026</td>\n",
       "      <td>0.0</td>\n",
       "      <td>/vMFs7nw6P0bIV1jDsQpxAieAVnH.jpg</td>\n",
       "      <td>NaN</td>\n",
       "      <td>10000000.0</td>\n",
       "      <td>[{'id': 35, 'name': 'Comedy'}, {'id': 10402, '...</td>\n",
       "      <td>NaN</td>\n",
       "      <td>62127.0</td>\n",
       "      <td>en</td>\n",
       "      <td>The Fantasticks</td>\n",
       "      <td>...</td>\n",
       "      <td>0.0</td>\n",
       "      <td>86.0</td>\n",
       "      <td>[{'english_name': 'English', 'iso_639_1': 'en'...</td>\n",
       "      <td>Released</td>\n",
       "      <td>Try to remember the first time magic happened</td>\n",
       "      <td>The Fantasticks</td>\n",
       "      <td>0.0</td>\n",
       "      <td>5.5</td>\n",
       "      <td>22.0</td>\n",
       "      <td>NaN</td>\n",
       "    </tr>\n",
       "    <tr>\n",
       "      <th>4</th>\n",
       "      <td>tt0113092</td>\n",
       "      <td>0.0</td>\n",
       "      <td>NaN</td>\n",
       "      <td>NaN</td>\n",
       "      <td>0.0</td>\n",
       "      <td>[{'id': 878, 'name': 'Science Fiction'}]</td>\n",
       "      <td>NaN</td>\n",
       "      <td>110977.0</td>\n",
       "      <td>en</td>\n",
       "      <td>For the Cause</td>\n",
       "      <td>...</td>\n",
       "      <td>0.0</td>\n",
       "      <td>100.0</td>\n",
       "      <td>[{'english_name': 'English', 'iso_639_1': 'en'...</td>\n",
       "      <td>Released</td>\n",
       "      <td>The ultimate showdown on a forbidden planet.</td>\n",
       "      <td>For the Cause</td>\n",
       "      <td>0.0</td>\n",
       "      <td>5.1</td>\n",
       "      <td>8.0</td>\n",
       "      <td>NaN</td>\n",
       "    </tr>\n",
       "    <tr>\n",
       "      <th>...</th>\n",
       "      <td>...</td>\n",
       "      <td>...</td>\n",
       "      <td>...</td>\n",
       "      <td>...</td>\n",
       "      <td>...</td>\n",
       "      <td>...</td>\n",
       "      <td>...</td>\n",
       "      <td>...</td>\n",
       "      <td>...</td>\n",
       "      <td>...</td>\n",
       "      <td>...</td>\n",
       "      <td>...</td>\n",
       "      <td>...</td>\n",
       "      <td>...</td>\n",
       "      <td>...</td>\n",
       "      <td>...</td>\n",
       "      <td>...</td>\n",
       "      <td>...</td>\n",
       "      <td>...</td>\n",
       "      <td>...</td>\n",
       "      <td>...</td>\n",
       "    </tr>\n",
       "    <tr>\n",
       "      <th>2285</th>\n",
       "      <td>tt8795764</td>\n",
       "      <td>0.0</td>\n",
       "      <td>NaN</td>\n",
       "      <td>NaN</td>\n",
       "      <td>0.0</td>\n",
       "      <td>[{'id': 27, 'name': 'Horror'}]</td>\n",
       "      <td>https://www.utahwolf.com/films/coming-soon-new...</td>\n",
       "      <td>871624.0</td>\n",
       "      <td>en</td>\n",
       "      <td>New Breed</td>\n",
       "      <td>...</td>\n",
       "      <td>0.0</td>\n",
       "      <td>57.0</td>\n",
       "      <td>[{'english_name': 'English', 'iso_639_1': 'en'...</td>\n",
       "      <td>Released</td>\n",
       "      <td>NaN</td>\n",
       "      <td>New Breed</td>\n",
       "      <td>0.0</td>\n",
       "      <td>0.0</td>\n",
       "      <td>0.0</td>\n",
       "      <td>NR</td>\n",
       "    </tr>\n",
       "    <tr>\n",
       "      <th>2286</th>\n",
       "      <td>tt8929248</td>\n",
       "      <td>0.0</td>\n",
       "      <td>NaN</td>\n",
       "      <td>NaN</td>\n",
       "      <td>0.0</td>\n",
       "      <td>[{'id': 10751, 'name': 'Family'}, {'id': 18, '...</td>\n",
       "      <td>NaN</td>\n",
       "      <td>78417.0</td>\n",
       "      <td>ta</td>\n",
       "      <td>அழகான நாட்கள்</td>\n",
       "      <td>...</td>\n",
       "      <td>0.0</td>\n",
       "      <td>150.0</td>\n",
       "      <td>[{'english_name': 'Tamil', 'iso_639_1': 'ta', ...</td>\n",
       "      <td>Released</td>\n",
       "      <td>NaN</td>\n",
       "      <td>Azhagana Naatkal</td>\n",
       "      <td>0.0</td>\n",
       "      <td>0.0</td>\n",
       "      <td>0.0</td>\n",
       "      <td>NaN</td>\n",
       "    </tr>\n",
       "    <tr>\n",
       "      <th>2287</th>\n",
       "      <td>tt9071078</td>\n",
       "      <td>0.0</td>\n",
       "      <td>NaN</td>\n",
       "      <td>NaN</td>\n",
       "      <td>0.0</td>\n",
       "      <td>[{'id': 28, 'name': 'Action'}]</td>\n",
       "      <td>http://www.hkcinemagic.com/en/movie.asp?id=6627</td>\n",
       "      <td>201706.0</td>\n",
       "      <td>cn</td>\n",
       "      <td>致命密函</td>\n",
       "      <td>...</td>\n",
       "      <td>0.0</td>\n",
       "      <td>90.0</td>\n",
       "      <td>[{'english_name': 'Cantonese', 'iso_639_1': 'c...</td>\n",
       "      <td>Released</td>\n",
       "      <td>NaN</td>\n",
       "      <td>Chinese Heroes</td>\n",
       "      <td>0.0</td>\n",
       "      <td>3.0</td>\n",
       "      <td>2.0</td>\n",
       "      <td>NaN</td>\n",
       "    </tr>\n",
       "    <tr>\n",
       "      <th>2288</th>\n",
       "      <td>tt9099724</td>\n",
       "      <td>0.0</td>\n",
       "      <td>NaN</td>\n",
       "      <td>NaN</td>\n",
       "      <td>0.0</td>\n",
       "      <td>[{'id': 18, 'name': 'Drama'}]</td>\n",
       "      <td>NaN</td>\n",
       "      <td>616033.0</td>\n",
       "      <td>ja</td>\n",
       "      <td>Rokushukan Private Moment</td>\n",
       "      <td>...</td>\n",
       "      <td>0.0</td>\n",
       "      <td>102.0</td>\n",
       "      <td>[{'english_name': 'Japanese', 'iso_639_1': 'ja...</td>\n",
       "      <td>Released</td>\n",
       "      <td>NaN</td>\n",
       "      <td>Rokushukan Private Moment</td>\n",
       "      <td>0.0</td>\n",
       "      <td>0.0</td>\n",
       "      <td>0.0</td>\n",
       "      <td>NaN</td>\n",
       "    </tr>\n",
       "    <tr>\n",
       "      <th>2289</th>\n",
       "      <td>tt9798698</td>\n",
       "      <td>0.0</td>\n",
       "      <td>NaN</td>\n",
       "      <td>NaN</td>\n",
       "      <td>0.0</td>\n",
       "      <td>[]</td>\n",
       "      <td>NaN</td>\n",
       "      <td>580269.0</td>\n",
       "      <td>en</td>\n",
       "      <td>Gay holocaust</td>\n",
       "      <td>...</td>\n",
       "      <td>0.0</td>\n",
       "      <td>0.0</td>\n",
       "      <td>[]</td>\n",
       "      <td>Released</td>\n",
       "      <td>NaN</td>\n",
       "      <td>Gay holocaust</td>\n",
       "      <td>0.0</td>\n",
       "      <td>0.0</td>\n",
       "      <td>0.0</td>\n",
       "      <td>NaN</td>\n",
       "    </tr>\n",
       "  </tbody>\n",
       "</table>\n",
       "<p>4512 rows × 26 columns</p>\n",
       "</div>"
      ],
      "text/plain": [
       "        imdb_id  adult                     backdrop_path  \\\n",
       "0             0    NaN                               NaN   \n",
       "1     tt1831837    0.0                               NaN   \n",
       "2     tt1831837    0.0                               NaN   \n",
       "3     tt0113026    0.0  /vMFs7nw6P0bIV1jDsQpxAieAVnH.jpg   \n",
       "4     tt0113092    0.0                               NaN   \n",
       "...         ...    ...                               ...   \n",
       "2285  tt8795764    0.0                               NaN   \n",
       "2286  tt8929248    0.0                               NaN   \n",
       "2287  tt9071078    0.0                               NaN   \n",
       "2288  tt9099724    0.0                               NaN   \n",
       "2289  tt9798698    0.0                               NaN   \n",
       "\n",
       "     belongs_to_collection      budget  \\\n",
       "0                      NaN         NaN   \n",
       "1                      NaN         0.0   \n",
       "2                      NaN         0.0   \n",
       "3                      NaN  10000000.0   \n",
       "4                      NaN         0.0   \n",
       "...                    ...         ...   \n",
       "2285                   NaN         0.0   \n",
       "2286                   NaN         0.0   \n",
       "2287                   NaN         0.0   \n",
       "2288                   NaN         0.0   \n",
       "2289                   NaN         0.0   \n",
       "\n",
       "                                                 genres  \\\n",
       "0                                                   NaN   \n",
       "1     [{'id': 16, 'name': 'Animation'}, {'id': 35, '...   \n",
       "2     [{'id': 16, 'name': 'Animation'}, {'id': 35, '...   \n",
       "3     [{'id': 35, 'name': 'Comedy'}, {'id': 10402, '...   \n",
       "4              [{'id': 878, 'name': 'Science Fiction'}]   \n",
       "...                                                 ...   \n",
       "2285                     [{'id': 27, 'name': 'Horror'}]   \n",
       "2286  [{'id': 10751, 'name': 'Family'}, {'id': 18, '...   \n",
       "2287                     [{'id': 28, 'name': 'Action'}]   \n",
       "2288                      [{'id': 18, 'name': 'Drama'}]   \n",
       "2289                                                 []   \n",
       "\n",
       "                                               homepage        id  \\\n",
       "0                                                   NaN       NaN   \n",
       "1                                                   NaN  720041.0   \n",
       "2                                                   NaN  720041.0   \n",
       "3                                                   NaN   62127.0   \n",
       "4                                                   NaN  110977.0   \n",
       "...                                                 ...       ...   \n",
       "2285  https://www.utahwolf.com/films/coming-soon-new...  871624.0   \n",
       "2286                                                NaN   78417.0   \n",
       "2287    http://www.hkcinemagic.com/en/movie.asp?id=6627  201706.0   \n",
       "2288                                                NaN  616033.0   \n",
       "2289                                                NaN  580269.0   \n",
       "\n",
       "     original_language             original_title  ... revenue  runtime  \\\n",
       "0                  NaN                        NaN  ...     NaN      NaN   \n",
       "1                   ru             Звериные войны  ...     0.0     73.0   \n",
       "2                   ru             Звериные войны  ...     0.0     73.0   \n",
       "3                   en            The Fantasticks  ...     0.0     86.0   \n",
       "4                   en              For the Cause  ...     0.0    100.0   \n",
       "...                ...                        ...  ...     ...      ...   \n",
       "2285                en                  New Breed  ...     0.0     57.0   \n",
       "2286                ta              அழகான நாட்கள்  ...     0.0    150.0   \n",
       "2287                cn                       致命密函  ...     0.0     90.0   \n",
       "2288                ja  Rokushukan Private Moment  ...     0.0    102.0   \n",
       "2289                en              Gay holocaust  ...     0.0      0.0   \n",
       "\n",
       "                                       spoken_languages    status  \\\n",
       "0                                                   NaN       NaN   \n",
       "1     [{'english_name': 'Russian', 'iso_639_1': 'ru'...  Released   \n",
       "2     [{'english_name': 'Russian', 'iso_639_1': 'ru'...  Released   \n",
       "3     [{'english_name': 'English', 'iso_639_1': 'en'...  Released   \n",
       "4     [{'english_name': 'English', 'iso_639_1': 'en'...  Released   \n",
       "...                                                 ...       ...   \n",
       "2285  [{'english_name': 'English', 'iso_639_1': 'en'...  Released   \n",
       "2286  [{'english_name': 'Tamil', 'iso_639_1': 'ta', ...  Released   \n",
       "2287  [{'english_name': 'Cantonese', 'iso_639_1': 'c...  Released   \n",
       "2288  [{'english_name': 'Japanese', 'iso_639_1': 'ja...  Released   \n",
       "2289                                                 []  Released   \n",
       "\n",
       "                                              tagline  \\\n",
       "0                                                 NaN   \n",
       "1     The First and Only Animated Lampoon on Football   \n",
       "2     The First and Only Animated Lampoon on Football   \n",
       "3       Try to remember the first time magic happened   \n",
       "4        The ultimate showdown on a forbidden planet.   \n",
       "...                                               ...   \n",
       "2285                                              NaN   \n",
       "2286                                              NaN   \n",
       "2287                                              NaN   \n",
       "2288                                              NaN   \n",
       "2289                                              NaN   \n",
       "\n",
       "                          title  video  vote_average vote_count certification  \n",
       "0                           NaN    NaN           NaN        NaN           NaN  \n",
       "1                   Animal Wars    0.0           0.0        0.0           NaN  \n",
       "2                   Animal Wars    0.0           0.0        0.0           NaN  \n",
       "3               The Fantasticks    0.0           5.5       22.0           NaN  \n",
       "4                 For the Cause    0.0           5.1        8.0           NaN  \n",
       "...                         ...    ...           ...        ...           ...  \n",
       "2285                  New Breed    0.0           0.0        0.0            NR  \n",
       "2286           Azhagana Naatkal    0.0           0.0        0.0           NaN  \n",
       "2287             Chinese Heroes    0.0           3.0        2.0           NaN  \n",
       "2288  Rokushukan Private Moment    0.0           0.0        0.0           NaN  \n",
       "2289              Gay holocaust    0.0           0.0        0.0           NaN  \n",
       "\n",
       "[4512 rows x 26 columns]"
      ]
     },
     "execution_count": 227,
     "metadata": {},
     "output_type": "execute_result"
    }
   ],
   "source": [
    "Movies0001_df = pd.concat([Movies_2000, Movies_2001], axis=0)\n",
    "Movies0001_df"
   ]
  },
  {
   "cell_type": "code",
   "execution_count": 229,
   "id": "c78f2121",
   "metadata": {
    "ExecuteTime": {
     "end_time": "2022-08-04T23:46:41.273469Z",
     "start_time": "2022-08-04T23:46:41.264019Z"
    },
    "scrolled": true
   },
   "outputs": [
    {
     "data": {
      "text/plain": [
       "0           NaN\n",
       "1           0.0\n",
       "2           0.0\n",
       "3    10000000.0\n",
       "4           0.0\n",
       "Name: budget, dtype: float64"
      ]
     },
     "execution_count": 229,
     "metadata": {},
     "output_type": "execute_result"
    }
   ],
   "source": [
    "Movies0001_df['budget'].head()"
   ]
  },
  {
   "cell_type": "code",
   "execution_count": 231,
   "id": "457441c3",
   "metadata": {
    "ExecuteTime": {
     "end_time": "2022-08-04T23:48:10.133347Z",
     "start_time": "2022-08-04T23:48:10.116459Z"
    }
   },
   "outputs": [
    {
     "data": {
      "text/plain": [
       "600"
      ]
     },
     "execution_count": 231,
     "metadata": {},
     "output_type": "execute_result"
    }
   ],
   "source": [
    "Movies_wit_fininfo = Movies0001_df['budget'] > 0\n",
    "Movies_wit_fininfo.sum()"
   ]
  },
  {
   "cell_type": "code",
   "execution_count": 241,
   "id": "3e89b3c3",
   "metadata": {
    "ExecuteTime": {
     "end_time": "2022-08-04T23:54:28.768490Z",
     "start_time": "2022-08-04T23:54:28.755075Z"
    },
    "scrolled": true
   },
   "outputs": [
    {
     "data": {
      "text/plain": [
       "R          465\n",
       "PG-13      181\n",
       "NR          72\n",
       "PG          67\n",
       "G           28\n",
       "NC-17        7\n",
       "Unrated      1\n",
       "-            1\n",
       "Name: certification, dtype: int64"
      ]
     },
     "execution_count": 241,
     "metadata": {},
     "output_type": "execute_result"
    }
   ],
   "source": [
    "Movies0001_df['certification'].value_counts()"
   ]
  },
  {
   "cell_type": "code",
   "execution_count": 244,
   "id": "d999ee8f",
   "metadata": {
    "ExecuteTime": {
     "end_time": "2022-08-04T23:58:43.558664Z",
     "start_time": "2022-08-04T23:58:43.538820Z"
    },
    "scrolled": true
   },
   "outputs": [
    {
     "data": {
      "text/plain": [
       "6322475.315964524"
      ]
     },
     "execution_count": 244,
     "metadata": {},
     "output_type": "execute_result"
    }
   ],
   "source": [
    "Movies0001_df['revenue'].mean()"
   ]
  },
  {
   "cell_type": "code",
   "execution_count": 245,
   "id": "0ec9dfcb",
   "metadata": {
    "ExecuteTime": {
     "end_time": "2022-08-04T23:59:03.865007Z",
     "start_time": "2022-08-04T23:59:03.845666Z"
    }
   },
   "outputs": [
    {
     "data": {
      "text/plain": [
       "2996167.350776053"
      ]
     },
     "execution_count": 245,
     "metadata": {},
     "output_type": "execute_result"
    }
   ],
   "source": [
    "Movies0001_df['budget'].mean()"
   ]
  },
  {
   "cell_type": "code",
   "execution_count": 228,
   "id": "1c147311",
   "metadata": {
    "ExecuteTime": {
     "end_time": "2022-08-04T23:44:50.132228Z",
     "start_time": "2022-08-04T23:44:49.872016Z"
    }
   },
   "outputs": [],
   "source": [
    "Movies0001_df.to_csv(\"DATA/tmdb_results_combined.csv.gz\",compression='gzip',index=False)\n",
    "\n"
   ]
  },
  {
   "cell_type": "code",
   "execution_count": 172,
   "id": "a89b2192",
   "metadata": {
    "ExecuteTime": {
     "end_time": "2022-08-04T22:38:47.762481Z",
     "start_time": "2022-08-04T22:38:47.580108Z"
    }
   },
   "outputs": [],
   "source": [
    "#import os\n",
    "#os.makedirs('DATA/',exist_ok=True)\n",
    "\n",
    "#os.listdir(\"DATA/\")"
   ]
  },
  {
   "cell_type": "code",
   "execution_count": 174,
   "id": "f640241c",
   "metadata": {
    "ExecuteTime": {
     "end_time": "2022-08-04T22:38:48.085247Z",
     "start_time": "2022-08-04T22:38:47.918389Z"
    }
   },
   "outputs": [],
   "source": [
    "#ratings.to_csv(\"DATA/ratings.csv.gz\",compression='gzip',index=False)"
   ]
  },
  {
   "cell_type": "code",
   "execution_count": 175,
   "id": "4461d5cc",
   "metadata": {
    "ExecuteTime": {
     "end_time": "2022-08-04T22:38:48.269646Z",
     "start_time": "2022-08-04T22:38:48.086767Z"
    }
   },
   "outputs": [],
   "source": [
    "#akas.to_csv(\"DATA/akas.csv.gz\",compression='gzip',index=False)"
   ]
  },
  {
   "cell_type": "code",
   "execution_count": 176,
   "id": "2d888701",
   "metadata": {
    "ExecuteTime": {
     "end_time": "2022-08-04T22:38:48.408030Z",
     "start_time": "2022-08-04T22:38:48.271630Z"
    },
    "scrolled": true
   },
   "outputs": [],
   "source": [
    "#basics = pd.read_csv(\"DATA/basics.csv.gz\", low_memory = False)\n",
    "#basics.head()"
   ]
  },
  {
   "cell_type": "code",
   "execution_count": 177,
   "id": "21eef54f",
   "metadata": {
    "ExecuteTime": {
     "end_time": "2022-08-04T22:38:48.515662Z",
     "start_time": "2022-08-04T22:38:48.410015Z"
    }
   },
   "outputs": [],
   "source": [
    "#ratings = pd.read_csv(\"DATA/ratings.csv.gz\", low_memory = False)\n",
    "#ratings.head()"
   ]
  },
  {
   "cell_type": "code",
   "execution_count": 178,
   "id": "be61982a",
   "metadata": {
    "ExecuteTime": {
     "end_time": "2022-08-04T22:38:48.638831Z",
     "start_time": "2022-08-04T22:38:48.517150Z"
    }
   },
   "outputs": [],
   "source": [
    "#akas = pd.read_csv(\"DATA/akas.csv.gz\", low_memory = False)\n",
    "#akas.head()"
   ]
  }
 ],
 "metadata": {
  "hide_input": false,
  "kernelspec": {
   "display_name": "Python (dojo-env)",
   "language": "python",
   "name": "dojo-env"
  },
  "language_info": {
   "codemirror_mode": {
    "name": "ipython",
    "version": 3
   },
   "file_extension": ".py",
   "mimetype": "text/x-python",
   "name": "python",
   "nbconvert_exporter": "python",
   "pygments_lexer": "ipython3",
   "version": "3.8.13"
  },
  "latex_envs": {
   "LaTeX_envs_menu_present": true,
   "autoclose": false,
   "autocomplete": true,
   "bibliofile": "biblio.bib",
   "cite_by": "apalike",
   "current_citInitial": 1,
   "eqLabelWithNumbers": true,
   "eqNumInitial": 1,
   "hotkeys": {
    "equation": "Ctrl-E",
    "itemize": "Ctrl-I"
   },
   "labels_anchors": false,
   "latex_user_defs": false,
   "report_style_numbering": false,
   "user_envs_cfg": false
  },
  "nbTranslate": {
   "displayLangs": [
    "*"
   ],
   "hotkey": "alt-t",
   "langInMainMenu": true,
   "sourceLang": "en",
   "targetLang": "fr",
   "useGoogleTranslate": true
  },
  "toc": {
   "base_numbering": 1,
   "nav_menu": {},
   "number_sections": false,
   "sideBar": true,
   "skip_h1_title": false,
   "title_cell": "Table of Contents",
   "title_sidebar": "Contents",
   "toc_cell": false,
   "toc_position": {},
   "toc_section_display": true,
   "toc_window_display": false
  },
  "varInspector": {
   "cols": {
    "lenName": 16,
    "lenType": 16,
    "lenVar": 40
   },
   "kernels_config": {
    "python": {
     "delete_cmd_postfix": "",
     "delete_cmd_prefix": "del ",
     "library": "var_list.py",
     "varRefreshCmd": "print(var_dic_list())"
    },
    "r": {
     "delete_cmd_postfix": ") ",
     "delete_cmd_prefix": "rm(",
     "library": "var_list.r",
     "varRefreshCmd": "cat(var_dic_list()) "
    }
   },
   "types_to_exclude": [
    "module",
    "function",
    "builtin_function_or_method",
    "instance",
    "_Feature"
   ],
   "window_display": false
  }
 },
 "nbformat": 4,
 "nbformat_minor": 5
}
