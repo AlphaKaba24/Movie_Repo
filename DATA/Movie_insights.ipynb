{
 "cells": [
  {
   "cell_type": "code",
   "execution_count": 1,
   "id": "e8c305ae",
   "metadata": {
    "ExecuteTime": {
     "end_time": "2022-08-04T01:50:34.674131Z",
     "start_time": "2022-08-04T01:50:34.307710Z"
    }
   },
   "outputs": [],
   "source": [
    "import pandas as pd"
   ]
  },
  {
   "cell_type": "code",
   "execution_count": 2,
   "id": "6431c712",
   "metadata": {
    "ExecuteTime": {
     "end_time": "2022-08-04T01:50:35.320060Z",
     "start_time": "2022-08-04T01:50:35.314604Z"
    }
   },
   "outputs": [],
   "source": [
    "basics_url='https://datasets.imdbws.com/title.basics.tsv.gz'"
   ]
  },
  {
   "cell_type": "code",
   "execution_count": 3,
   "id": "d17bcf74",
   "metadata": {
    "ExecuteTime": {
     "end_time": "2022-08-04T01:50:36.118938Z",
     "start_time": "2022-08-04T01:50:36.113457Z"
    }
   },
   "outputs": [],
   "source": [
    "ratings_url='https://datasets.imdbws.com/title.ratings.tsv.gz'"
   ]
  },
  {
   "cell_type": "code",
   "execution_count": 4,
   "id": "561c33a3",
   "metadata": {
    "ExecuteTime": {
     "end_time": "2022-08-04T01:50:36.749324Z",
     "start_time": "2022-08-04T01:50:36.731468Z"
    }
   },
   "outputs": [],
   "source": [
    "akas_url='https://datasets.imdbws.com/title.akas.tsv.gz'"
   ]
  },
  {
   "cell_type": "code",
   "execution_count": 5,
   "id": "7c000d3d",
   "metadata": {
    "ExecuteTime": {
     "end_time": "2022-08-04T01:50:53.690090Z",
     "start_time": "2022-08-04T01:50:37.457863Z"
    }
   },
   "outputs": [
    {
     "name": "stderr",
     "output_type": "stream",
     "text": [
      "C:\\Users\\Alpha\\AppData\\Local\\Temp\\ipykernel_3296\\1344591589.py:1: DtypeWarning: Columns (4,5) have mixed types. Specify dtype option on import or set low_memory=False.\n",
      "  basics= pd.read_csv(basics_url, sep='\\t', low_memory='False')\n"
     ]
    }
   ],
   "source": [
    "basics= pd.read_csv(basics_url, sep='\\t', low_memory='False')"
   ]
  },
  {
   "cell_type": "code",
   "execution_count": 6,
   "id": "6b2dea24",
   "metadata": {
    "ExecuteTime": {
     "end_time": "2022-08-04T01:50:54.427933Z",
     "start_time": "2022-08-04T01:50:53.707450Z"
    }
   },
   "outputs": [],
   "source": [
    "ratings = pd.read_csv(ratings_url, sep='\\t', low_memory='False')"
   ]
  },
  {
   "cell_type": "code",
   "execution_count": 7,
   "id": "3e9121ef",
   "metadata": {
    "ExecuteTime": {
     "end_time": "2022-08-04T01:51:32.375694Z",
     "start_time": "2022-08-04T01:50:54.444909Z"
    }
   },
   "outputs": [
    {
     "name": "stderr",
     "output_type": "stream",
     "text": [
      "C:\\Users\\Alpha\\AppData\\Local\\Temp\\ipykernel_3296\\3527530519.py:1: DtypeWarning: Columns (7) have mixed types. Specify dtype option on import or set low_memory=False.\n",
      "  akas = pd.read_csv(akas_url, sep='\\t', low_memory='False')\n"
     ]
    }
   ],
   "source": [
    "akas = pd.read_csv(akas_url, sep='\\t', low_memory='False')"
   ]
  },
  {
   "cell_type": "code",
   "execution_count": 8,
   "id": "3b2f608d",
   "metadata": {
    "ExecuteTime": {
     "end_time": "2022-08-04T01:54:27.957131Z",
     "start_time": "2022-08-04T01:54:16.496579Z"
    }
   },
   "outputs": [],
   "source": [
    "basics.replace({'\\\\N':np.nan}, inplace=True)"
   ]
  },
  {
   "cell_type": "code",
   "execution_count": 9,
   "id": "46c7b0d5",
   "metadata": {
    "ExecuteTime": {
     "end_time": "2022-08-04T01:54:28.141593Z",
     "start_time": "2022-08-04T01:54:27.973995Z"
    }
   },
   "outputs": [],
   "source": [
    "ratings.replace({'\\\\N':np.nan}, inplace=True)"
   ]
  },
  {
   "cell_type": "code",
   "execution_count": 10,
   "id": "140cf23c",
   "metadata": {
    "ExecuteTime": {
     "end_time": "2022-08-04T01:54:57.402053Z",
     "start_time": "2022-08-04T01:54:28.158955Z"
    }
   },
   "outputs": [],
   "source": [
    "akas.replace({'\\\\N':np.nan}, inplace=True)"
   ]
  },
  {
   "cell_type": "code",
   "execution_count": 11,
   "id": "1cd54794",
   "metadata": {
    "ExecuteTime": {
     "end_time": "2022-08-04T01:56:04.362991Z",
     "start_time": "2022-08-04T01:56:04.345135Z"
    }
   },
   "outputs": [
    {
     "data": {
      "text/html": [
       "<div>\n",
       "<style scoped>\n",
       "    .dataframe tbody tr th:only-of-type {\n",
       "        vertical-align: middle;\n",
       "    }\n",
       "\n",
       "    .dataframe tbody tr th {\n",
       "        vertical-align: top;\n",
       "    }\n",
       "\n",
       "    .dataframe thead th {\n",
       "        text-align: right;\n",
       "    }\n",
       "</style>\n",
       "<table border=\"1\" class=\"dataframe\">\n",
       "  <thead>\n",
       "    <tr style=\"text-align: right;\">\n",
       "      <th></th>\n",
       "      <th>tconst</th>\n",
       "      <th>titleType</th>\n",
       "      <th>primaryTitle</th>\n",
       "      <th>originalTitle</th>\n",
       "      <th>isAdult</th>\n",
       "      <th>startYear</th>\n",
       "      <th>endYear</th>\n",
       "      <th>runtimeMinutes</th>\n",
       "      <th>genres</th>\n",
       "    </tr>\n",
       "  </thead>\n",
       "  <tbody>\n",
       "    <tr>\n",
       "      <th>0</th>\n",
       "      <td>tt0000001</td>\n",
       "      <td>short</td>\n",
       "      <td>Carmencita</td>\n",
       "      <td>Carmencita</td>\n",
       "      <td>0</td>\n",
       "      <td>1894</td>\n",
       "      <td>NaN</td>\n",
       "      <td>1</td>\n",
       "      <td>Documentary,Short</td>\n",
       "    </tr>\n",
       "    <tr>\n",
       "      <th>1</th>\n",
       "      <td>tt0000002</td>\n",
       "      <td>short</td>\n",
       "      <td>Le clown et ses chiens</td>\n",
       "      <td>Le clown et ses chiens</td>\n",
       "      <td>0</td>\n",
       "      <td>1892</td>\n",
       "      <td>NaN</td>\n",
       "      <td>5</td>\n",
       "      <td>Animation,Short</td>\n",
       "    </tr>\n",
       "    <tr>\n",
       "      <th>2</th>\n",
       "      <td>tt0000003</td>\n",
       "      <td>short</td>\n",
       "      <td>Pauvre Pierrot</td>\n",
       "      <td>Pauvre Pierrot</td>\n",
       "      <td>0</td>\n",
       "      <td>1892</td>\n",
       "      <td>NaN</td>\n",
       "      <td>4</td>\n",
       "      <td>Animation,Comedy,Romance</td>\n",
       "    </tr>\n",
       "    <tr>\n",
       "      <th>3</th>\n",
       "      <td>tt0000004</td>\n",
       "      <td>short</td>\n",
       "      <td>Un bon bock</td>\n",
       "      <td>Un bon bock</td>\n",
       "      <td>0</td>\n",
       "      <td>1892</td>\n",
       "      <td>NaN</td>\n",
       "      <td>12</td>\n",
       "      <td>Animation,Short</td>\n",
       "    </tr>\n",
       "    <tr>\n",
       "      <th>4</th>\n",
       "      <td>tt0000005</td>\n",
       "      <td>short</td>\n",
       "      <td>Blacksmith Scene</td>\n",
       "      <td>Blacksmith Scene</td>\n",
       "      <td>0</td>\n",
       "      <td>1893</td>\n",
       "      <td>NaN</td>\n",
       "      <td>1</td>\n",
       "      <td>Comedy,Short</td>\n",
       "    </tr>\n",
       "    <tr>\n",
       "      <th>...</th>\n",
       "      <td>...</td>\n",
       "      <td>...</td>\n",
       "      <td>...</td>\n",
       "      <td>...</td>\n",
       "      <td>...</td>\n",
       "      <td>...</td>\n",
       "      <td>...</td>\n",
       "      <td>...</td>\n",
       "      <td>...</td>\n",
       "    </tr>\n",
       "    <tr>\n",
       "      <th>9117058</th>\n",
       "      <td>tt9916848</td>\n",
       "      <td>tvEpisode</td>\n",
       "      <td>Episode #3.17</td>\n",
       "      <td>Episode #3.17</td>\n",
       "      <td>0</td>\n",
       "      <td>2010</td>\n",
       "      <td>NaN</td>\n",
       "      <td>NaN</td>\n",
       "      <td>Action,Drama,Family</td>\n",
       "    </tr>\n",
       "    <tr>\n",
       "      <th>9117059</th>\n",
       "      <td>tt9916850</td>\n",
       "      <td>tvEpisode</td>\n",
       "      <td>Episode #3.19</td>\n",
       "      <td>Episode #3.19</td>\n",
       "      <td>0</td>\n",
       "      <td>2010</td>\n",
       "      <td>NaN</td>\n",
       "      <td>NaN</td>\n",
       "      <td>Action,Drama,Family</td>\n",
       "    </tr>\n",
       "    <tr>\n",
       "      <th>9117060</th>\n",
       "      <td>tt9916852</td>\n",
       "      <td>tvEpisode</td>\n",
       "      <td>Episode #3.20</td>\n",
       "      <td>Episode #3.20</td>\n",
       "      <td>0</td>\n",
       "      <td>2010</td>\n",
       "      <td>NaN</td>\n",
       "      <td>NaN</td>\n",
       "      <td>Action,Drama,Family</td>\n",
       "    </tr>\n",
       "    <tr>\n",
       "      <th>9117061</th>\n",
       "      <td>tt9916856</td>\n",
       "      <td>short</td>\n",
       "      <td>The Wind</td>\n",
       "      <td>The Wind</td>\n",
       "      <td>0</td>\n",
       "      <td>2015</td>\n",
       "      <td>NaN</td>\n",
       "      <td>27</td>\n",
       "      <td>Short</td>\n",
       "    </tr>\n",
       "    <tr>\n",
       "      <th>9117062</th>\n",
       "      <td>tt9916880</td>\n",
       "      <td>tvEpisode</td>\n",
       "      <td>Horrid Henry Knows It All</td>\n",
       "      <td>Horrid Henry Knows It All</td>\n",
       "      <td>0</td>\n",
       "      <td>2014</td>\n",
       "      <td>NaN</td>\n",
       "      <td>10</td>\n",
       "      <td>Adventure,Animation,Comedy</td>\n",
       "    </tr>\n",
       "  </tbody>\n",
       "</table>\n",
       "<p>9117063 rows × 9 columns</p>\n",
       "</div>"
      ],
      "text/plain": [
       "            tconst  titleType               primaryTitle  \\\n",
       "0        tt0000001      short                 Carmencita   \n",
       "1        tt0000002      short     Le clown et ses chiens   \n",
       "2        tt0000003      short             Pauvre Pierrot   \n",
       "3        tt0000004      short                Un bon bock   \n",
       "4        tt0000005      short           Blacksmith Scene   \n",
       "...            ...        ...                        ...   \n",
       "9117058  tt9916848  tvEpisode              Episode #3.17   \n",
       "9117059  tt9916850  tvEpisode              Episode #3.19   \n",
       "9117060  tt9916852  tvEpisode              Episode #3.20   \n",
       "9117061  tt9916856      short                   The Wind   \n",
       "9117062  tt9916880  tvEpisode  Horrid Henry Knows It All   \n",
       "\n",
       "                     originalTitle isAdult startYear endYear runtimeMinutes  \\\n",
       "0                       Carmencita       0      1894     NaN              1   \n",
       "1           Le clown et ses chiens       0      1892     NaN              5   \n",
       "2                   Pauvre Pierrot       0      1892     NaN              4   \n",
       "3                      Un bon bock       0      1892     NaN             12   \n",
       "4                 Blacksmith Scene       0      1893     NaN              1   \n",
       "...                            ...     ...       ...     ...            ...   \n",
       "9117058              Episode #3.17       0      2010     NaN            NaN   \n",
       "9117059              Episode #3.19       0      2010     NaN            NaN   \n",
       "9117060              Episode #3.20       0      2010     NaN            NaN   \n",
       "9117061                   The Wind       0      2015     NaN             27   \n",
       "9117062  Horrid Henry Knows It All       0      2014     NaN             10   \n",
       "\n",
       "                             genres  \n",
       "0                 Documentary,Short  \n",
       "1                   Animation,Short  \n",
       "2          Animation,Comedy,Romance  \n",
       "3                   Animation,Short  \n",
       "4                      Comedy,Short  \n",
       "...                             ...  \n",
       "9117058         Action,Drama,Family  \n",
       "9117059         Action,Drama,Family  \n",
       "9117060         Action,Drama,Family  \n",
       "9117061                       Short  \n",
       "9117062  Adventure,Animation,Comedy  \n",
       "\n",
       "[9117063 rows x 9 columns]"
      ]
     },
     "execution_count": 11,
     "metadata": {},
     "output_type": "execute_result"
    }
   ],
   "source": [
    "basics"
   ]
  },
  {
   "cell_type": "code",
   "execution_count": 12,
   "id": "9d9bc085",
   "metadata": {
    "ExecuteTime": {
     "end_time": "2022-08-04T01:56:07.809016Z",
     "start_time": "2022-08-04T01:56:07.396208Z"
    }
   },
   "outputs": [
    {
     "data": {
      "text/plain": [
       "tvEpisode       6863574\n",
       "short            881902\n",
       "movie            617217\n",
       "video            263699\n",
       "tvSeries         228979\n",
       "tvMovie          137006\n",
       "tvMiniSeries      44538\n",
       "tvSpecial         37785\n",
       "videoGame         31735\n",
       "tvShort           10626\n",
       "tvPilot               2\n",
       "Name: titleType, dtype: int64"
      ]
     },
     "execution_count": 12,
     "metadata": {},
     "output_type": "execute_result"
    }
   ],
   "source": [
    "basics['titleType'].value_counts()"
   ]
  },
  {
   "cell_type": "code",
   "execution_count": 13,
   "id": "66a094c9",
   "metadata": {
    "ExecuteTime": {
     "end_time": "2022-08-04T01:56:12.928855Z",
     "start_time": "2022-08-04T01:56:09.529700Z"
    }
   },
   "outputs": [],
   "source": [
    "basics = basics[basics[\"titleType\"].str.contains(\"tvEpisode\")==False]"
   ]
  },
  {
   "cell_type": "code",
   "execution_count": 14,
   "id": "d5c2fa51",
   "metadata": {
    "ExecuteTime": {
     "end_time": "2022-08-04T01:56:13.820768Z",
     "start_time": "2022-08-04T01:56:12.945719Z"
    }
   },
   "outputs": [],
   "source": [
    "basics = basics[basics[\"titleType\"].str.contains(\"short\")==False]"
   ]
  },
  {
   "cell_type": "code",
   "execution_count": 15,
   "id": "eba79414",
   "metadata": {
    "ExecuteTime": {
     "end_time": "2022-08-04T01:56:14.512536Z",
     "start_time": "2022-08-04T01:56:13.945217Z"
    }
   },
   "outputs": [],
   "source": [
    "basics = basics[basics[\"titleType\"].str.contains(\"video\")==False]"
   ]
  },
  {
   "cell_type": "code",
   "execution_count": 16,
   "id": "387f1d1a",
   "metadata": {
    "ExecuteTime": {
     "end_time": "2022-08-04T01:56:14.989760Z",
     "start_time": "2022-08-04T01:56:14.545386Z"
    }
   },
   "outputs": [],
   "source": [
    "basics = basics[basics[\"titleType\"].str.contains(\"tvMovie\")==False]"
   ]
  },
  {
   "cell_type": "code",
   "execution_count": 17,
   "id": "36a1fba8",
   "metadata": {
    "ExecuteTime": {
     "end_time": "2022-08-04T01:56:15.420389Z",
     "start_time": "2022-08-04T01:56:15.006753Z"
    }
   },
   "outputs": [],
   "source": [
    "basics = basics[basics[\"titleType\"].str.contains(\"tvSeries\")==False]"
   ]
  },
  {
   "cell_type": "code",
   "execution_count": 18,
   "id": "f61df3be",
   "metadata": {
    "ExecuteTime": {
     "end_time": "2022-08-04T01:56:15.759080Z",
     "start_time": "2022-08-04T01:56:15.452847Z"
    }
   },
   "outputs": [],
   "source": [
    "basics = basics[basics[\"titleType\"].str.contains(\"tvMiniSeries\")==False]"
   ]
  },
  {
   "cell_type": "code",
   "execution_count": 19,
   "id": "fd4082eb",
   "metadata": {
    "ExecuteTime": {
     "end_time": "2022-08-04T01:56:16.204656Z",
     "start_time": "2022-08-04T01:56:15.914131Z"
    }
   },
   "outputs": [],
   "source": [
    "basics = basics[basics[\"titleType\"].str.contains(\"tvShort\")==False]"
   ]
  },
  {
   "cell_type": "code",
   "execution_count": 20,
   "id": "5ab4af9f",
   "metadata": {
    "ExecuteTime": {
     "end_time": "2022-08-04T01:56:16.512396Z",
     "start_time": "2022-08-04T01:56:16.221051Z"
    }
   },
   "outputs": [],
   "source": [
    "basics = basics[basics[\"titleType\"].str.contains(\"videoGame\")==False]"
   ]
  },
  {
   "cell_type": "code",
   "execution_count": 21,
   "id": "64895beb",
   "metadata": {
    "ExecuteTime": {
     "end_time": "2022-08-04T01:56:17.804697Z",
     "start_time": "2022-08-04T01:56:17.782898Z"
    }
   },
   "outputs": [
    {
     "data": {
      "text/html": [
       "<div>\n",
       "<style scoped>\n",
       "    .dataframe tbody tr th:only-of-type {\n",
       "        vertical-align: middle;\n",
       "    }\n",
       "\n",
       "    .dataframe tbody tr th {\n",
       "        vertical-align: top;\n",
       "    }\n",
       "\n",
       "    .dataframe thead th {\n",
       "        text-align: right;\n",
       "    }\n",
       "</style>\n",
       "<table border=\"1\" class=\"dataframe\">\n",
       "  <thead>\n",
       "    <tr style=\"text-align: right;\">\n",
       "      <th></th>\n",
       "      <th>tconst</th>\n",
       "      <th>titleType</th>\n",
       "      <th>primaryTitle</th>\n",
       "      <th>originalTitle</th>\n",
       "      <th>isAdult</th>\n",
       "      <th>startYear</th>\n",
       "      <th>endYear</th>\n",
       "      <th>runtimeMinutes</th>\n",
       "      <th>genres</th>\n",
       "    </tr>\n",
       "  </thead>\n",
       "  <tbody>\n",
       "    <tr>\n",
       "      <th>8</th>\n",
       "      <td>tt0000009</td>\n",
       "      <td>movie</td>\n",
       "      <td>Miss Jerry</td>\n",
       "      <td>Miss Jerry</td>\n",
       "      <td>0</td>\n",
       "      <td>1894</td>\n",
       "      <td>NaN</td>\n",
       "      <td>45</td>\n",
       "      <td>Romance</td>\n",
       "    </tr>\n",
       "    <tr>\n",
       "      <th>498</th>\n",
       "      <td>tt0000502</td>\n",
       "      <td>movie</td>\n",
       "      <td>Bohemios</td>\n",
       "      <td>Bohemios</td>\n",
       "      <td>0</td>\n",
       "      <td>1905</td>\n",
       "      <td>NaN</td>\n",
       "      <td>100</td>\n",
       "      <td>NaN</td>\n",
       "    </tr>\n",
       "    <tr>\n",
       "      <th>570</th>\n",
       "      <td>tt0000574</td>\n",
       "      <td>movie</td>\n",
       "      <td>The Story of the Kelly Gang</td>\n",
       "      <td>The Story of the Kelly Gang</td>\n",
       "      <td>0</td>\n",
       "      <td>1906</td>\n",
       "      <td>NaN</td>\n",
       "      <td>70</td>\n",
       "      <td>Action,Adventure,Biography</td>\n",
       "    </tr>\n",
       "    <tr>\n",
       "      <th>587</th>\n",
       "      <td>tt0000591</td>\n",
       "      <td>movie</td>\n",
       "      <td>The Prodigal Son</td>\n",
       "      <td>L'enfant prodigue</td>\n",
       "      <td>0</td>\n",
       "      <td>1907</td>\n",
       "      <td>NaN</td>\n",
       "      <td>90</td>\n",
       "      <td>Drama</td>\n",
       "    </tr>\n",
       "    <tr>\n",
       "      <th>610</th>\n",
       "      <td>tt0000615</td>\n",
       "      <td>movie</td>\n",
       "      <td>Robbery Under Arms</td>\n",
       "      <td>Robbery Under Arms</td>\n",
       "      <td>0</td>\n",
       "      <td>1907</td>\n",
       "      <td>NaN</td>\n",
       "      <td>NaN</td>\n",
       "      <td>Drama</td>\n",
       "    </tr>\n",
       "    <tr>\n",
       "      <th>...</th>\n",
       "      <td>...</td>\n",
       "      <td>...</td>\n",
       "      <td>...</td>\n",
       "      <td>...</td>\n",
       "      <td>...</td>\n",
       "      <td>...</td>\n",
       "      <td>...</td>\n",
       "      <td>...</td>\n",
       "      <td>...</td>\n",
       "    </tr>\n",
       "    <tr>\n",
       "      <th>9116953</th>\n",
       "      <td>tt9916622</td>\n",
       "      <td>movie</td>\n",
       "      <td>Rodolpho Teóphilo - O Legado de um Pioneiro</td>\n",
       "      <td>Rodolpho Teóphilo - O Legado de um Pioneiro</td>\n",
       "      <td>0</td>\n",
       "      <td>2015</td>\n",
       "      <td>NaN</td>\n",
       "      <td>57</td>\n",
       "      <td>Documentary</td>\n",
       "    </tr>\n",
       "    <tr>\n",
       "      <th>9116980</th>\n",
       "      <td>tt9916680</td>\n",
       "      <td>movie</td>\n",
       "      <td>De la ilusión al desconcierto: cine colombiano...</td>\n",
       "      <td>De la ilusión al desconcierto: cine colombiano...</td>\n",
       "      <td>0</td>\n",
       "      <td>2007</td>\n",
       "      <td>NaN</td>\n",
       "      <td>100</td>\n",
       "      <td>Documentary</td>\n",
       "    </tr>\n",
       "    <tr>\n",
       "      <th>9116992</th>\n",
       "      <td>tt9916706</td>\n",
       "      <td>movie</td>\n",
       "      <td>Dankyavar Danka</td>\n",
       "      <td>Dankyavar Danka</td>\n",
       "      <td>0</td>\n",
       "      <td>2013</td>\n",
       "      <td>NaN</td>\n",
       "      <td>NaN</td>\n",
       "      <td>Comedy</td>\n",
       "    </tr>\n",
       "    <tr>\n",
       "      <th>9117003</th>\n",
       "      <td>tt9916730</td>\n",
       "      <td>movie</td>\n",
       "      <td>6 Gunn</td>\n",
       "      <td>6 Gunn</td>\n",
       "      <td>0</td>\n",
       "      <td>2017</td>\n",
       "      <td>NaN</td>\n",
       "      <td>116</td>\n",
       "      <td>NaN</td>\n",
       "    </tr>\n",
       "    <tr>\n",
       "      <th>9117013</th>\n",
       "      <td>tt9916754</td>\n",
       "      <td>movie</td>\n",
       "      <td>Chico Albuquerque - Revelações</td>\n",
       "      <td>Chico Albuquerque - Revelações</td>\n",
       "      <td>0</td>\n",
       "      <td>2013</td>\n",
       "      <td>NaN</td>\n",
       "      <td>49</td>\n",
       "      <td>Documentary</td>\n",
       "    </tr>\n",
       "  </tbody>\n",
       "</table>\n",
       "<p>655004 rows × 9 columns</p>\n",
       "</div>"
      ],
      "text/plain": [
       "            tconst titleType  \\\n",
       "8        tt0000009     movie   \n",
       "498      tt0000502     movie   \n",
       "570      tt0000574     movie   \n",
       "587      tt0000591     movie   \n",
       "610      tt0000615     movie   \n",
       "...            ...       ...   \n",
       "9116953  tt9916622     movie   \n",
       "9116980  tt9916680     movie   \n",
       "9116992  tt9916706     movie   \n",
       "9117003  tt9916730     movie   \n",
       "9117013  tt9916754     movie   \n",
       "\n",
       "                                              primaryTitle  \\\n",
       "8                                               Miss Jerry   \n",
       "498                                               Bohemios   \n",
       "570                            The Story of the Kelly Gang   \n",
       "587                                       The Prodigal Son   \n",
       "610                                     Robbery Under Arms   \n",
       "...                                                    ...   \n",
       "9116953        Rodolpho Teóphilo - O Legado de um Pioneiro   \n",
       "9116980  De la ilusión al desconcierto: cine colombiano...   \n",
       "9116992                                    Dankyavar Danka   \n",
       "9117003                                             6 Gunn   \n",
       "9117013                     Chico Albuquerque - Revelações   \n",
       "\n",
       "                                             originalTitle isAdult startYear  \\\n",
       "8                                               Miss Jerry       0      1894   \n",
       "498                                               Bohemios       0      1905   \n",
       "570                            The Story of the Kelly Gang       0      1906   \n",
       "587                                      L'enfant prodigue       0      1907   \n",
       "610                                     Robbery Under Arms       0      1907   \n",
       "...                                                    ...     ...       ...   \n",
       "9116953        Rodolpho Teóphilo - O Legado de um Pioneiro       0      2015   \n",
       "9116980  De la ilusión al desconcierto: cine colombiano...       0      2007   \n",
       "9116992                                    Dankyavar Danka       0      2013   \n",
       "9117003                                             6 Gunn       0      2017   \n",
       "9117013                     Chico Albuquerque - Revelações       0      2013   \n",
       "\n",
       "        endYear runtimeMinutes                      genres  \n",
       "8           NaN             45                     Romance  \n",
       "498         NaN            100                         NaN  \n",
       "570         NaN             70  Action,Adventure,Biography  \n",
       "587         NaN             90                       Drama  \n",
       "610         NaN            NaN                       Drama  \n",
       "...         ...            ...                         ...  \n",
       "9116953     NaN             57                 Documentary  \n",
       "9116980     NaN            100                 Documentary  \n",
       "9116992     NaN            NaN                      Comedy  \n",
       "9117003     NaN            116                         NaN  \n",
       "9117013     NaN             49                 Documentary  \n",
       "\n",
       "[655004 rows x 9 columns]"
      ]
     },
     "execution_count": 21,
     "metadata": {},
     "output_type": "execute_result"
    }
   ],
   "source": [
    "basics"
   ]
  },
  {
   "cell_type": "code",
   "execution_count": 22,
   "id": "9f196818",
   "metadata": {
    "ExecuteTime": {
     "end_time": "2022-08-04T01:56:20.652270Z",
     "start_time": "2022-08-04T01:56:20.610111Z"
    }
   },
   "outputs": [
    {
     "data": {
      "text/plain": [
       "2018    20010\n",
       "2017    19901\n",
       "2019    19794\n",
       "2021    19662\n",
       "2016    19464\n",
       "        ...  \n",
       "2000        1\n",
       "2021        1\n",
       "2019        1\n",
       "1906        1\n",
       "1896        1\n",
       "Name: startYear, Length: 222, dtype: int64"
      ]
     },
     "execution_count": 22,
     "metadata": {},
     "output_type": "execute_result"
    }
   ],
   "source": [
    "basics['startYear'].value_counts()"
   ]
  },
  {
   "cell_type": "code",
   "execution_count": 23,
   "id": "d833f1c5",
   "metadata": {
    "ExecuteTime": {
     "end_time": "2022-08-04T01:56:23.112245Z",
     "start_time": "2022-08-04T01:56:22.488279Z"
    }
   },
   "outputs": [
    {
     "name": "stdout",
     "output_type": "stream",
     "text": [
      "<class 'pandas.core.frame.DataFrame'>\n",
      "Int64Index: 655004 entries, 8 to 9117013\n",
      "Data columns (total 9 columns):\n",
      " #   Column          Non-Null Count   Dtype \n",
      "---  ------          --------------   ----- \n",
      " 0   tconst          655004 non-null  object\n",
      " 1   titleType       655004 non-null  object\n",
      " 2   primaryTitle    655004 non-null  object\n",
      " 3   originalTitle   655004 non-null  object\n",
      " 4   isAdult         655004 non-null  object\n",
      " 5   startYear       573423 non-null  object\n",
      " 6   endYear         1 non-null       object\n",
      " 7   runtimeMinutes  407495 non-null  object\n",
      " 8   genres          577874 non-null  object\n",
      "dtypes: object(9)\n",
      "memory usage: 50.0+ MB\n"
     ]
    }
   ],
   "source": [
    "basics.info()"
   ]
  },
  {
   "cell_type": "code",
   "execution_count": 24,
   "id": "17cf02db",
   "metadata": {
    "ExecuteTime": {
     "end_time": "2022-08-04T01:56:27.313382Z",
     "start_time": "2022-08-04T01:56:26.695549Z"
    }
   },
   "outputs": [
    {
     "data": {
      "text/plain": [
       "tconst                 0\n",
       "titleType              0\n",
       "primaryTitle           0\n",
       "originalTitle          0\n",
       "isAdult                0\n",
       "startYear              0\n",
       "endYear           376002\n",
       "runtimeMinutes         0\n",
       "genres                 0\n",
       "dtype: int64"
      ]
     },
     "execution_count": 24,
     "metadata": {},
     "output_type": "execute_result"
    }
   ],
   "source": [
    "basics = basics.dropna(subset=['genres', 'runtimeMinutes', 'startYear'])\n",
    "basics.isna().sum()"
   ]
  },
  {
   "cell_type": "code",
   "execution_count": 25,
   "id": "0e48d845",
   "metadata": {
    "ExecuteTime": {
     "end_time": "2022-08-04T01:56:29.929279Z",
     "start_time": "2022-08-04T01:56:29.917351Z"
    }
   },
   "outputs": [
    {
     "data": {
      "text/plain": [
       "tconst            object\n",
       "titleType         object\n",
       "primaryTitle      object\n",
       "originalTitle     object\n",
       "isAdult           object\n",
       "startYear         object\n",
       "endYear           object\n",
       "runtimeMinutes    object\n",
       "genres            object\n",
       "dtype: object"
      ]
     },
     "execution_count": 25,
     "metadata": {},
     "output_type": "execute_result"
    }
   ],
   "source": [
    "basics.dtypes"
   ]
  },
  {
   "cell_type": "code",
   "execution_count": 26,
   "id": "492975f8",
   "metadata": {
    "ExecuteTime": {
     "end_time": "2022-08-04T01:56:32.758136Z",
     "start_time": "2022-08-04T01:56:32.683742Z"
    }
   },
   "outputs": [
    {
     "name": "stderr",
     "output_type": "stream",
     "text": [
      "C:\\Users\\Alpha\\AppData\\Local\\Temp\\ipykernel_3296\\3743634496.py:1: SettingWithCopyWarning: \n",
      "A value is trying to be set on a copy of a slice from a DataFrame.\n",
      "Try using .loc[row_indexer,col_indexer] = value instead\n",
      "\n",
      "See the caveats in the documentation: https://pandas.pydata.org/pandas-docs/stable/user_guide/indexing.html#returning-a-view-versus-a-copy\n",
      "  basics['startYear'] = basics['startYear'].astype(str)\n"
     ]
    }
   ],
   "source": [
    "basics['startYear'] = basics['startYear'].astype(str)"
   ]
  },
  {
   "cell_type": "code",
   "execution_count": 27,
   "id": "d53c8a9d",
   "metadata": {
    "ExecuteTime": {
     "end_time": "2022-08-04T01:56:35.558020Z",
     "start_time": "2022-08-04T01:56:35.283732Z"
    }
   },
   "outputs": [
    {
     "data": {
      "text/html": [
       "<div>\n",
       "<style scoped>\n",
       "    .dataframe tbody tr th:only-of-type {\n",
       "        vertical-align: middle;\n",
       "    }\n",
       "\n",
       "    .dataframe tbody tr th {\n",
       "        vertical-align: top;\n",
       "    }\n",
       "\n",
       "    .dataframe thead th {\n",
       "        text-align: right;\n",
       "    }\n",
       "</style>\n",
       "<table border=\"1\" class=\"dataframe\">\n",
       "  <thead>\n",
       "    <tr style=\"text-align: right;\">\n",
       "      <th></th>\n",
       "      <th>tconst</th>\n",
       "      <th>titleType</th>\n",
       "      <th>primaryTitle</th>\n",
       "      <th>originalTitle</th>\n",
       "      <th>isAdult</th>\n",
       "      <th>startYear</th>\n",
       "      <th>endYear</th>\n",
       "      <th>runtimeMinutes</th>\n",
       "      <th>genres</th>\n",
       "    </tr>\n",
       "  </thead>\n",
       "  <tbody>\n",
       "    <tr>\n",
       "      <th>8</th>\n",
       "      <td>tt0000009</td>\n",
       "      <td>movie</td>\n",
       "      <td>Miss Jerry</td>\n",
       "      <td>Miss Jerry</td>\n",
       "      <td>0</td>\n",
       "      <td>1894</td>\n",
       "      <td>NaN</td>\n",
       "      <td>45</td>\n",
       "      <td>Romance</td>\n",
       "    </tr>\n",
       "    <tr>\n",
       "      <th>570</th>\n",
       "      <td>tt0000574</td>\n",
       "      <td>movie</td>\n",
       "      <td>The Story of the Kelly Gang</td>\n",
       "      <td>The Story of the Kelly Gang</td>\n",
       "      <td>0</td>\n",
       "      <td>1906</td>\n",
       "      <td>NaN</td>\n",
       "      <td>70</td>\n",
       "      <td>Action,Adventure,Biography</td>\n",
       "    </tr>\n",
       "    <tr>\n",
       "      <th>587</th>\n",
       "      <td>tt0000591</td>\n",
       "      <td>movie</td>\n",
       "      <td>The Prodigal Son</td>\n",
       "      <td>L'enfant prodigue</td>\n",
       "      <td>0</td>\n",
       "      <td>1907</td>\n",
       "      <td>NaN</td>\n",
       "      <td>90</td>\n",
       "      <td>Drama</td>\n",
       "    </tr>\n",
       "    <tr>\n",
       "      <th>672</th>\n",
       "      <td>tt0000679</td>\n",
       "      <td>movie</td>\n",
       "      <td>The Fairylogue and Radio-Plays</td>\n",
       "      <td>The Fairylogue and Radio-Plays</td>\n",
       "      <td>0</td>\n",
       "      <td>1908</td>\n",
       "      <td>NaN</td>\n",
       "      <td>120</td>\n",
       "      <td>Adventure,Fantasy</td>\n",
       "    </tr>\n",
       "    <tr>\n",
       "      <th>1172</th>\n",
       "      <td>tt0001184</td>\n",
       "      <td>movie</td>\n",
       "      <td>Don Juan de Serrallonga</td>\n",
       "      <td>Don Juan de Serrallonga</td>\n",
       "      <td>0</td>\n",
       "      <td>1910</td>\n",
       "      <td>NaN</td>\n",
       "      <td>58</td>\n",
       "      <td>Adventure,Drama</td>\n",
       "    </tr>\n",
       "  </tbody>\n",
       "</table>\n",
       "</div>"
      ],
      "text/plain": [
       "         tconst titleType                    primaryTitle  \\\n",
       "8     tt0000009     movie                      Miss Jerry   \n",
       "570   tt0000574     movie     The Story of the Kelly Gang   \n",
       "587   tt0000591     movie                The Prodigal Son   \n",
       "672   tt0000679     movie  The Fairylogue and Radio-Plays   \n",
       "1172  tt0001184     movie         Don Juan de Serrallonga   \n",
       "\n",
       "                       originalTitle isAdult startYear endYear runtimeMinutes  \\\n",
       "8                         Miss Jerry       0      1894     NaN             45   \n",
       "570      The Story of the Kelly Gang       0      1906     NaN             70   \n",
       "587                L'enfant prodigue       0      1907     NaN             90   \n",
       "672   The Fairylogue and Radio-Plays       0      1908     NaN            120   \n",
       "1172         Don Juan de Serrallonga       0      1910     NaN             58   \n",
       "\n",
       "                          genres  \n",
       "8                        Romance  \n",
       "570   Action,Adventure,Biography  \n",
       "587                        Drama  \n",
       "672            Adventure,Fantasy  \n",
       "1172             Adventure,Drama  "
      ]
     },
     "execution_count": 27,
     "metadata": {},
     "output_type": "execute_result"
    }
   ],
   "source": [
    "is_documentary = basics[\"genres\"].str.contains('Documentary', case=False)\n",
    "basics = basics[~is_documentary]\n",
    "basics.head()"
   ]
  },
  {
   "cell_type": "code",
   "execution_count": 28,
   "id": "dce50e09",
   "metadata": {
    "ExecuteTime": {
     "end_time": "2022-08-04T01:59:08.111858Z",
     "start_time": "2022-08-04T01:58:51.317079Z"
    }
   },
   "outputs": [
    {
     "name": "stdout",
     "output_type": "stream",
     "text": [
      "Requirement already satisfied: tmdbsimple in c:\\users\\alpha\\anaconda3\\envs\\dojo-env\\lib\\site-packages (2.9.1)\n",
      "Requirement already satisfied: requests in c:\\users\\alpha\\anaconda3\\envs\\dojo-env\\lib\\site-packages (from tmdbsimple) (2.28.1)\n",
      "Requirement already satisfied: charset-normalizer<3,>=2 in c:\\users\\alpha\\anaconda3\\envs\\dojo-env\\lib\\site-packages (from requests->tmdbsimple) (2.1.0)\n",
      "Requirement already satisfied: certifi>=2017.4.17 in c:\\users\\alpha\\anaconda3\\envs\\dojo-env\\lib\\site-packages (from requests->tmdbsimple) (2022.6.15)\n",
      "Requirement already satisfied: idna<4,>=2.5 in c:\\users\\alpha\\anaconda3\\envs\\dojo-env\\lib\\site-packages (from requests->tmdbsimple) (3.3)\n",
      "Requirement already satisfied: urllib3<1.27,>=1.21.1 in c:\\users\\alpha\\anaconda3\\envs\\dojo-env\\lib\\site-packages (from requests->tmdbsimple) (1.26.8)\n"
     ]
    }
   ],
   "source": [
    "!pip install tmdbsimple"
   ]
  },
  {
   "cell_type": "code",
   "execution_count": 29,
   "id": "3c700c22",
   "metadata": {
    "ExecuteTime": {
     "end_time": "2022-08-04T02:01:42.057822Z",
     "start_time": "2022-08-04T02:01:42.040958Z"
    }
   },
   "outputs": [
    {
     "data": {
      "text/plain": [
       "dict_keys(['api-key'])"
      ]
     },
     "execution_count": 29,
     "metadata": {},
     "output_type": "execute_result"
    }
   ],
   "source": [
    "import json\n",
    "with open('/Users/Alpha/.secretMovie/tmdb_api.json', 'r') as f:\n",
    "    login = json.load(f)\n",
    "\n",
    "login.keys()\n",
    "\n"
   ]
  },
  {
   "cell_type": "code",
   "execution_count": 30,
   "id": "cdf5fb4f",
   "metadata": {
    "ExecuteTime": {
     "end_time": "2022-08-04T02:02:01.389172Z",
     "start_time": "2022-08-04T02:02:01.066660Z"
    }
   },
   "outputs": [],
   "source": [
    "import tmdbsimple as tmdb\n",
    "tmdb.API_KEY =  login['api-key']"
   ]
  },
  {
   "cell_type": "code",
   "execution_count": 33,
   "id": "34eb4984",
   "metadata": {
    "ExecuteTime": {
     "end_time": "2022-08-04T02:16:12.263503Z",
     "start_time": "2022-08-04T02:16:12.249094Z"
    }
   },
   "outputs": [],
   "source": [
    "movie = tmdb.Movies(603)"
   ]
  },
  {
   "cell_type": "code",
   "execution_count": 34,
   "id": "1ba505ef",
   "metadata": {
    "ExecuteTime": {
     "end_time": "2022-08-04T02:16:13.048848Z",
     "start_time": "2022-08-04T02:16:12.852944Z"
    }
   },
   "outputs": [
    {
     "data": {
      "text/plain": [
       "{'adult': False,\n",
       " 'backdrop_path': '/n2nm4aZRmXyJ9LT4xQX9X6ThcP7.jpg',\n",
       " 'belongs_to_collection': {'id': 2344,\n",
       "  'name': 'The Matrix Collection',\n",
       "  'poster_path': '/bV9qTVHTVf0gkW0j7p7M0ILD4pG.jpg',\n",
       "  'backdrop_path': '/bRm2DEgUiYciDw3myHuYFInD7la.jpg'},\n",
       " 'budget': 63000000,\n",
       " 'genres': [{'id': 28, 'name': 'Action'},\n",
       "  {'id': 878, 'name': 'Science Fiction'}],\n",
       " 'homepage': 'http://www.warnerbros.com/matrix',\n",
       " 'id': 603,\n",
       " 'imdb_id': 'tt0133093',\n",
       " 'original_language': 'en',\n",
       " 'original_title': 'The Matrix',\n",
       " 'overview': 'Set in the 22nd century, The Matrix tells the story of a computer hacker who joins a group of underground insurgents fighting the vast and powerful computers who now rule the earth.',\n",
       " 'popularity': 77.647,\n",
       " 'poster_path': '/f89U3ADr1oiB1s9GkdPOEpXUk5H.jpg',\n",
       " 'production_companies': [{'id': 79,\n",
       "   'logo_path': '/tpFpsqbleCzEE2p5EgvUq6ozfCA.png',\n",
       "   'name': 'Village Roadshow Pictures',\n",
       "   'origin_country': 'US'},\n",
       "  {'id': 174,\n",
       "   'logo_path': '/IuAlhI9eVC9Z8UQWOIDdWRKSEJ.png',\n",
       "   'name': 'Warner Bros. Pictures',\n",
       "   'origin_country': 'US'},\n",
       "  {'id': 372,\n",
       "   'logo_path': None,\n",
       "   'name': 'Groucho II Film Partnership',\n",
       "   'origin_country': ''},\n",
       "  {'id': 1885,\n",
       "   'logo_path': '/tXMFoE8AtNdnFzWOW0aCLwl7xxS.png',\n",
       "   'name': 'Silver Pictures',\n",
       "   'origin_country': 'US'}],\n",
       " 'production_countries': [{'iso_3166_1': 'US',\n",
       "   'name': 'United States of America'}],\n",
       " 'release_date': '1999-03-30',\n",
       " 'revenue': 463517383,\n",
       " 'runtime': 136,\n",
       " 'spoken_languages': [{'english_name': 'English',\n",
       "   'iso_639_1': 'en',\n",
       "   'name': 'English'}],\n",
       " 'status': 'Released',\n",
       " 'tagline': 'Welcome to the Real World.',\n",
       " 'title': 'The Matrix',\n",
       " 'video': False,\n",
       " 'vote_average': 8.2,\n",
       " 'vote_count': 21857}"
      ]
     },
     "execution_count": 34,
     "metadata": {},
     "output_type": "execute_result"
    }
   ],
   "source": [
    "info = movie.info()\n",
    "info"
   ]
  },
  {
   "cell_type": "code",
   "execution_count": 35,
   "id": "51b6997b",
   "metadata": {
    "ExecuteTime": {
     "end_time": "2022-08-04T02:17:19.780552Z",
     "start_time": "2022-08-04T02:17:19.775098Z"
    }
   },
   "outputs": [
    {
     "data": {
      "text/plain": [
       "63000000"
      ]
     },
     "execution_count": 35,
     "metadata": {},
     "output_type": "execute_result"
    }
   ],
   "source": [
    "info['budget']"
   ]
  },
  {
   "cell_type": "code",
   "execution_count": 37,
   "id": "11f2ca42",
   "metadata": {
    "ExecuteTime": {
     "end_time": "2022-08-04T02:20:30.717065Z",
     "start_time": "2022-08-04T02:20:30.703177Z"
    }
   },
   "outputs": [
    {
     "data": {
      "text/plain": [
       "132000000"
      ]
     },
     "execution_count": 37,
     "metadata": {},
     "output_type": "execute_result"
    }
   ],
   "source": [
    "info['revenue']"
   ]
  },
  {
   "cell_type": "code",
   "execution_count": 36,
   "id": "2b65b05d",
   "metadata": {
    "ExecuteTime": {
     "end_time": "2022-08-04T02:17:57.481501Z",
     "start_time": "2022-08-04T02:17:57.283590Z"
    }
   },
   "outputs": [
    {
     "data": {
      "text/plain": [
       "50000000"
      ]
     },
     "execution_count": 36,
     "metadata": {},
     "output_type": "execute_result"
    }
   ],
   "source": [
    "movie = tmdb.Movies('tt1361336')\n",
    "info = movie.info()\n",
    "info['budget']"
   ]
  },
  {
   "cell_type": "code",
   "execution_count": 38,
   "id": "f36c8367",
   "metadata": {
    "ExecuteTime": {
     "end_time": "2022-08-04T02:21:40.007028Z",
     "start_time": "2022-08-04T02:21:39.997603Z"
    }
   },
   "outputs": [
    {
     "data": {
      "text/plain": [
       "'tt1361336'"
      ]
     },
     "execution_count": 38,
     "metadata": {},
     "output_type": "execute_result"
    }
   ],
   "source": [
    "info['imdb_id']"
   ]
  },
  {
   "cell_type": "code",
   "execution_count": 39,
   "id": "ece82c2a",
   "metadata": {
    "ExecuteTime": {
     "end_time": "2022-08-04T02:22:07.757844Z",
     "start_time": "2022-08-04T02:22:07.639000Z"
    }
   },
   "outputs": [
    {
     "data": {
      "text/plain": [
       "50000000"
      ]
     },
     "execution_count": 39,
     "metadata": {},
     "output_type": "execute_result"
    }
   ],
   "source": [
    "movie = tmdb.Movies('tt1361336')\n",
    "info = movie.info()\n",
    "info['budget']"
   ]
  },
  {
   "cell_type": "code",
   "execution_count": 45,
   "id": "cc2f70b0",
   "metadata": {
    "ExecuteTime": {
     "end_time": "2022-08-04T02:31:08.989202Z",
     "start_time": "2022-08-04T02:31:08.982727Z"
    }
   },
   "outputs": [],
   "source": [
    "def get_movie_with_rating(movie_id):\n",
    "\n",
    "    movie = tmdb.Movies(movie_id)\n",
    "\n",
    "    movie_info = movie.info()\n",
    "    releases = movie.releases()\n",
    "\n",
    "    for c in releases['countries']:\n",
    "        if c['iso_3166_1' ] =='US':\n",
    "            movie_info['certification'] = c['certification']\n",
    "    return movie_info"
   ]
  },
  {
   "cell_type": "code",
   "execution_count": 46,
   "id": "8dfe5485",
   "metadata": {
    "ExecuteTime": {
     "end_time": "2022-08-04T02:31:15.247241Z",
     "start_time": "2022-08-04T02:31:14.792753Z"
    }
   },
   "outputs": [
    {
     "data": {
      "text/plain": [
       "{'adult': False,\n",
       " 'backdrop_path': '/nNmJRkg8wWnRmzQDe2FwKbPIsJV.jpg',\n",
       " 'belongs_to_collection': {'id': 86311,\n",
       "  'name': 'The Avengers Collection',\n",
       "  'poster_path': '/yFSIUVTCvgYrpalUktulvk3Gi5Y.jpg',\n",
       "  'backdrop_path': '/zuW6fOiusv4X9nnW3paHGfXcSll.jpg'},\n",
       " 'budget': 220000000,\n",
       " 'genres': [{'id': 878, 'name': 'Science Fiction'},\n",
       "  {'id': 28, 'name': 'Action'},\n",
       "  {'id': 12, 'name': 'Adventure'}],\n",
       " 'homepage': 'https://www.marvel.com/movies/the-avengers',\n",
       " 'id': 24428,\n",
       " 'imdb_id': 'tt0848228',\n",
       " 'original_language': 'en',\n",
       " 'original_title': 'The Avengers',\n",
       " 'overview': 'When an unexpected enemy emerges and threatens global safety and security, Nick Fury, director of the international peacekeeping agency known as S.H.I.E.L.D., finds himself in need of a team to pull the world back from the brink of disaster. Spanning the globe, a daring recruitment effort begins!',\n",
       " 'popularity': 290.097,\n",
       " 'poster_path': '/RYMX2wcKCBAr24UyPD7xwmjaTn.jpg',\n",
       " 'production_companies': [{'id': 420,\n",
       "   'logo_path': '/hUzeosd33nzE5MCNsZxCGEKTXaQ.png',\n",
       "   'name': 'Marvel Studios',\n",
       "   'origin_country': 'US'}],\n",
       " 'production_countries': [{'iso_3166_1': 'US',\n",
       "   'name': 'United States of America'}],\n",
       " 'release_date': '2012-04-25',\n",
       " 'revenue': 1518815515,\n",
       " 'runtime': 143,\n",
       " 'spoken_languages': [{'english_name': 'English',\n",
       "   'iso_639_1': 'en',\n",
       "   'name': 'English'},\n",
       "  {'english_name': 'Hindi', 'iso_639_1': 'hi', 'name': 'हिन्दी'},\n",
       "  {'english_name': 'Russian', 'iso_639_1': 'ru', 'name': 'Pусский'}],\n",
       " 'status': 'Released',\n",
       " 'tagline': 'Some assembly required.',\n",
       " 'title': 'The Avengers',\n",
       " 'video': False,\n",
       " 'vote_average': 7.706,\n",
       " 'vote_count': 27300,\n",
       " 'certification': 'PG-13'}"
      ]
     },
     "execution_count": 46,
     "metadata": {},
     "output_type": "execute_result"
    }
   ],
   "source": [
    "test = get_movie_with_rating(\"tt0848228\") #put your function name here\n",
    "test\n",
    "\n"
   ]
  },
  {
   "cell_type": "code",
   "execution_count": 47,
   "id": "8fade93d",
   "metadata": {
    "ExecuteTime": {
     "end_time": "2022-08-04T03:36:37.908442Z",
     "start_time": "2022-08-04T03:36:37.894583Z"
    }
   },
   "outputs": [
    {
     "data": {
      "text/plain": [
       "['akas.csv.gz', 'basics.csv.gz', 'ratings.csv.gz']"
      ]
     },
     "execution_count": 47,
     "metadata": {},
     "output_type": "execute_result"
    }
   ],
   "source": [
    "import os, time,json\n",
    "import tmdbsimple as tmdb \n",
    "DATA = \"Data/\"\n",
    "os.makedirs(DATA, exist_ok=True)\n",
    "os.listdir(DATA)"
   ]
  },
  {
   "cell_type": "code",
   "execution_count": 48,
   "id": "df62c46d",
   "metadata": {
    "ExecuteTime": {
     "end_time": "2022-08-04T03:37:05.306007Z",
     "start_time": "2022-08-04T03:37:05.297082Z"
    }
   },
   "outputs": [],
   "source": [
    "YEARS_TO_GET = [2000,2001]"
   ]
  },
  {
   "cell_type": "code",
   "execution_count": 51,
   "id": "0f6a8afc",
   "metadata": {
    "ExecuteTime": {
     "end_time": "2022-08-04T03:38:33.751617Z",
     "start_time": "2022-08-04T03:38:33.738693Z"
    }
   },
   "outputs": [
    {
     "ename": "SyntaxError",
     "evalue": "unexpected EOF while parsing (3926414557.py, line 1)",
     "output_type": "error",
     "traceback": [
      "\u001b[1;36m  Input \u001b[1;32mIn [51]\u001b[1;36m\u001b[0m\n\u001b[1;33m    for 2000 in tqdm_notebook(YEARS_TO_GET,desc='YEARS',position=0):\u001b[0m\n\u001b[1;37m                                                                    ^\u001b[0m\n\u001b[1;31mSyntaxError\u001b[0m\u001b[1;31m:\u001b[0m unexpected EOF while parsing\n"
     ]
    }
   ],
   "source": [
    "for 2000 in tqdm_notebook(YEARS_TO_GET,desc='YEARS',position=0):"
   ]
  },
  {
   "cell_type": "code",
   "execution_count": 72,
   "id": "32515070",
   "metadata": {
    "ExecuteTime": {
     "end_time": "2022-08-04T03:58:49.016327Z",
     "start_time": "2022-08-04T03:58:48.997947Z"
    }
   },
   "outputs": [],
   "source": [
    "JSON_FILE = f'{DATA}tmdb_api_results_{2000}.json'\n",
    "\n",
    "JSON_FILE2 = f'{DATA}tmdb_api_results_{2001}.json'\n",
    "\n"
   ]
  },
  {
   "cell_type": "code",
   "execution_count": 75,
   "id": "88793fd4",
   "metadata": {
    "ExecuteTime": {
     "end_time": "2022-08-04T03:59:16.996703Z",
     "start_time": "2022-08-04T03:59:16.989295Z"
    }
   },
   "outputs": [],
   "source": [
    "file_exists = os.path.isfile(JSON_FILE)\n",
    "\n",
    "file_exists2 = os.path.isfile(JSON_FILE2)\n",
    "\n"
   ]
  },
  {
   "cell_type": "code",
   "execution_count": 76,
   "id": "c50a4895",
   "metadata": {
    "ExecuteTime": {
     "end_time": "2022-08-04T03:59:22.016062Z",
     "start_time": "2022-08-04T03:59:22.012590Z"
    }
   },
   "outputs": [],
   "source": [
    "if file_exists == False:\n",
    "\n",
    "    with open(JSON_FILE,'w') as f:\n",
    "        json.dump([{'imdb_id':0}],f)\n",
    "\n"
   ]
  },
  {
   "cell_type": "code",
   "execution_count": 77,
   "id": "57e7df32",
   "metadata": {
    "ExecuteTime": {
     "end_time": "2022-08-04T03:59:34.445848Z",
     "start_time": "2022-08-04T03:59:34.429452Z"
    }
   },
   "outputs": [],
   "source": [
    "if file_exists2 == False:\n",
    "\n",
    "    with open(JSON_FILE2,'w') as f:\n",
    "        json.dump([{'imdb_id':0}],f)"
   ]
  },
  {
   "cell_type": "code",
   "execution_count": 78,
   "id": "cf319d1d",
   "metadata": {
    "ExecuteTime": {
     "end_time": "2022-08-04T03:59:40.359492Z",
     "start_time": "2022-08-04T03:59:39.822123Z"
    }
   },
   "outputs": [],
   "source": [
    "basics = pd.read_csv('DATA/basics.csv.gz')"
   ]
  },
  {
   "cell_type": "code",
   "execution_count": 79,
   "id": "820696df",
   "metadata": {
    "ExecuteTime": {
     "end_time": "2022-08-04T03:59:45.841398Z",
     "start_time": "2022-08-04T03:59:45.822553Z"
    }
   },
   "outputs": [],
   "source": [
    "df_2000 = basics.loc[ basics['startYear']==2000].copy()\n",
    "\n",
    "movie_ids = df_2000['tconst'].copy()\n"
   ]
  },
  {
   "cell_type": "code",
   "execution_count": 80,
   "id": "59dbdf90",
   "metadata": {
    "ExecuteTime": {
     "end_time": "2022-08-04T03:59:46.904280Z",
     "start_time": "2022-08-04T03:59:46.888378Z"
    }
   },
   "outputs": [],
   "source": [
    "df_2001 = basics.loc[ basics['startYear']==2000].copy()\n",
    "\n",
    "movie_ids = df_2001['tconst'].copy()"
   ]
  },
  {
   "cell_type": "code",
   "execution_count": 81,
   "id": "d37c14ad",
   "metadata": {
    "ExecuteTime": {
     "end_time": "2022-08-04T04:00:02.455874Z",
     "start_time": "2022-08-04T04:00:02.429067Z"
    }
   },
   "outputs": [],
   "source": [
    "previous_df = pd.read_json(JSON_FILE)\n",
    "\n",
    "previous_df2 = pd.read_json(JSON_FILE2)"
   ]
  },
  {
   "cell_type": "code",
   "execution_count": 82,
   "id": "22a14407",
   "metadata": {
    "ExecuteTime": {
     "end_time": "2022-08-04T04:00:03.501063Z",
     "start_time": "2022-08-04T04:00:03.491130Z"
    }
   },
   "outputs": [],
   "source": [
    "movie_ids_to_get = movie_ids[~movie_ids.isin(previous_df['imdb_id'])]"
   ]
  },
  {
   "cell_type": "code",
   "execution_count": 83,
   "id": "025c26ce",
   "metadata": {
    "ExecuteTime": {
     "end_time": "2022-08-04T04:00:14.819448Z",
     "start_time": "2022-08-04T04:00:14.810531Z"
    }
   },
   "outputs": [],
   "source": [
    "def write_json(new_data, filename): \n",
    "\n",
    "    with open(filename,'r+') as file:\n",
    "        \n",
    "        file_data = json.load(file)\n",
    "        \n",
    "        if (type(new_data) == list) & (type(file_data) == list):\n",
    "            file_data.extend(new_data)\n",
    "        else:\n",
    "             file_data.append(new_data)\n",
    "        \n",
    "        file.seek(0)\n",
    "        \n",
    "        json.dump(file_data, file)\n"
   ]
  },
  {
   "cell_type": "code",
   "execution_count": 84,
   "id": "ae025f2a",
   "metadata": {
    "ExecuteTime": {
     "end_time": "2022-08-04T04:00:16.651386Z",
     "start_time": "2022-08-04T04:00:16.637994Z"
    }
   },
   "outputs": [],
   "source": [
    "from tqdm.notebook import trange, tqdm, tqdm_notebook"
   ]
  },
  {
   "cell_type": "code",
   "execution_count": 85,
   "id": "2f033a7e",
   "metadata": {
    "ExecuteTime": {
     "end_time": "2022-08-04T04:00:23.665776Z",
     "start_time": "2022-08-04T04:00:23.333294Z"
    }
   },
   "outputs": [
    {
     "data": {
      "application/vnd.jupyter.widget-view+json": {
       "model_id": "2cdf30ff5a8e4e33b7ac0527a6b5f372",
       "version_major": 2,
       "version_minor": 0
      },
      "text/plain": [
       "Movies from 2000:   0%|          | 0/4 [00:00<?, ?it/s]"
      ]
     },
     "metadata": {},
     "output_type": "display_data"
    }
   ],
   "source": [
    "    for movie_id in tqdm_notebook(movie_ids_to_get,\n",
    "                                  desc=f'Movies from {2000}',\n",
    "                                  position=1,\n",
    "                                  leave=True):\n",
    "        \n",
    "        try:\n",
    "            temp = get_movie_with_rating(movie_id)  \n",
    "            \n",
    "            write_json(temp,JSON_FILE)\n",
    "            \n",
    "            time.sleep(0.02)\n",
    "            \n",
    "        \n",
    "        except Exception as e:\n",
    "            continue\n",
    "\n"
   ]
  },
  {
   "cell_type": "code",
   "execution_count": 86,
   "id": "08f3dcba",
   "metadata": {
    "ExecuteTime": {
     "end_time": "2022-08-04T04:00:30.415134Z",
     "start_time": "2022-08-04T04:00:30.151163Z"
    }
   },
   "outputs": [
    {
     "data": {
      "application/vnd.jupyter.widget-view+json": {
       "model_id": "177d3d1a6b574b31a3f31260ae85cc6e",
       "version_major": 2,
       "version_minor": 0
      },
      "text/plain": [
       "Movies from 2001:   0%|          | 0/4 [00:00<?, ?it/s]"
      ]
     },
     "metadata": {},
     "output_type": "display_data"
    }
   ],
   "source": [
    "    for movie_id in tqdm_notebook(movie_ids_to_get,\n",
    "                                  desc=f'Movies from {2001}',\n",
    "                                  position=1,\n",
    "                                  leave=True):\n",
    "        \n",
    "        try:\n",
    "            temp = get_movie_with_rating(movie_id)  \n",
    "            \n",
    "            write_json(temp,JSON_FILE2)\n",
    "            \n",
    "            time.sleep(0.02)\n",
    "            \n",
    "        \n",
    "        except Exception as e:\n",
    "            continue\n"
   ]
  },
  {
   "cell_type": "code",
   "execution_count": 87,
   "id": "f8edad18",
   "metadata": {
    "ExecuteTime": {
     "end_time": "2022-08-04T04:01:03.830210Z",
     "start_time": "2022-08-04T04:01:03.797555Z"
    }
   },
   "outputs": [],
   "source": [
    "final_year_df = pd.read_json(JSON_FILE)\n",
    "final_year_df.to_csv(f\"{DATA}final_tmdb_data_{2000}.csv.gz\", compression=\"gzip\", index=False)"
   ]
  },
  {
   "cell_type": "code",
   "execution_count": 88,
   "id": "f6745ce1",
   "metadata": {
    "ExecuteTime": {
     "end_time": "2022-08-04T04:01:24.746475Z",
     "start_time": "2022-08-04T04:01:24.738013Z"
    }
   },
   "outputs": [],
   "source": [
    "final_year_df2 = pd.read_json(JSON_FILE2)\n",
    "final_year_df2.to_csv(f\"{DATA}final_tmdb_data_{2001}.csv.gz\", compression=\"gzip\", index=False)"
   ]
  },
  {
   "cell_type": "code",
   "execution_count": 90,
   "id": "2a86c27b",
   "metadata": {
    "ExecuteTime": {
     "end_time": "2022-08-04T04:48:43.461623Z",
     "start_time": "2022-08-04T04:48:43.444267Z"
    }
   },
   "outputs": [
    {
     "data": {
      "text/html": [
       "<div>\n",
       "<style scoped>\n",
       "    .dataframe tbody tr th:only-of-type {\n",
       "        vertical-align: middle;\n",
       "    }\n",
       "\n",
       "    .dataframe tbody tr th {\n",
       "        vertical-align: top;\n",
       "    }\n",
       "\n",
       "    .dataframe thead th {\n",
       "        text-align: right;\n",
       "    }\n",
       "</style>\n",
       "<table border=\"1\" class=\"dataframe\">\n",
       "  <thead>\n",
       "    <tr style=\"text-align: right;\">\n",
       "      <th></th>\n",
       "      <th>imdb_id</th>\n",
       "      <th>adult</th>\n",
       "      <th>backdrop_path</th>\n",
       "      <th>belongs_to_collection</th>\n",
       "      <th>budget</th>\n",
       "      <th>genres</th>\n",
       "      <th>homepage</th>\n",
       "      <th>id</th>\n",
       "      <th>original_language</th>\n",
       "      <th>original_title</th>\n",
       "      <th>...</th>\n",
       "      <th>release_date</th>\n",
       "      <th>revenue</th>\n",
       "      <th>runtime</th>\n",
       "      <th>spoken_languages</th>\n",
       "      <th>status</th>\n",
       "      <th>tagline</th>\n",
       "      <th>title</th>\n",
       "      <th>video</th>\n",
       "      <th>vote_average</th>\n",
       "      <th>vote_count</th>\n",
       "    </tr>\n",
       "  </thead>\n",
       "  <tbody>\n",
       "    <tr>\n",
       "      <th>0</th>\n",
       "      <td>0</td>\n",
       "      <td>NaN</td>\n",
       "      <td>NaN</td>\n",
       "      <td>NaN</td>\n",
       "      <td>NaN</td>\n",
       "      <td>NaN</td>\n",
       "      <td>NaN</td>\n",
       "      <td>NaN</td>\n",
       "      <td>NaN</td>\n",
       "      <td>NaN</td>\n",
       "      <td>...</td>\n",
       "      <td>NaN</td>\n",
       "      <td>NaN</td>\n",
       "      <td>NaN</td>\n",
       "      <td>NaN</td>\n",
       "      <td>NaN</td>\n",
       "      <td>NaN</td>\n",
       "      <td>NaN</td>\n",
       "      <td>NaN</td>\n",
       "      <td>NaN</td>\n",
       "      <td>NaN</td>\n",
       "    </tr>\n",
       "    <tr>\n",
       "      <th>1</th>\n",
       "      <td>tt1831837</td>\n",
       "      <td>0.0</td>\n",
       "      <td>NaN</td>\n",
       "      <td>NaN</td>\n",
       "      <td>0.0</td>\n",
       "      <td>[{'id': 16, 'name': 'Animation'}, {'id': 35, '...</td>\n",
       "      <td></td>\n",
       "      <td>720041.0</td>\n",
       "      <td>ru</td>\n",
       "      <td>Звериные войны</td>\n",
       "      <td>...</td>\n",
       "      <td>2000-08-28</td>\n",
       "      <td>0.0</td>\n",
       "      <td>73.0</td>\n",
       "      <td>[{'english_name': 'Russian', 'iso_639_1': 'ru'...</td>\n",
       "      <td>Released</td>\n",
       "      <td>The First and Only Animated Lampoon on Football</td>\n",
       "      <td>Animal Wars</td>\n",
       "      <td>0.0</td>\n",
       "      <td>0.0</td>\n",
       "      <td>0.0</td>\n",
       "    </tr>\n",
       "    <tr>\n",
       "      <th>2</th>\n",
       "      <td>tt1831837</td>\n",
       "      <td>0.0</td>\n",
       "      <td>NaN</td>\n",
       "      <td>NaN</td>\n",
       "      <td>0.0</td>\n",
       "      <td>[{'id': 16, 'name': 'Animation'}, {'id': 35, '...</td>\n",
       "      <td></td>\n",
       "      <td>720041.0</td>\n",
       "      <td>ru</td>\n",
       "      <td>Звериные войны</td>\n",
       "      <td>...</td>\n",
       "      <td>2000-08-28</td>\n",
       "      <td>0.0</td>\n",
       "      <td>73.0</td>\n",
       "      <td>[{'english_name': 'Russian', 'iso_639_1': 'ru'...</td>\n",
       "      <td>Released</td>\n",
       "      <td>The First and Only Animated Lampoon on Football</td>\n",
       "      <td>Animal Wars</td>\n",
       "      <td>0.0</td>\n",
       "      <td>0.0</td>\n",
       "      <td>0.0</td>\n",
       "    </tr>\n",
       "  </tbody>\n",
       "</table>\n",
       "<p>3 rows × 25 columns</p>\n",
       "</div>"
      ],
      "text/plain": [
       "     imdb_id  adult  backdrop_path  belongs_to_collection  budget  \\\n",
       "0          0    NaN            NaN                    NaN     NaN   \n",
       "1  tt1831837    0.0            NaN                    NaN     0.0   \n",
       "2  tt1831837    0.0            NaN                    NaN     0.0   \n",
       "\n",
       "                                              genres homepage        id  \\\n",
       "0                                                NaN      NaN       NaN   \n",
       "1  [{'id': 16, 'name': 'Animation'}, {'id': 35, '...           720041.0   \n",
       "2  [{'id': 16, 'name': 'Animation'}, {'id': 35, '...           720041.0   \n",
       "\n",
       "  original_language  original_title  ... release_date  revenue runtime  \\\n",
       "0               NaN             NaN  ...          NaN      NaN     NaN   \n",
       "1                ru  Звериные войны  ...   2000-08-28      0.0    73.0   \n",
       "2                ru  Звериные войны  ...   2000-08-28      0.0    73.0   \n",
       "\n",
       "                                    spoken_languages    status  \\\n",
       "0                                                NaN       NaN   \n",
       "1  [{'english_name': 'Russian', 'iso_639_1': 'ru'...  Released   \n",
       "2  [{'english_name': 'Russian', 'iso_639_1': 'ru'...  Released   \n",
       "\n",
       "                                           tagline        title  video  \\\n",
       "0                                              NaN          NaN    NaN   \n",
       "1  The First and Only Animated Lampoon on Football  Animal Wars    0.0   \n",
       "2  The First and Only Animated Lampoon on Football  Animal Wars    0.0   \n",
       "\n",
       "  vote_average vote_count  \n",
       "0          NaN        NaN  \n",
       "1          0.0        0.0  \n",
       "2          0.0        0.0  \n",
       "\n",
       "[3 rows x 25 columns]"
      ]
     },
     "execution_count": 90,
     "metadata": {},
     "output_type": "execute_result"
    }
   ],
   "source": [
    "final_year_df2.head()"
   ]
  },
  {
   "cell_type": "code",
   "execution_count": 29,
   "id": "ebe902e7",
   "metadata": {
    "ExecuteTime": {
     "end_time": "2022-08-03T17:17:36.506762Z",
     "start_time": "2022-08-03T17:17:36.230091Z"
    }
   },
   "outputs": [],
   "source": [
    "#basics['startYear'] = basics['startYear'].loc['2000':'2021']"
   ]
  },
  {
   "cell_type": "code",
   "execution_count": 30,
   "id": "a89b2192",
   "metadata": {
    "ExecuteTime": {
     "end_time": "2022-08-03T17:17:37.014857Z",
     "start_time": "2022-08-03T17:17:36.997029Z"
    }
   },
   "outputs": [
    {
     "data": {
      "text/plain": [
       "['akas.csv.gz', 'basics.csv.gz', 'ratings.csv.gz']"
      ]
     },
     "execution_count": 30,
     "metadata": {},
     "output_type": "execute_result"
    }
   ],
   "source": [
    "#import os\n",
    "#os.makedirs('DATA/',exist_ok=True)\n",
    "\n",
    "#os.listdir(\"DATA/\")"
   ]
  },
  {
   "cell_type": "code",
   "execution_count": 156,
   "id": "1c147311",
   "metadata": {
    "ExecuteTime": {
     "end_time": "2022-08-02T21:29:59.806770Z",
     "start_time": "2022-08-02T21:29:56.857615Z"
    }
   },
   "outputs": [],
   "source": [
    "#basics.to_csv(\"DATA/basics.csv.gz\",compression='gzip',index=False)\n",
    "\n"
   ]
  },
  {
   "cell_type": "code",
   "execution_count": 157,
   "id": "f640241c",
   "metadata": {
    "ExecuteTime": {
     "end_time": "2022-08-02T21:30:08.247593Z",
     "start_time": "2022-08-02T21:29:59.930792Z"
    }
   },
   "outputs": [],
   "source": [
    "#ratings.to_csv(\"DATA/ratings.csv.gz\",compression='gzip',index=False)"
   ]
  },
  {
   "cell_type": "code",
   "execution_count": 158,
   "id": "4461d5cc",
   "metadata": {
    "ExecuteTime": {
     "end_time": "2022-08-02T21:32:43.483568Z",
     "start_time": "2022-08-02T21:30:08.341694Z"
    }
   },
   "outputs": [],
   "source": [
    "#akas.to_csv(\"DATA/akas.csv.gz\",compression='gzip',index=False)"
   ]
  },
  {
   "cell_type": "code",
   "execution_count": 159,
   "id": "2d888701",
   "metadata": {
    "ExecuteTime": {
     "end_time": "2022-08-02T21:32:44.221655Z",
     "start_time": "2022-08-02T21:32:43.563748Z"
    }
   },
   "outputs": [
    {
     "data": {
      "text/html": [
       "<div>\n",
       "<style scoped>\n",
       "    .dataframe tbody tr th:only-of-type {\n",
       "        vertical-align: middle;\n",
       "    }\n",
       "\n",
       "    .dataframe tbody tr th {\n",
       "        vertical-align: top;\n",
       "    }\n",
       "\n",
       "    .dataframe thead th {\n",
       "        text-align: right;\n",
       "    }\n",
       "</style>\n",
       "<table border=\"1\" class=\"dataframe\">\n",
       "  <thead>\n",
       "    <tr style=\"text-align: right;\">\n",
       "      <th></th>\n",
       "      <th>tconst</th>\n",
       "      <th>titleType</th>\n",
       "      <th>primaryTitle</th>\n",
       "      <th>originalTitle</th>\n",
       "      <th>isAdult</th>\n",
       "      <th>startYear</th>\n",
       "      <th>endYear</th>\n",
       "      <th>runtimeMinutes</th>\n",
       "      <th>genres</th>\n",
       "    </tr>\n",
       "  </thead>\n",
       "  <tbody>\n",
       "    <tr>\n",
       "      <th>0</th>\n",
       "      <td>tt0000009</td>\n",
       "      <td>movie</td>\n",
       "      <td>Miss Jerry</td>\n",
       "      <td>Miss Jerry</td>\n",
       "      <td>0</td>\n",
       "      <td>NaN</td>\n",
       "      <td>NaN</td>\n",
       "      <td>45</td>\n",
       "      <td>Romance</td>\n",
       "    </tr>\n",
       "    <tr>\n",
       "      <th>1</th>\n",
       "      <td>tt0000574</td>\n",
       "      <td>movie</td>\n",
       "      <td>The Story of the Kelly Gang</td>\n",
       "      <td>The Story of the Kelly Gang</td>\n",
       "      <td>0</td>\n",
       "      <td>NaN</td>\n",
       "      <td>NaN</td>\n",
       "      <td>70</td>\n",
       "      <td>Action,Adventure,Biography</td>\n",
       "    </tr>\n",
       "    <tr>\n",
       "      <th>2</th>\n",
       "      <td>tt0000591</td>\n",
       "      <td>movie</td>\n",
       "      <td>The Prodigal Son</td>\n",
       "      <td>L'enfant prodigue</td>\n",
       "      <td>0</td>\n",
       "      <td>NaN</td>\n",
       "      <td>NaN</td>\n",
       "      <td>90</td>\n",
       "      <td>Drama</td>\n",
       "    </tr>\n",
       "    <tr>\n",
       "      <th>3</th>\n",
       "      <td>tt0000679</td>\n",
       "      <td>movie</td>\n",
       "      <td>The Fairylogue and Radio-Plays</td>\n",
       "      <td>The Fairylogue and Radio-Plays</td>\n",
       "      <td>0</td>\n",
       "      <td>NaN</td>\n",
       "      <td>NaN</td>\n",
       "      <td>120</td>\n",
       "      <td>Adventure,Fantasy</td>\n",
       "    </tr>\n",
       "    <tr>\n",
       "      <th>4</th>\n",
       "      <td>tt0001184</td>\n",
       "      <td>movie</td>\n",
       "      <td>Don Juan de Serrallonga</td>\n",
       "      <td>Don Juan de Serrallonga</td>\n",
       "      <td>0</td>\n",
       "      <td>NaN</td>\n",
       "      <td>NaN</td>\n",
       "      <td>58</td>\n",
       "      <td>Adventure,Drama</td>\n",
       "    </tr>\n",
       "  </tbody>\n",
       "</table>\n",
       "</div>"
      ],
      "text/plain": [
       "      tconst titleType                    primaryTitle  \\\n",
       "0  tt0000009     movie                      Miss Jerry   \n",
       "1  tt0000574     movie     The Story of the Kelly Gang   \n",
       "2  tt0000591     movie                The Prodigal Son   \n",
       "3  tt0000679     movie  The Fairylogue and Radio-Plays   \n",
       "4  tt0001184     movie         Don Juan de Serrallonga   \n",
       "\n",
       "                    originalTitle  isAdult  startYear  endYear  \\\n",
       "0                      Miss Jerry        0        NaN      NaN   \n",
       "1     The Story of the Kelly Gang        0        NaN      NaN   \n",
       "2               L'enfant prodigue        0        NaN      NaN   \n",
       "3  The Fairylogue and Radio-Plays        0        NaN      NaN   \n",
       "4         Don Juan de Serrallonga        0        NaN      NaN   \n",
       "\n",
       "   runtimeMinutes                      genres  \n",
       "0              45                     Romance  \n",
       "1              70  Action,Adventure,Biography  \n",
       "2              90                       Drama  \n",
       "3             120           Adventure,Fantasy  \n",
       "4              58             Adventure,Drama  "
      ]
     },
     "execution_count": 159,
     "metadata": {},
     "output_type": "execute_result"
    }
   ],
   "source": [
    "#basics = pd.read_csv(\"DATA/basics.csv.gz\", low_memory = False)\n",
    "#basics.head()"
   ]
  },
  {
   "cell_type": "code",
   "execution_count": 160,
   "id": "21eef54f",
   "metadata": {
    "ExecuteTime": {
     "end_time": "2022-08-02T21:32:45.082819Z",
     "start_time": "2022-08-02T21:32:44.315510Z"
    }
   },
   "outputs": [
    {
     "data": {
      "text/html": [
       "<div>\n",
       "<style scoped>\n",
       "    .dataframe tbody tr th:only-of-type {\n",
       "        vertical-align: middle;\n",
       "    }\n",
       "\n",
       "    .dataframe tbody tr th {\n",
       "        vertical-align: top;\n",
       "    }\n",
       "\n",
       "    .dataframe thead th {\n",
       "        text-align: right;\n",
       "    }\n",
       "</style>\n",
       "<table border=\"1\" class=\"dataframe\">\n",
       "  <thead>\n",
       "    <tr style=\"text-align: right;\">\n",
       "      <th></th>\n",
       "      <th>tconst</th>\n",
       "      <th>averageRating</th>\n",
       "      <th>numVotes</th>\n",
       "    </tr>\n",
       "  </thead>\n",
       "  <tbody>\n",
       "    <tr>\n",
       "      <th>0</th>\n",
       "      <td>tt0000001</td>\n",
       "      <td>5.7</td>\n",
       "      <td>1901</td>\n",
       "    </tr>\n",
       "    <tr>\n",
       "      <th>1</th>\n",
       "      <td>tt0000002</td>\n",
       "      <td>5.9</td>\n",
       "      <td>254</td>\n",
       "    </tr>\n",
       "    <tr>\n",
       "      <th>2</th>\n",
       "      <td>tt0000003</td>\n",
       "      <td>6.5</td>\n",
       "      <td>1695</td>\n",
       "    </tr>\n",
       "    <tr>\n",
       "      <th>3</th>\n",
       "      <td>tt0000004</td>\n",
       "      <td>5.7</td>\n",
       "      <td>166</td>\n",
       "    </tr>\n",
       "    <tr>\n",
       "      <th>4</th>\n",
       "      <td>tt0000005</td>\n",
       "      <td>6.2</td>\n",
       "      <td>2513</td>\n",
       "    </tr>\n",
       "  </tbody>\n",
       "</table>\n",
       "</div>"
      ],
      "text/plain": [
       "      tconst  averageRating  numVotes\n",
       "0  tt0000001            5.7      1901\n",
       "1  tt0000002            5.9       254\n",
       "2  tt0000003            6.5      1695\n",
       "3  tt0000004            5.7       166\n",
       "4  tt0000005            6.2      2513"
      ]
     },
     "execution_count": 160,
     "metadata": {},
     "output_type": "execute_result"
    }
   ],
   "source": [
    "#ratings = pd.read_csv(\"DATA/ratings.csv.gz\", low_memory = False)\n",
    "#ratings.head()"
   ]
  },
  {
   "cell_type": "code",
   "execution_count": 161,
   "id": "be61982a",
   "metadata": {
    "ExecuteTime": {
     "end_time": "2022-08-02T21:33:20.801256Z",
     "start_time": "2022-08-02T21:32:45.145789Z"
    }
   },
   "outputs": [
    {
     "data": {
      "text/html": [
       "<div>\n",
       "<style scoped>\n",
       "    .dataframe tbody tr th:only-of-type {\n",
       "        vertical-align: middle;\n",
       "    }\n",
       "\n",
       "    .dataframe tbody tr th {\n",
       "        vertical-align: top;\n",
       "    }\n",
       "\n",
       "    .dataframe thead th {\n",
       "        text-align: right;\n",
       "    }\n",
       "</style>\n",
       "<table border=\"1\" class=\"dataframe\">\n",
       "  <thead>\n",
       "    <tr style=\"text-align: right;\">\n",
       "      <th></th>\n",
       "      <th>titleId</th>\n",
       "      <th>ordering</th>\n",
       "      <th>title</th>\n",
       "      <th>region</th>\n",
       "      <th>language</th>\n",
       "      <th>types</th>\n",
       "      <th>attributes</th>\n",
       "      <th>isOriginalTitle</th>\n",
       "    </tr>\n",
       "  </thead>\n",
       "  <tbody>\n",
       "    <tr>\n",
       "      <th>0</th>\n",
       "      <td>tt0000001</td>\n",
       "      <td>1</td>\n",
       "      <td>Карменсіта</td>\n",
       "      <td>UA</td>\n",
       "      <td>NaN</td>\n",
       "      <td>imdbDisplay</td>\n",
       "      <td>NaN</td>\n",
       "      <td>0.0</td>\n",
       "    </tr>\n",
       "    <tr>\n",
       "      <th>1</th>\n",
       "      <td>tt0000001</td>\n",
       "      <td>2</td>\n",
       "      <td>Carmencita</td>\n",
       "      <td>DE</td>\n",
       "      <td>NaN</td>\n",
       "      <td>NaN</td>\n",
       "      <td>literal title</td>\n",
       "      <td>0.0</td>\n",
       "    </tr>\n",
       "    <tr>\n",
       "      <th>2</th>\n",
       "      <td>tt0000001</td>\n",
       "      <td>3</td>\n",
       "      <td>Carmencita - spanyol tánc</td>\n",
       "      <td>HU</td>\n",
       "      <td>NaN</td>\n",
       "      <td>imdbDisplay</td>\n",
       "      <td>NaN</td>\n",
       "      <td>0.0</td>\n",
       "    </tr>\n",
       "    <tr>\n",
       "      <th>3</th>\n",
       "      <td>tt0000001</td>\n",
       "      <td>4</td>\n",
       "      <td>Καρμενσίτα</td>\n",
       "      <td>GR</td>\n",
       "      <td>NaN</td>\n",
       "      <td>imdbDisplay</td>\n",
       "      <td>NaN</td>\n",
       "      <td>0.0</td>\n",
       "    </tr>\n",
       "    <tr>\n",
       "      <th>4</th>\n",
       "      <td>tt0000001</td>\n",
       "      <td>5</td>\n",
       "      <td>Карменсита</td>\n",
       "      <td>RU</td>\n",
       "      <td>NaN</td>\n",
       "      <td>imdbDisplay</td>\n",
       "      <td>NaN</td>\n",
       "      <td>0.0</td>\n",
       "    </tr>\n",
       "  </tbody>\n",
       "</table>\n",
       "</div>"
      ],
      "text/plain": [
       "     titleId  ordering                      title region language  \\\n",
       "0  tt0000001         1                 Карменсіта     UA      NaN   \n",
       "1  tt0000001         2                 Carmencita     DE      NaN   \n",
       "2  tt0000001         3  Carmencita - spanyol tánc     HU      NaN   \n",
       "3  tt0000001         4                 Καρμενσίτα     GR      NaN   \n",
       "4  tt0000001         5                 Карменсита     RU      NaN   \n",
       "\n",
       "         types     attributes  isOriginalTitle  \n",
       "0  imdbDisplay            NaN              0.0  \n",
       "1          NaN  literal title              0.0  \n",
       "2  imdbDisplay            NaN              0.0  \n",
       "3  imdbDisplay            NaN              0.0  \n",
       "4  imdbDisplay            NaN              0.0  "
      ]
     },
     "execution_count": 161,
     "metadata": {},
     "output_type": "execute_result"
    }
   ],
   "source": [
    "#akas = pd.read_csv(\"DATA/akas.csv.gz\", low_memory = False)\n",
    "#akas.head()"
   ]
  }
 ],
 "metadata": {
  "hide_input": false,
  "kernelspec": {
   "display_name": "Python (dojo-env)",
   "language": "python",
   "name": "dojo-env"
  },
  "language_info": {
   "codemirror_mode": {
    "name": "ipython",
    "version": 3
   },
   "file_extension": ".py",
   "mimetype": "text/x-python",
   "name": "python",
   "nbconvert_exporter": "python",
   "pygments_lexer": "ipython3",
   "version": "3.8.13"
  },
  "latex_envs": {
   "LaTeX_envs_menu_present": true,
   "autoclose": false,
   "autocomplete": true,
   "bibliofile": "biblio.bib",
   "cite_by": "apalike",
   "current_citInitial": 1,
   "eqLabelWithNumbers": true,
   "eqNumInitial": 1,
   "hotkeys": {
    "equation": "Ctrl-E",
    "itemize": "Ctrl-I"
   },
   "labels_anchors": false,
   "latex_user_defs": false,
   "report_style_numbering": false,
   "user_envs_cfg": false
  },
  "nbTranslate": {
   "displayLangs": [
    "*"
   ],
   "hotkey": "alt-t",
   "langInMainMenu": true,
   "sourceLang": "en",
   "targetLang": "fr",
   "useGoogleTranslate": true
  },
  "toc": {
   "base_numbering": 1,
   "nav_menu": {},
   "number_sections": false,
   "sideBar": true,
   "skip_h1_title": false,
   "title_cell": "Table of Contents",
   "title_sidebar": "Contents",
   "toc_cell": false,
   "toc_position": {},
   "toc_section_display": true,
   "toc_window_display": false
  },
  "varInspector": {
   "cols": {
    "lenName": 16,
    "lenType": 16,
    "lenVar": 40
   },
   "kernels_config": {
    "python": {
     "delete_cmd_postfix": "",
     "delete_cmd_prefix": "del ",
     "library": "var_list.py",
     "varRefreshCmd": "print(var_dic_list())"
    },
    "r": {
     "delete_cmd_postfix": ") ",
     "delete_cmd_prefix": "rm(",
     "library": "var_list.r",
     "varRefreshCmd": "cat(var_dic_list()) "
    }
   },
   "types_to_exclude": [
    "module",
    "function",
    "builtin_function_or_method",
    "instance",
    "_Feature"
   ],
   "window_display": false
  }
 },
 "nbformat": 4,
 "nbformat_minor": 5
}
