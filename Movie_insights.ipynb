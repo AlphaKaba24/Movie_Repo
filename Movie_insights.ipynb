{
 "cells": [
  {
   "cell_type": "code",
   "execution_count": 2,
   "id": "e8c305ae",
   "metadata": {
    "ExecuteTime": {
     "end_time": "2022-07-25T18:20:20.306084Z",
     "start_time": "2022-07-25T18:20:20.288699Z"
    }
   },
   "outputs": [],
   "source": [
    "import pandas as pd"
   ]
  },
  {
   "cell_type": "code",
   "execution_count": 3,
   "id": "6431c712",
   "metadata": {
    "ExecuteTime": {
     "end_time": "2022-07-25T18:20:20.382940Z",
     "start_time": "2022-07-25T18:20:20.308043Z"
    }
   },
   "outputs": [],
   "source": [
    "basics_url='https://datasets.imdbws.com/title.basics.tsv.gz'"
   ]
  },
  {
   "cell_type": "code",
   "execution_count": 4,
   "id": "d17bcf74",
   "metadata": {
    "ExecuteTime": {
     "end_time": "2022-07-25T18:20:20.459819Z",
     "start_time": "2022-07-25T18:20:20.385917Z"
    }
   },
   "outputs": [],
   "source": [
    "ratings_url='https://datasets.imdbws.com/title.ratings.tsv.gz'"
   ]
  },
  {
   "cell_type": "code",
   "execution_count": 5,
   "id": "561c33a3",
   "metadata": {
    "ExecuteTime": {
     "end_time": "2022-07-25T18:20:20.552076Z",
     "start_time": "2022-07-25T18:20:20.461308Z"
    }
   },
   "outputs": [],
   "source": [
    "akas_url='https://datasets.imdbws.com/title.akas.tsv.gz'"
   ]
  },
  {
   "cell_type": "code",
   "execution_count": 6,
   "id": "7c000d3d",
   "metadata": {
    "ExecuteTime": {
     "end_time": "2022-07-25T18:20:36.881301Z",
     "start_time": "2022-07-25T18:20:20.554556Z"
    }
   },
   "outputs": [
    {
     "name": "stderr",
     "output_type": "stream",
     "text": [
      "C:\\Users\\Alpha\\AppData\\Local\\Temp\\ipykernel_13564\\1344591589.py:1: DtypeWarning: Columns (4,5) have mixed types. Specify dtype option on import or set low_memory=False.\n",
      "  basics= pd.read_csv(basics_url, sep='\\t', low_memory='False')\n"
     ]
    }
   ],
   "source": [
    "basics= pd.read_csv(basics_url, sep='\\t', low_memory='False')"
   ]
  },
  {
   "cell_type": "code",
   "execution_count": 7,
   "id": "6b2dea24",
   "metadata": {
    "ExecuteTime": {
     "end_time": "2022-07-25T18:20:38.816175Z",
     "start_time": "2022-07-25T18:20:36.882793Z"
    }
   },
   "outputs": [],
   "source": [
    "ratings = pd.read_csv(ratings_url, sep='\\t', low_memory='False')"
   ]
  },
  {
   "cell_type": "code",
   "execution_count": 8,
   "id": "3e9121ef",
   "metadata": {
    "ExecuteTime": {
     "end_time": "2022-07-25T18:21:13.567085Z",
     "start_time": "2022-07-25T18:20:38.817664Z"
    }
   },
   "outputs": [
    {
     "name": "stderr",
     "output_type": "stream",
     "text": [
      "C:\\Users\\Alpha\\AppData\\Local\\Temp\\ipykernel_13564\\3527530519.py:1: DtypeWarning: Columns (7) have mixed types. Specify dtype option on import or set low_memory=False.\n",
      "  akas = pd.read_csv(akas_url, sep='\\t', low_memory='False')\n"
     ]
    }
   ],
   "source": [
    "akas = pd.read_csv(akas_url, sep='\\t', low_memory='False')"
   ]
  },
  {
   "cell_type": "code",
   "execution_count": 9,
   "id": "3b2f608d",
   "metadata": {
    "ExecuteTime": {
     "end_time": "2022-07-25T18:21:25.852190Z",
     "start_time": "2022-07-25T18:21:13.568573Z"
    }
   },
   "outputs": [],
   "source": [
    "basics = basics.replace({'\\\\N':np.nan})"
   ]
  },
  {
   "cell_type": "code",
   "execution_count": 10,
   "id": "46c7b0d5",
   "metadata": {
    "ExecuteTime": {
     "end_time": "2022-07-25T18:21:26.067480Z",
     "start_time": "2022-07-25T18:21:25.853678Z"
    }
   },
   "outputs": [],
   "source": [
    "ratings = ratings.replace({'\\\\N':np.nan})"
   ]
  },
  {
   "cell_type": "code",
   "execution_count": null,
   "id": "140cf23c",
   "metadata": {
    "ExecuteTime": {
     "start_time": "2022-07-25T18:20:20.396Z"
    }
   },
   "outputs": [],
   "source": [
    "akas = akas.replace({'\\\\N':np.nan})"
   ]
  },
  {
   "cell_type": "code",
   "execution_count": null,
   "id": "1cd54794",
   "metadata": {
    "ExecuteTime": {
     "start_time": "2022-07-25T18:20:20.409Z"
    }
   },
   "outputs": [],
   "source": [
    "basics"
   ]
  },
  {
   "cell_type": "code",
   "execution_count": null,
   "id": "a34f92bf",
   "metadata": {
    "ExecuteTime": {
     "start_time": "2022-07-25T18:20:20.421Z"
    }
   },
   "outputs": [],
   "source": [
    "basics = basics[basics[\"runtimeMinutes\"].str.contains(\"NaN\")==False]\n",
    "\n"
   ]
  },
  {
   "cell_type": "code",
   "execution_count": null,
   "id": "59ad3f5f",
   "metadata": {
    "ExecuteTime": {
     "start_time": "2022-07-25T18:20:20.434Z"
    }
   },
   "outputs": [],
   "source": [
    "basics"
   ]
  },
  {
   "cell_type": "code",
   "execution_count": null,
   "id": "33f9791b",
   "metadata": {
    "ExecuteTime": {
     "start_time": "2022-07-25T18:20:20.446Z"
    }
   },
   "outputs": [],
   "source": [
    "basics = basics[basics[\"genres\"].str.contains(\"NaN\")==False]"
   ]
  },
  {
   "cell_type": "code",
   "execution_count": null,
   "id": "a5691c4a",
   "metadata": {
    "ExecuteTime": {
     "start_time": "2022-07-25T18:20:20.460Z"
    }
   },
   "outputs": [],
   "source": [
    "basics"
   ]
  },
  {
   "cell_type": "code",
   "execution_count": null,
   "id": "9d9bc085",
   "metadata": {
    "ExecuteTime": {
     "start_time": "2022-07-25T18:20:20.472Z"
    }
   },
   "outputs": [],
   "source": [
    "basics['titleType'].value_counts()"
   ]
  },
  {
   "cell_type": "code",
   "execution_count": null,
   "id": "66a094c9",
   "metadata": {
    "ExecuteTime": {
     "start_time": "2022-07-25T18:20:20.498Z"
    }
   },
   "outputs": [],
   "source": [
    "basics = basics[basics[\"titleType\"].str.contains(\"tvEpisode\")==False]"
   ]
  },
  {
   "cell_type": "code",
   "execution_count": null,
   "id": "d5c2fa51",
   "metadata": {
    "ExecuteTime": {
     "start_time": "2022-07-25T18:20:20.513Z"
    }
   },
   "outputs": [],
   "source": [
    "basics = basics[basics[\"titleType\"].str.contains(\"short\")==False]"
   ]
  },
  {
   "cell_type": "code",
   "execution_count": null,
   "id": "eba79414",
   "metadata": {
    "ExecuteTime": {
     "start_time": "2022-07-25T18:20:20.530Z"
    }
   },
   "outputs": [],
   "source": [
    "basics = basics[basics[\"titleType\"].str.contains(\"video\")==False]"
   ]
  },
  {
   "cell_type": "code",
   "execution_count": null,
   "id": "387f1d1a",
   "metadata": {
    "ExecuteTime": {
     "start_time": "2022-07-25T18:20:20.551Z"
    }
   },
   "outputs": [],
   "source": [
    "basics = basics[basics[\"titleType\"].str.contains(\"tvMovie\")==False]"
   ]
  },
  {
   "cell_type": "code",
   "execution_count": null,
   "id": "36a1fba8",
   "metadata": {
    "ExecuteTime": {
     "start_time": "2022-07-25T18:20:20.568Z"
    }
   },
   "outputs": [],
   "source": [
    "basics = basics[basics[\"titleType\"].str.contains(\"tvSeries\")==False]"
   ]
  },
  {
   "cell_type": "code",
   "execution_count": null,
   "id": "f61df3be",
   "metadata": {
    "ExecuteTime": {
     "start_time": "2022-07-25T18:20:20.579Z"
    }
   },
   "outputs": [],
   "source": [
    "basics = basics[basics[\"titleType\"].str.contains(\"tvMiniSeries\")==False]"
   ]
  },
  {
   "cell_type": "code",
   "execution_count": null,
   "id": "fd4082eb",
   "metadata": {
    "ExecuteTime": {
     "start_time": "2022-07-25T18:20:20.591Z"
    }
   },
   "outputs": [],
   "source": [
    "basics = basics[basics[\"titleType\"].str.contains(\"tvShort\")==False]"
   ]
  },
  {
   "cell_type": "code",
   "execution_count": null,
   "id": "5ab4af9f",
   "metadata": {
    "ExecuteTime": {
     "start_time": "2022-07-25T18:20:20.603Z"
    }
   },
   "outputs": [],
   "source": [
    "basics = basics[basics[\"titleType\"].str.contains(\"videoGame\")==False]"
   ]
  },
  {
   "cell_type": "code",
   "execution_count": null,
   "id": "64895beb",
   "metadata": {
    "ExecuteTime": {
     "start_time": "2022-07-25T18:20:20.615Z"
    }
   },
   "outputs": [],
   "source": [
    "basics"
   ]
  },
  {
   "cell_type": "code",
   "execution_count": null,
   "id": "9f196818",
   "metadata": {
    "ExecuteTime": {
     "start_time": "2022-07-25T18:20:20.628Z"
    }
   },
   "outputs": [],
   "source": [
    "basics['startYear'].value_counts()"
   ]
  },
  {
   "cell_type": "code",
   "execution_count": null,
   "id": "d833f1c5",
   "metadata": {
    "ExecuteTime": {
     "start_time": "2022-07-25T18:20:20.640Z"
    }
   },
   "outputs": [],
   "source": [
    "basics = basics[basics[\"genres\"].str.contains(\"NaN\")==False]"
   ]
  },
  {
   "cell_type": "code",
   "execution_count": null,
   "id": "492975f8",
   "metadata": {
    "ExecuteTime": {
     "start_time": "2022-07-25T18:20:20.652Z"
    }
   },
   "outputs": [],
   "source": [
    "basics = basics['startYear'].astype(int)"
   ]
  },
  {
   "cell_type": "code",
   "execution_count": null,
   "id": "d53c8a9d",
   "metadata": {
    "ExecuteTime": {
     "start_time": "2022-07-25T18:20:20.663Z"
    }
   },
   "outputs": [],
   "source": [
    "is_documentary = basics['genres'].str.contains('Documentary',case=False)\n",
    "basics = basics[~is_documentary]\n",
    "\n"
   ]
  },
  {
   "cell_type": "code",
   "execution_count": null,
   "id": "a89b2192",
   "metadata": {
    "ExecuteTime": {
     "start_time": "2022-07-25T18:20:20.675Z"
    }
   },
   "outputs": [],
   "source": [
    "import os\n",
    "os.makedirs('DATA/',exist_ok=True)\n",
    "\n",
    "os.listdir(\"DATA/\")"
   ]
  },
  {
   "cell_type": "code",
   "execution_count": null,
   "id": "1c147311",
   "metadata": {
    "ExecuteTime": {
     "start_time": "2022-07-25T18:20:20.686Z"
    }
   },
   "outputs": [],
   "source": [
    "basics.to_csv(\"DATA/basics.csv.gz\",compression='gzip',index=False)\n",
    "\n"
   ]
  },
  {
   "cell_type": "code",
   "execution_count": null,
   "id": "f640241c",
   "metadata": {
    "ExecuteTime": {
     "start_time": "2022-07-25T18:20:20.698Z"
    }
   },
   "outputs": [],
   "source": [
    "ratings.to_csv(\"DATA/ratings.csv.gz\",compression='gzip',index=False)"
   ]
  },
  {
   "cell_type": "code",
   "execution_count": null,
   "id": "4461d5cc",
   "metadata": {
    "ExecuteTime": {
     "start_time": "2022-07-25T18:20:20.710Z"
    }
   },
   "outputs": [],
   "source": [
    "akas.to_csv(\"DATA/akas.csv.gz\",compression='gzip',index=False)"
   ]
  },
  {
   "cell_type": "code",
   "execution_count": null,
   "id": "2d888701",
   "metadata": {
    "ExecuteTime": {
     "start_time": "2022-07-25T18:20:20.722Z"
    }
   },
   "outputs": [],
   "source": [
    "basics = pd.read_csv(\"DATA/basics.csv.gz\", low_memory = False)\n",
    "basics.head()"
   ]
  },
  {
   "cell_type": "code",
   "execution_count": null,
   "id": "21eef54f",
   "metadata": {
    "ExecuteTime": {
     "start_time": "2022-07-25T18:20:20.734Z"
    }
   },
   "outputs": [],
   "source": [
    "ratings = pd.read_csv(\"DATA/ratings.csv.gz\", low_memory = False)\n",
    "ratings.head()"
   ]
  },
  {
   "cell_type": "code",
   "execution_count": null,
   "id": "be61982a",
   "metadata": {
    "ExecuteTime": {
     "start_time": "2022-07-25T18:20:20.747Z"
    }
   },
   "outputs": [],
   "source": [
    "akas = pd.read_csv(\"DATA/akas.csv.gz\", low_memory = False)\n",
    "akas.head()"
   ]
  },
  {
   "cell_type": "code",
   "execution_count": null,
   "id": "b1a4b191",
   "metadata": {},
   "outputs": [],
   "source": []
  }
 ],
 "metadata": {
  "hide_input": false,
  "kernelspec": {
   "display_name": "Python (dojo-env)",
   "language": "python",
   "name": "dojo-env"
  },
  "language_info": {
   "codemirror_mode": {
    "name": "ipython",
    "version": 3
   },
   "file_extension": ".py",
   "mimetype": "text/x-python",
   "name": "python",
   "nbconvert_exporter": "python",
   "pygments_lexer": "ipython3",
   "version": "3.8.13"
  },
  "latex_envs": {
   "LaTeX_envs_menu_present": true,
   "autoclose": false,
   "autocomplete": true,
   "bibliofile": "biblio.bib",
   "cite_by": "apalike",
   "current_citInitial": 1,
   "eqLabelWithNumbers": true,
   "eqNumInitial": 1,
   "hotkeys": {
    "equation": "Ctrl-E",
    "itemize": "Ctrl-I"
   },
   "labels_anchors": false,
   "latex_user_defs": false,
   "report_style_numbering": false,
   "user_envs_cfg": false
  },
  "nbTranslate": {
   "displayLangs": [
    "*"
   ],
   "hotkey": "alt-t",
   "langInMainMenu": true,
   "sourceLang": "en",
   "targetLang": "fr",
   "useGoogleTranslate": true
  },
  "toc": {
   "base_numbering": 1,
   "nav_menu": {},
   "number_sections": false,
   "sideBar": true,
   "skip_h1_title": false,
   "title_cell": "Table of Contents",
   "title_sidebar": "Contents",
   "toc_cell": false,
   "toc_position": {},
   "toc_section_display": true,
   "toc_window_display": false
  },
  "varInspector": {
   "cols": {
    "lenName": 16,
    "lenType": 16,
    "lenVar": 40
   },
   "kernels_config": {
    "python": {
     "delete_cmd_postfix": "",
     "delete_cmd_prefix": "del ",
     "library": "var_list.py",
     "varRefreshCmd": "print(var_dic_list())"
    },
    "r": {
     "delete_cmd_postfix": ") ",
     "delete_cmd_prefix": "rm(",
     "library": "var_list.r",
     "varRefreshCmd": "cat(var_dic_list()) "
    }
   },
   "types_to_exclude": [
    "module",
    "function",
    "builtin_function_or_method",
    "instance",
    "_Feature"
   ],
   "window_display": false
  }
 },
 "nbformat": 4,
 "nbformat_minor": 5
}
