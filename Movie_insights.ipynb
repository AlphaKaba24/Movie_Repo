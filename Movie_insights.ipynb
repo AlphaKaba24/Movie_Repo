{
 "cells": [
  {
   "cell_type": "code",
   "execution_count": 39,
   "id": "e8c305ae",
   "metadata": {
    "ExecuteTime": {
     "end_time": "2022-07-21T03:39:03.279210Z",
     "start_time": "2022-07-21T03:39:03.272761Z"
    }
   },
   "outputs": [],
   "source": [
    "import pandas as pd"
   ]
  },
  {
   "cell_type": "code",
   "execution_count": 40,
   "id": "6431c712",
   "metadata": {
    "ExecuteTime": {
     "end_time": "2022-07-21T03:39:20.557234Z",
     "start_time": "2022-07-21T03:39:20.553266Z"
    }
   },
   "outputs": [],
   "source": [
    "basics_url='https://datasets.imdbws.com/title.basics.tsv.gz'"
   ]
  },
  {
   "cell_type": "code",
   "execution_count": 41,
   "id": "d17bcf74",
   "metadata": {
    "ExecuteTime": {
     "end_time": "2022-07-21T03:39:22.755112Z",
     "start_time": "2022-07-21T03:39:22.739241Z"
    }
   },
   "outputs": [],
   "source": [
    "ratings_url='https://datasets.imdbws.com/title.ratings.tsv.gz'"
   ]
  },
  {
   "cell_type": "code",
   "execution_count": 42,
   "id": "561c33a3",
   "metadata": {
    "ExecuteTime": {
     "end_time": "2022-07-21T03:39:23.199581Z",
     "start_time": "2022-07-21T03:39:23.184262Z"
    }
   },
   "outputs": [],
   "source": [
    "akas_url='https://datasets.imdbws.com/title.akas.tsv.gz'"
   ]
  },
  {
   "cell_type": "code",
   "execution_count": 43,
   "id": "7c000d3d",
   "metadata": {
    "ExecuteTime": {
     "end_time": "2022-07-21T03:39:23.799960Z",
     "start_time": "2022-07-21T03:39:23.795000Z"
    }
   },
   "outputs": [
    {
     "ename": "SyntaxError",
     "evalue": "EOL while scanning string literal (3295901502.py, line 1)",
     "output_type": "error",
     "traceback": [
      "\u001b[1;36m  Input \u001b[1;32mIn [43]\u001b[1;36m\u001b[0m\n\u001b[1;33m    basics= pd.read_csv(basics_url, sep='\\t', low_memory=False')\u001b[0m\n\u001b[1;37m                                                                ^\u001b[0m\n\u001b[1;31mSyntaxError\u001b[0m\u001b[1;31m:\u001b[0m EOL while scanning string literal\n"
     ]
    }
   ],
   "source": [
    "basics= pd.read_csv(basics_url, sep='\\t', low_memory=False')"
   ]
  },
  {
   "cell_type": "code",
   "execution_count": 44,
   "id": "6b2dea24",
   "metadata": {
    "ExecuteTime": {
     "end_time": "2022-07-21T03:39:24.308434Z",
     "start_time": "2022-07-21T03:39:24.298019Z"
    }
   },
   "outputs": [
    {
     "ename": "SyntaxError",
     "evalue": "EOL while scanning string literal (2629606276.py, line 1)",
     "output_type": "error",
     "traceback": [
      "\u001b[1;36m  Input \u001b[1;32mIn [44]\u001b[1;36m\u001b[0m\n\u001b[1;33m    ratings = pd.read_csv(ratings_url, sep='\\t', low_memory=False')\u001b[0m\n\u001b[1;37m                                                                   ^\u001b[0m\n\u001b[1;31mSyntaxError\u001b[0m\u001b[1;31m:\u001b[0m EOL while scanning string literal\n"
     ]
    }
   ],
   "source": [
    "ratings = pd.read_csv(ratings_url, sep='\\t', low_memory=False')"
   ]
  },
  {
   "cell_type": "code",
   "execution_count": 45,
   "id": "3e9121ef",
   "metadata": {
    "ExecuteTime": {
     "end_time": "2022-07-21T03:39:24.938752Z",
     "start_time": "2022-07-21T03:39:24.920289Z"
    }
   },
   "outputs": [
    {
     "ename": "SyntaxError",
     "evalue": "EOL while scanning string literal (72400183.py, line 1)",
     "output_type": "error",
     "traceback": [
      "\u001b[1;36m  Input \u001b[1;32mIn [45]\u001b[1;36m\u001b[0m\n\u001b[1;33m    akas = pd.read_csv(akas_url, sep='\\t', low_memory=False')\u001b[0m\n\u001b[1;37m                                                             ^\u001b[0m\n\u001b[1;31mSyntaxError\u001b[0m\u001b[1;31m:\u001b[0m EOL while scanning string literal\n"
     ]
    }
   ],
   "source": [
    "akas = pd.read_csv(akas_url, sep='\\t', low_memory=False')"
   ]
  },
  {
   "cell_type": "code",
   "execution_count": 46,
   "id": "3b2f608d",
   "metadata": {
    "ExecuteTime": {
     "end_time": "2022-07-21T03:40:45.038960Z",
     "start_time": "2022-07-21T03:40:43.444413Z"
    }
   },
   "outputs": [],
   "source": [
    "basics = basics.replace({'\\\\N':np.nan})"
   ]
  },
  {
   "cell_type": "code",
   "execution_count": 47,
   "id": "46c7b0d5",
   "metadata": {
    "ExecuteTime": {
     "end_time": "2022-07-21T03:40:46.993295Z",
     "start_time": "2022-07-21T03:40:46.766605Z"
    }
   },
   "outputs": [],
   "source": [
    "ratings = ratings.replace({'\\\\N':np.nan})"
   ]
  },
  {
   "cell_type": "code",
   "execution_count": 48,
   "id": "140cf23c",
   "metadata": {
    "ExecuteTime": {
     "end_time": "2022-07-21T03:40:53.591850Z",
     "start_time": "2022-07-21T03:40:48.019745Z"
    }
   },
   "outputs": [],
   "source": [
    "akas = akas.replace({'\\\\N':np.nan})"
   ]
  },
  {
   "cell_type": "code",
   "execution_count": 50,
   "id": "1cd54794",
   "metadata": {
    "ExecuteTime": {
     "end_time": "2022-07-21T03:40:54.946185Z",
     "start_time": "2022-07-21T03:40:54.921881Z"
    }
   },
   "outputs": [
    {
     "data": {
      "text/html": [
       "<div>\n",
       "<style scoped>\n",
       "    .dataframe tbody tr th:only-of-type {\n",
       "        vertical-align: middle;\n",
       "    }\n",
       "\n",
       "    .dataframe tbody tr th {\n",
       "        vertical-align: top;\n",
       "    }\n",
       "\n",
       "    .dataframe thead th {\n",
       "        text-align: right;\n",
       "    }\n",
       "</style>\n",
       "<table border=\"1\" class=\"dataframe\">\n",
       "  <thead>\n",
       "    <tr style=\"text-align: right;\">\n",
       "      <th></th>\n",
       "      <th>tconst\\ttitleType\\tprimaryTitle\\toriginalTitle\\tisAdult\\tstartYear\\tendYear\\truntimeMinutes\\tgenres</th>\n",
       "    </tr>\n",
       "  </thead>\n",
       "  <tbody>\n",
       "    <tr>\n",
       "      <th>0</th>\n",
       "      <td>tt0000001\\tshort\\tCarmencita\\tCarmencita\\t0\\t1...</td>\n",
       "    </tr>\n",
       "    <tr>\n",
       "      <th>1</th>\n",
       "      <td>tt0000002\\tshort\\tLe clown et ses chiens\\tLe c...</td>\n",
       "    </tr>\n",
       "    <tr>\n",
       "      <th>2</th>\n",
       "      <td>tt0000003\\tshort\\tPauvre Pierrot\\tPauvre Pierr...</td>\n",
       "    </tr>\n",
       "    <tr>\n",
       "      <th>3</th>\n",
       "      <td>tt0000004\\tshort\\tUn bon bock\\tUn bon bock\\t0\\...</td>\n",
       "    </tr>\n",
       "    <tr>\n",
       "      <th>4</th>\n",
       "      <td>tt0000005\\tshort\\tBlacksmith Scene\\tBlacksmith...</td>\n",
       "    </tr>\n",
       "    <tr>\n",
       "      <th>...</th>\n",
       "      <td>...</td>\n",
       "    </tr>\n",
       "    <tr>\n",
       "      <th>9085047</th>\n",
       "      <td>tt9916848\\ttvEpisode\\tEpisode #3.17\\tEpisode #...</td>\n",
       "    </tr>\n",
       "    <tr>\n",
       "      <th>9085048</th>\n",
       "      <td>tt9916850\\ttvEpisode\\tEpisode #3.19\\tEpisode #...</td>\n",
       "    </tr>\n",
       "    <tr>\n",
       "      <th>9085049</th>\n",
       "      <td>tt9916852\\ttvEpisode\\tEpisode #3.20\\tEpisode #...</td>\n",
       "    </tr>\n",
       "    <tr>\n",
       "      <th>9085050</th>\n",
       "      <td>tt9916856\\tshort\\tThe Wind\\tThe Wind\\t0\\t2015\\...</td>\n",
       "    </tr>\n",
       "    <tr>\n",
       "      <th>9085051</th>\n",
       "      <td>tt9916880\\ttvEpisode\\tHorrid Henry Knows It Al...</td>\n",
       "    </tr>\n",
       "  </tbody>\n",
       "</table>\n",
       "<p>9085052 rows × 1 columns</p>\n",
       "</div>"
      ],
      "text/plain": [
       "        tconst\\ttitleType\\tprimaryTitle\\toriginalTitle\\tisAdult\\tstartYear\\tendYear\\truntimeMinutes\\tgenres\n",
       "0        tt0000001\\tshort\\tCarmencita\\tCarmencita\\t0\\t1...                                                 \n",
       "1        tt0000002\\tshort\\tLe clown et ses chiens\\tLe c...                                                 \n",
       "2        tt0000003\\tshort\\tPauvre Pierrot\\tPauvre Pierr...                                                 \n",
       "3        tt0000004\\tshort\\tUn bon bock\\tUn bon bock\\t0\\...                                                 \n",
       "4        tt0000005\\tshort\\tBlacksmith Scene\\tBlacksmith...                                                 \n",
       "...                                                    ...                                                 \n",
       "9085047  tt9916848\\ttvEpisode\\tEpisode #3.17\\tEpisode #...                                                 \n",
       "9085048  tt9916850\\ttvEpisode\\tEpisode #3.19\\tEpisode #...                                                 \n",
       "9085049  tt9916852\\ttvEpisode\\tEpisode #3.20\\tEpisode #...                                                 \n",
       "9085050  tt9916856\\tshort\\tThe Wind\\tThe Wind\\t0\\t2015\\...                                                 \n",
       "9085051  tt9916880\\ttvEpisode\\tHorrid Henry Knows It Al...                                                 \n",
       "\n",
       "[9085052 rows x 1 columns]"
      ]
     },
     "execution_count": 50,
     "metadata": {},
     "output_type": "execute_result"
    }
   ],
   "source": [
    "basics"
   ]
  },
  {
   "cell_type": "code",
   "execution_count": 38,
   "id": "a34f92bf",
   "metadata": {
    "ExecuteTime": {
     "end_time": "2022-07-21T03:28:04.467056Z",
     "start_time": "2022-07-21T03:28:04.412908Z"
    }
   },
   "outputs": [
    {
     "ename": "KeyError",
     "evalue": "'\\tgenres'",
     "output_type": "error",
     "traceback": [
      "\u001b[1;31m---------------------------------------------------------------------------\u001b[0m",
      "\u001b[1;31mKeyError\u001b[0m                                  Traceback (most recent call last)",
      "File \u001b[1;32m~\\anaconda3\\envs\\dojo-env\\lib\\site-packages\\pandas\\core\\indexes\\base.py:3621\u001b[0m, in \u001b[0;36mIndex.get_loc\u001b[1;34m(self, key, method, tolerance)\u001b[0m\n\u001b[0;32m   3620\u001b[0m \u001b[38;5;28;01mtry\u001b[39;00m:\n\u001b[1;32m-> 3621\u001b[0m     \u001b[38;5;28;01mreturn\u001b[39;00m \u001b[38;5;28;43mself\u001b[39;49m\u001b[38;5;241;43m.\u001b[39;49m\u001b[43m_engine\u001b[49m\u001b[38;5;241;43m.\u001b[39;49m\u001b[43mget_loc\u001b[49m\u001b[43m(\u001b[49m\u001b[43mcasted_key\u001b[49m\u001b[43m)\u001b[49m\n\u001b[0;32m   3622\u001b[0m \u001b[38;5;28;01mexcept\u001b[39;00m \u001b[38;5;167;01mKeyError\u001b[39;00m \u001b[38;5;28;01mas\u001b[39;00m err:\n",
      "File \u001b[1;32m~\\anaconda3\\envs\\dojo-env\\lib\\site-packages\\pandas\\_libs\\index.pyx:136\u001b[0m, in \u001b[0;36mpandas._libs.index.IndexEngine.get_loc\u001b[1;34m()\u001b[0m\n",
      "File \u001b[1;32m~\\anaconda3\\envs\\dojo-env\\lib\\site-packages\\pandas\\_libs\\index.pyx:163\u001b[0m, in \u001b[0;36mpandas._libs.index.IndexEngine.get_loc\u001b[1;34m()\u001b[0m\n",
      "File \u001b[1;32mpandas\\_libs\\hashtable_class_helper.pxi:5198\u001b[0m, in \u001b[0;36mpandas._libs.hashtable.PyObjectHashTable.get_item\u001b[1;34m()\u001b[0m\n",
      "File \u001b[1;32mpandas\\_libs\\hashtable_class_helper.pxi:5206\u001b[0m, in \u001b[0;36mpandas._libs.hashtable.PyObjectHashTable.get_item\u001b[1;34m()\u001b[0m\n",
      "\u001b[1;31mKeyError\u001b[0m: '\\tgenres'",
      "\nThe above exception was the direct cause of the following exception:\n",
      "\u001b[1;31mKeyError\u001b[0m                                  Traceback (most recent call last)",
      "Input \u001b[1;32mIn [38]\u001b[0m, in \u001b[0;36m<cell line: 1>\u001b[1;34m()\u001b[0m\n\u001b[1;32m----> 1\u001b[0m is_documentary \u001b[38;5;241m=\u001b[39m \u001b[43mbasics\u001b[49m\u001b[43m[\u001b[49m\u001b[38;5;124;43m'\u001b[39;49m\u001b[38;5;130;43;01m\\t\u001b[39;49;00m\u001b[38;5;124;43mgenres\u001b[39;49m\u001b[38;5;124;43m'\u001b[39;49m\u001b[43m]\u001b[49m\u001b[38;5;241m.\u001b[39mstr\u001b[38;5;241m.\u001b[39mcontains(\u001b[38;5;124m'\u001b[39m\u001b[38;5;130;01m\\t\u001b[39;00m\u001b[38;5;124mdocumentary\u001b[39m\u001b[38;5;124m'\u001b[39m,case\u001b[38;5;241m=\u001b[39m\u001b[38;5;28;01mFalse\u001b[39;00m)\n\u001b[0;32m      2\u001b[0m basics_df \u001b[38;5;241m=\u001b[39m basics[\u001b[38;5;241m~\u001b[39mis_documentary]\n",
      "File \u001b[1;32m~\\anaconda3\\envs\\dojo-env\\lib\\site-packages\\pandas\\core\\frame.py:3505\u001b[0m, in \u001b[0;36mDataFrame.__getitem__\u001b[1;34m(self, key)\u001b[0m\n\u001b[0;32m   3503\u001b[0m \u001b[38;5;28;01mif\u001b[39;00m \u001b[38;5;28mself\u001b[39m\u001b[38;5;241m.\u001b[39mcolumns\u001b[38;5;241m.\u001b[39mnlevels \u001b[38;5;241m>\u001b[39m \u001b[38;5;241m1\u001b[39m:\n\u001b[0;32m   3504\u001b[0m     \u001b[38;5;28;01mreturn\u001b[39;00m \u001b[38;5;28mself\u001b[39m\u001b[38;5;241m.\u001b[39m_getitem_multilevel(key)\n\u001b[1;32m-> 3505\u001b[0m indexer \u001b[38;5;241m=\u001b[39m \u001b[38;5;28;43mself\u001b[39;49m\u001b[38;5;241;43m.\u001b[39;49m\u001b[43mcolumns\u001b[49m\u001b[38;5;241;43m.\u001b[39;49m\u001b[43mget_loc\u001b[49m\u001b[43m(\u001b[49m\u001b[43mkey\u001b[49m\u001b[43m)\u001b[49m\n\u001b[0;32m   3506\u001b[0m \u001b[38;5;28;01mif\u001b[39;00m is_integer(indexer):\n\u001b[0;32m   3507\u001b[0m     indexer \u001b[38;5;241m=\u001b[39m [indexer]\n",
      "File \u001b[1;32m~\\anaconda3\\envs\\dojo-env\\lib\\site-packages\\pandas\\core\\indexes\\base.py:3623\u001b[0m, in \u001b[0;36mIndex.get_loc\u001b[1;34m(self, key, method, tolerance)\u001b[0m\n\u001b[0;32m   3621\u001b[0m     \u001b[38;5;28;01mreturn\u001b[39;00m \u001b[38;5;28mself\u001b[39m\u001b[38;5;241m.\u001b[39m_engine\u001b[38;5;241m.\u001b[39mget_loc(casted_key)\n\u001b[0;32m   3622\u001b[0m \u001b[38;5;28;01mexcept\u001b[39;00m \u001b[38;5;167;01mKeyError\u001b[39;00m \u001b[38;5;28;01mas\u001b[39;00m err:\n\u001b[1;32m-> 3623\u001b[0m     \u001b[38;5;28;01mraise\u001b[39;00m \u001b[38;5;167;01mKeyError\u001b[39;00m(key) \u001b[38;5;28;01mfrom\u001b[39;00m \u001b[38;5;21;01merr\u001b[39;00m\n\u001b[0;32m   3624\u001b[0m \u001b[38;5;28;01mexcept\u001b[39;00m \u001b[38;5;167;01mTypeError\u001b[39;00m:\n\u001b[0;32m   3625\u001b[0m     \u001b[38;5;66;03m# If we have a listlike key, _check_indexing_error will raise\u001b[39;00m\n\u001b[0;32m   3626\u001b[0m     \u001b[38;5;66;03m#  InvalidIndexError. Otherwise we fall through and re-raise\u001b[39;00m\n\u001b[0;32m   3627\u001b[0m     \u001b[38;5;66;03m#  the TypeError.\u001b[39;00m\n\u001b[0;32m   3628\u001b[0m     \u001b[38;5;28mself\u001b[39m\u001b[38;5;241m.\u001b[39m_check_indexing_error(key)\n",
      "\u001b[1;31mKeyError\u001b[0m: '\\tgenres'"
     ]
    }
   ],
   "source": [
    "is_documentary = basics['\\tgenres'].str.contains('\\tdocumentary',case=False)\n",
    "basics_df = basics[~is_documentary]\n",
    "\n"
   ]
  },
  {
   "cell_type": "code",
   "execution_count": null,
   "id": "59ad3f5f",
   "metadata": {},
   "outputs": [],
   "source": []
  },
  {
   "cell_type": "code",
   "execution_count": null,
   "id": "33f9791b",
   "metadata": {},
   "outputs": [],
   "source": []
  }
 ],
 "metadata": {
  "hide_input": false,
  "kernelspec": {
   "display_name": "Python (dojo-env)",
   "language": "python",
   "name": "dojo-env"
  },
  "language_info": {
   "codemirror_mode": {
    "name": "ipython",
    "version": 3
   },
   "file_extension": ".py",
   "mimetype": "text/x-python",
   "name": "python",
   "nbconvert_exporter": "python",
   "pygments_lexer": "ipython3",
   "version": "3.8.13"
  },
  "latex_envs": {
   "LaTeX_envs_menu_present": true,
   "autoclose": false,
   "autocomplete": true,
   "bibliofile": "biblio.bib",
   "cite_by": "apalike",
   "current_citInitial": 1,
   "eqLabelWithNumbers": true,
   "eqNumInitial": 1,
   "hotkeys": {
    "equation": "Ctrl-E",
    "itemize": "Ctrl-I"
   },
   "labels_anchors": false,
   "latex_user_defs": false,
   "report_style_numbering": false,
   "user_envs_cfg": false
  },
  "nbTranslate": {
   "displayLangs": [
    "*"
   ],
   "hotkey": "alt-t",
   "langInMainMenu": true,
   "sourceLang": "en",
   "targetLang": "fr",
   "useGoogleTranslate": true
  },
  "toc": {
   "base_numbering": 1,
   "nav_menu": {},
   "number_sections": false,
   "sideBar": true,
   "skip_h1_title": false,
   "title_cell": "Table of Contents",
   "title_sidebar": "Contents",
   "toc_cell": false,
   "toc_position": {},
   "toc_section_display": true,
   "toc_window_display": false
  },
  "varInspector": {
   "cols": {
    "lenName": 16,
    "lenType": 16,
    "lenVar": 40
   },
   "kernels_config": {
    "python": {
     "delete_cmd_postfix": "",
     "delete_cmd_prefix": "del ",
     "library": "var_list.py",
     "varRefreshCmd": "print(var_dic_list())"
    },
    "r": {
     "delete_cmd_postfix": ") ",
     "delete_cmd_prefix": "rm(",
     "library": "var_list.r",
     "varRefreshCmd": "cat(var_dic_list()) "
    }
   },
   "types_to_exclude": [
    "module",
    "function",
    "builtin_function_or_method",
    "instance",
    "_Feature"
   ],
   "window_display": false
  }
 },
 "nbformat": 4,
 "nbformat_minor": 5
}
