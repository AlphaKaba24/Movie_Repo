{
 "cells": [
  {
   "cell_type": "code",
   "execution_count": 5,
   "id": "e8c305ae",
   "metadata": {
    "ExecuteTime": {
     "end_time": "2022-07-29T03:51:11.377275Z",
     "start_time": "2022-07-29T03:51:11.364875Z"
    }
   },
   "outputs": [],
   "source": [
    "import pandas as pd"
   ]
  },
  {
   "cell_type": "code",
   "execution_count": 6,
   "id": "6431c712",
   "metadata": {
    "ExecuteTime": {
     "end_time": "2022-07-29T03:51:12.055437Z",
     "start_time": "2022-07-29T03:51:12.042513Z"
    }
   },
   "outputs": [],
   "source": [
    "basics_url='https://datasets.imdbws.com/title.basics.tsv.gz'"
   ]
  },
  {
   "cell_type": "code",
   "execution_count": 7,
   "id": "d17bcf74",
   "metadata": {
    "ExecuteTime": {
     "end_time": "2022-07-29T03:51:12.856554Z",
     "start_time": "2022-07-29T03:51:12.845641Z"
    }
   },
   "outputs": [],
   "source": [
    "ratings_url='https://datasets.imdbws.com/title.ratings.tsv.gz'"
   ]
  },
  {
   "cell_type": "code",
   "execution_count": 8,
   "id": "561c33a3",
   "metadata": {
    "ExecuteTime": {
     "end_time": "2022-07-29T03:51:13.687653Z",
     "start_time": "2022-07-29T03:51:13.684685Z"
    }
   },
   "outputs": [],
   "source": [
    "akas_url='https://datasets.imdbws.com/title.akas.tsv.gz'"
   ]
  },
  {
   "cell_type": "code",
   "execution_count": 9,
   "id": "7c000d3d",
   "metadata": {
    "ExecuteTime": {
     "end_time": "2022-07-29T03:51:35.810183Z",
     "start_time": "2022-07-29T03:51:17.814043Z"
    }
   },
   "outputs": [
    {
     "name": "stderr",
     "output_type": "stream",
     "text": [
      "C:\\Users\\Alpha\\AppData\\Local\\Temp\\ipykernel_7404\\1344591589.py:1: DtypeWarning: Columns (4,5) have mixed types. Specify dtype option on import or set low_memory=False.\n",
      "  basics= pd.read_csv(basics_url, sep='\\t', low_memory='False')\n"
     ]
    }
   ],
   "source": [
    "basics= pd.read_csv(basics_url, sep='\\t', low_memory='False')"
   ]
  },
  {
   "cell_type": "code",
   "execution_count": 10,
   "id": "6b2dea24",
   "metadata": {
    "ExecuteTime": {
     "end_time": "2022-07-29T03:51:36.670043Z",
     "start_time": "2022-07-29T03:51:35.843384Z"
    }
   },
   "outputs": [],
   "source": [
    "ratings = pd.read_csv(ratings_url, sep='\\t', low_memory='False')"
   ]
  },
  {
   "cell_type": "code",
   "execution_count": 11,
   "id": "3e9121ef",
   "metadata": {
    "ExecuteTime": {
     "end_time": "2022-07-29T03:52:16.014088Z",
     "start_time": "2022-07-29T03:51:36.702412Z"
    }
   },
   "outputs": [
    {
     "name": "stderr",
     "output_type": "stream",
     "text": [
      "C:\\Users\\Alpha\\AppData\\Local\\Temp\\ipykernel_7404\\3527530519.py:1: DtypeWarning: Columns (7) have mixed types. Specify dtype option on import or set low_memory=False.\n",
      "  akas = pd.read_csv(akas_url, sep='\\t', low_memory='False')\n"
     ]
    }
   ],
   "source": [
    "akas = pd.read_csv(akas_url, sep='\\t', low_memory='False')"
   ]
  },
  {
   "cell_type": "code",
   "execution_count": 12,
   "id": "3b2f608d",
   "metadata": {
    "ExecuteTime": {
     "end_time": "2022-07-29T03:52:29.637394Z",
     "start_time": "2022-07-29T03:52:16.755116Z"
    }
   },
   "outputs": [],
   "source": [
    "basics = basics.replace({'\\\\N':np.nan})"
   ]
  },
  {
   "cell_type": "code",
   "execution_count": 13,
   "id": "46c7b0d5",
   "metadata": {
    "ExecuteTime": {
     "end_time": "2022-07-29T03:52:29.929528Z",
     "start_time": "2022-07-29T03:52:29.685032Z"
    }
   },
   "outputs": [],
   "source": [
    "ratings = ratings.replace({'\\\\N':np.nan})"
   ]
  },
  {
   "cell_type": "code",
   "execution_count": 14,
   "id": "140cf23c",
   "metadata": {
    "ExecuteTime": {
     "end_time": "2022-07-29T03:53:01.035548Z",
     "start_time": "2022-07-29T03:52:29.962441Z"
    }
   },
   "outputs": [],
   "source": [
    "akas = akas.replace({'\\\\N':np.nan})"
   ]
  },
  {
   "cell_type": "code",
   "execution_count": 15,
   "id": "1cd54794",
   "metadata": {
    "ExecuteTime": {
     "end_time": "2022-07-29T03:53:01.127803Z",
     "start_time": "2022-07-29T03:53:01.099532Z"
    }
   },
   "outputs": [
    {
     "data": {
      "text/html": [
       "<div>\n",
       "<style scoped>\n",
       "    .dataframe tbody tr th:only-of-type {\n",
       "        vertical-align: middle;\n",
       "    }\n",
       "\n",
       "    .dataframe tbody tr th {\n",
       "        vertical-align: top;\n",
       "    }\n",
       "\n",
       "    .dataframe thead th {\n",
       "        text-align: right;\n",
       "    }\n",
       "</style>\n",
       "<table border=\"1\" class=\"dataframe\">\n",
       "  <thead>\n",
       "    <tr style=\"text-align: right;\">\n",
       "      <th></th>\n",
       "      <th>tconst</th>\n",
       "      <th>titleType</th>\n",
       "      <th>primaryTitle</th>\n",
       "      <th>originalTitle</th>\n",
       "      <th>isAdult</th>\n",
       "      <th>startYear</th>\n",
       "      <th>endYear</th>\n",
       "      <th>runtimeMinutes</th>\n",
       "      <th>genres</th>\n",
       "    </tr>\n",
       "  </thead>\n",
       "  <tbody>\n",
       "    <tr>\n",
       "      <th>0</th>\n",
       "      <td>tt0000001</td>\n",
       "      <td>short</td>\n",
       "      <td>Carmencita</td>\n",
       "      <td>Carmencita</td>\n",
       "      <td>0</td>\n",
       "      <td>1894</td>\n",
       "      <td>NaN</td>\n",
       "      <td>1</td>\n",
       "      <td>Documentary,Short</td>\n",
       "    </tr>\n",
       "    <tr>\n",
       "      <th>1</th>\n",
       "      <td>tt0000002</td>\n",
       "      <td>short</td>\n",
       "      <td>Le clown et ses chiens</td>\n",
       "      <td>Le clown et ses chiens</td>\n",
       "      <td>0</td>\n",
       "      <td>1892</td>\n",
       "      <td>NaN</td>\n",
       "      <td>5</td>\n",
       "      <td>Animation,Short</td>\n",
       "    </tr>\n",
       "    <tr>\n",
       "      <th>2</th>\n",
       "      <td>tt0000003</td>\n",
       "      <td>short</td>\n",
       "      <td>Pauvre Pierrot</td>\n",
       "      <td>Pauvre Pierrot</td>\n",
       "      <td>0</td>\n",
       "      <td>1892</td>\n",
       "      <td>NaN</td>\n",
       "      <td>4</td>\n",
       "      <td>Animation,Comedy,Romance</td>\n",
       "    </tr>\n",
       "    <tr>\n",
       "      <th>3</th>\n",
       "      <td>tt0000004</td>\n",
       "      <td>short</td>\n",
       "      <td>Un bon bock</td>\n",
       "      <td>Un bon bock</td>\n",
       "      <td>0</td>\n",
       "      <td>1892</td>\n",
       "      <td>NaN</td>\n",
       "      <td>12</td>\n",
       "      <td>Animation,Short</td>\n",
       "    </tr>\n",
       "    <tr>\n",
       "      <th>4</th>\n",
       "      <td>tt0000005</td>\n",
       "      <td>short</td>\n",
       "      <td>Blacksmith Scene</td>\n",
       "      <td>Blacksmith Scene</td>\n",
       "      <td>0</td>\n",
       "      <td>1893</td>\n",
       "      <td>NaN</td>\n",
       "      <td>1</td>\n",
       "      <td>Comedy,Short</td>\n",
       "    </tr>\n",
       "    <tr>\n",
       "      <th>...</th>\n",
       "      <td>...</td>\n",
       "      <td>...</td>\n",
       "      <td>...</td>\n",
       "      <td>...</td>\n",
       "      <td>...</td>\n",
       "      <td>...</td>\n",
       "      <td>...</td>\n",
       "      <td>...</td>\n",
       "      <td>...</td>\n",
       "    </tr>\n",
       "    <tr>\n",
       "      <th>9099379</th>\n",
       "      <td>tt9916848</td>\n",
       "      <td>tvEpisode</td>\n",
       "      <td>Episode #3.17</td>\n",
       "      <td>Episode #3.17</td>\n",
       "      <td>0</td>\n",
       "      <td>2010</td>\n",
       "      <td>NaN</td>\n",
       "      <td>NaN</td>\n",
       "      <td>Action,Drama,Family</td>\n",
       "    </tr>\n",
       "    <tr>\n",
       "      <th>9099380</th>\n",
       "      <td>tt9916850</td>\n",
       "      <td>tvEpisode</td>\n",
       "      <td>Episode #3.19</td>\n",
       "      <td>Episode #3.19</td>\n",
       "      <td>0</td>\n",
       "      <td>2010</td>\n",
       "      <td>NaN</td>\n",
       "      <td>NaN</td>\n",
       "      <td>Action,Drama,Family</td>\n",
       "    </tr>\n",
       "    <tr>\n",
       "      <th>9099381</th>\n",
       "      <td>tt9916852</td>\n",
       "      <td>tvEpisode</td>\n",
       "      <td>Episode #3.20</td>\n",
       "      <td>Episode #3.20</td>\n",
       "      <td>0</td>\n",
       "      <td>2010</td>\n",
       "      <td>NaN</td>\n",
       "      <td>NaN</td>\n",
       "      <td>Action,Drama,Family</td>\n",
       "    </tr>\n",
       "    <tr>\n",
       "      <th>9099382</th>\n",
       "      <td>tt9916856</td>\n",
       "      <td>short</td>\n",
       "      <td>The Wind</td>\n",
       "      <td>The Wind</td>\n",
       "      <td>0</td>\n",
       "      <td>2015</td>\n",
       "      <td>NaN</td>\n",
       "      <td>27</td>\n",
       "      <td>Short</td>\n",
       "    </tr>\n",
       "    <tr>\n",
       "      <th>9099383</th>\n",
       "      <td>tt9916880</td>\n",
       "      <td>tvEpisode</td>\n",
       "      <td>Horrid Henry Knows It All</td>\n",
       "      <td>Horrid Henry Knows It All</td>\n",
       "      <td>0</td>\n",
       "      <td>2014</td>\n",
       "      <td>NaN</td>\n",
       "      <td>10</td>\n",
       "      <td>Adventure,Animation,Comedy</td>\n",
       "    </tr>\n",
       "  </tbody>\n",
       "</table>\n",
       "<p>9099384 rows × 9 columns</p>\n",
       "</div>"
      ],
      "text/plain": [
       "            tconst  titleType               primaryTitle  \\\n",
       "0        tt0000001      short                 Carmencita   \n",
       "1        tt0000002      short     Le clown et ses chiens   \n",
       "2        tt0000003      short             Pauvre Pierrot   \n",
       "3        tt0000004      short                Un bon bock   \n",
       "4        tt0000005      short           Blacksmith Scene   \n",
       "...            ...        ...                        ...   \n",
       "9099379  tt9916848  tvEpisode              Episode #3.17   \n",
       "9099380  tt9916850  tvEpisode              Episode #3.19   \n",
       "9099381  tt9916852  tvEpisode              Episode #3.20   \n",
       "9099382  tt9916856      short                   The Wind   \n",
       "9099383  tt9916880  tvEpisode  Horrid Henry Knows It All   \n",
       "\n",
       "                     originalTitle isAdult startYear endYear runtimeMinutes  \\\n",
       "0                       Carmencita       0      1894     NaN              1   \n",
       "1           Le clown et ses chiens       0      1892     NaN              5   \n",
       "2                   Pauvre Pierrot       0      1892     NaN              4   \n",
       "3                      Un bon bock       0      1892     NaN             12   \n",
       "4                 Blacksmith Scene       0      1893     NaN              1   \n",
       "...                            ...     ...       ...     ...            ...   \n",
       "9099379              Episode #3.17       0      2010     NaN            NaN   \n",
       "9099380              Episode #3.19       0      2010     NaN            NaN   \n",
       "9099381              Episode #3.20       0      2010     NaN            NaN   \n",
       "9099382                   The Wind       0      2015     NaN             27   \n",
       "9099383  Horrid Henry Knows It All       0      2014     NaN             10   \n",
       "\n",
       "                             genres  \n",
       "0                 Documentary,Short  \n",
       "1                   Animation,Short  \n",
       "2          Animation,Comedy,Romance  \n",
       "3                   Animation,Short  \n",
       "4                      Comedy,Short  \n",
       "...                             ...  \n",
       "9099379         Action,Drama,Family  \n",
       "9099380         Action,Drama,Family  \n",
       "9099381         Action,Drama,Family  \n",
       "9099382                       Short  \n",
       "9099383  Adventure,Animation,Comedy  \n",
       "\n",
       "[9099384 rows x 9 columns]"
      ]
     },
     "execution_count": 15,
     "metadata": {},
     "output_type": "execute_result"
    }
   ],
   "source": [
    "basics"
   ]
  },
  {
   "cell_type": "code",
   "execution_count": 16,
   "id": "a34f92bf",
   "metadata": {
    "ExecuteTime": {
     "end_time": "2022-07-29T03:53:16.164533Z",
     "start_time": "2022-07-29T03:53:13.893715Z"
    }
   },
   "outputs": [],
   "source": [
    "basics = basics[basics[\"runtimeMinutes\"].str.contains(\"NaN\")==False]\n",
    "\n"
   ]
  },
  {
   "cell_type": "code",
   "execution_count": 17,
   "id": "59ad3f5f",
   "metadata": {
    "ExecuteTime": {
     "end_time": "2022-07-29T03:53:17.117252Z",
     "start_time": "2022-07-29T03:53:17.104851Z"
    }
   },
   "outputs": [
    {
     "data": {
      "text/html": [
       "<div>\n",
       "<style scoped>\n",
       "    .dataframe tbody tr th:only-of-type {\n",
       "        vertical-align: middle;\n",
       "    }\n",
       "\n",
       "    .dataframe tbody tr th {\n",
       "        vertical-align: top;\n",
       "    }\n",
       "\n",
       "    .dataframe thead th {\n",
       "        text-align: right;\n",
       "    }\n",
       "</style>\n",
       "<table border=\"1\" class=\"dataframe\">\n",
       "  <thead>\n",
       "    <tr style=\"text-align: right;\">\n",
       "      <th></th>\n",
       "      <th>tconst</th>\n",
       "      <th>titleType</th>\n",
       "      <th>primaryTitle</th>\n",
       "      <th>originalTitle</th>\n",
       "      <th>isAdult</th>\n",
       "      <th>startYear</th>\n",
       "      <th>endYear</th>\n",
       "      <th>runtimeMinutes</th>\n",
       "      <th>genres</th>\n",
       "    </tr>\n",
       "  </thead>\n",
       "  <tbody>\n",
       "    <tr>\n",
       "      <th>0</th>\n",
       "      <td>tt0000001</td>\n",
       "      <td>short</td>\n",
       "      <td>Carmencita</td>\n",
       "      <td>Carmencita</td>\n",
       "      <td>0</td>\n",
       "      <td>1894</td>\n",
       "      <td>NaN</td>\n",
       "      <td>1</td>\n",
       "      <td>Documentary,Short</td>\n",
       "    </tr>\n",
       "    <tr>\n",
       "      <th>1</th>\n",
       "      <td>tt0000002</td>\n",
       "      <td>short</td>\n",
       "      <td>Le clown et ses chiens</td>\n",
       "      <td>Le clown et ses chiens</td>\n",
       "      <td>0</td>\n",
       "      <td>1892</td>\n",
       "      <td>NaN</td>\n",
       "      <td>5</td>\n",
       "      <td>Animation,Short</td>\n",
       "    </tr>\n",
       "    <tr>\n",
       "      <th>2</th>\n",
       "      <td>tt0000003</td>\n",
       "      <td>short</td>\n",
       "      <td>Pauvre Pierrot</td>\n",
       "      <td>Pauvre Pierrot</td>\n",
       "      <td>0</td>\n",
       "      <td>1892</td>\n",
       "      <td>NaN</td>\n",
       "      <td>4</td>\n",
       "      <td>Animation,Comedy,Romance</td>\n",
       "    </tr>\n",
       "    <tr>\n",
       "      <th>3</th>\n",
       "      <td>tt0000004</td>\n",
       "      <td>short</td>\n",
       "      <td>Un bon bock</td>\n",
       "      <td>Un bon bock</td>\n",
       "      <td>0</td>\n",
       "      <td>1892</td>\n",
       "      <td>NaN</td>\n",
       "      <td>12</td>\n",
       "      <td>Animation,Short</td>\n",
       "    </tr>\n",
       "    <tr>\n",
       "      <th>4</th>\n",
       "      <td>tt0000005</td>\n",
       "      <td>short</td>\n",
       "      <td>Blacksmith Scene</td>\n",
       "      <td>Blacksmith Scene</td>\n",
       "      <td>0</td>\n",
       "      <td>1893</td>\n",
       "      <td>NaN</td>\n",
       "      <td>1</td>\n",
       "      <td>Comedy,Short</td>\n",
       "    </tr>\n",
       "    <tr>\n",
       "      <th>...</th>\n",
       "      <td>...</td>\n",
       "      <td>...</td>\n",
       "      <td>...</td>\n",
       "      <td>...</td>\n",
       "      <td>...</td>\n",
       "      <td>...</td>\n",
       "      <td>...</td>\n",
       "      <td>...</td>\n",
       "      <td>...</td>\n",
       "    </tr>\n",
       "    <tr>\n",
       "      <th>9099334</th>\n",
       "      <td>tt9916754</td>\n",
       "      <td>movie</td>\n",
       "      <td>Chico Albuquerque - Revelações</td>\n",
       "      <td>Chico Albuquerque - Revelações</td>\n",
       "      <td>0</td>\n",
       "      <td>2013</td>\n",
       "      <td>NaN</td>\n",
       "      <td>49</td>\n",
       "      <td>Documentary</td>\n",
       "    </tr>\n",
       "    <tr>\n",
       "      <th>9099340</th>\n",
       "      <td>tt9916766</td>\n",
       "      <td>tvEpisode</td>\n",
       "      <td>Episode #10.15</td>\n",
       "      <td>Episode #10.15</td>\n",
       "      <td>0</td>\n",
       "      <td>2019</td>\n",
       "      <td>NaN</td>\n",
       "      <td>43</td>\n",
       "      <td>Family,Game-Show,Reality-TV</td>\n",
       "    </tr>\n",
       "    <tr>\n",
       "      <th>9099375</th>\n",
       "      <td>tt9916840</td>\n",
       "      <td>tvEpisode</td>\n",
       "      <td>Horrid Henry's Comic Caper</td>\n",
       "      <td>Horrid Henry's Comic Caper</td>\n",
       "      <td>0</td>\n",
       "      <td>2014</td>\n",
       "      <td>NaN</td>\n",
       "      <td>11</td>\n",
       "      <td>Adventure,Animation,Comedy</td>\n",
       "    </tr>\n",
       "    <tr>\n",
       "      <th>9099382</th>\n",
       "      <td>tt9916856</td>\n",
       "      <td>short</td>\n",
       "      <td>The Wind</td>\n",
       "      <td>The Wind</td>\n",
       "      <td>0</td>\n",
       "      <td>2015</td>\n",
       "      <td>NaN</td>\n",
       "      <td>27</td>\n",
       "      <td>Short</td>\n",
       "    </tr>\n",
       "    <tr>\n",
       "      <th>9099383</th>\n",
       "      <td>tt9916880</td>\n",
       "      <td>tvEpisode</td>\n",
       "      <td>Horrid Henry Knows It All</td>\n",
       "      <td>Horrid Henry Knows It All</td>\n",
       "      <td>0</td>\n",
       "      <td>2014</td>\n",
       "      <td>NaN</td>\n",
       "      <td>10</td>\n",
       "      <td>Adventure,Animation,Comedy</td>\n",
       "    </tr>\n",
       "  </tbody>\n",
       "</table>\n",
       "<p>2450793 rows × 9 columns</p>\n",
       "</div>"
      ],
      "text/plain": [
       "            tconst  titleType                    primaryTitle  \\\n",
       "0        tt0000001      short                      Carmencita   \n",
       "1        tt0000002      short          Le clown et ses chiens   \n",
       "2        tt0000003      short                  Pauvre Pierrot   \n",
       "3        tt0000004      short                     Un bon bock   \n",
       "4        tt0000005      short                Blacksmith Scene   \n",
       "...            ...        ...                             ...   \n",
       "9099334  tt9916754      movie  Chico Albuquerque - Revelações   \n",
       "9099340  tt9916766  tvEpisode                  Episode #10.15   \n",
       "9099375  tt9916840  tvEpisode      Horrid Henry's Comic Caper   \n",
       "9099382  tt9916856      short                        The Wind   \n",
       "9099383  tt9916880  tvEpisode       Horrid Henry Knows It All   \n",
       "\n",
       "                          originalTitle isAdult startYear endYear  \\\n",
       "0                            Carmencita       0      1894     NaN   \n",
       "1                Le clown et ses chiens       0      1892     NaN   \n",
       "2                        Pauvre Pierrot       0      1892     NaN   \n",
       "3                           Un bon bock       0      1892     NaN   \n",
       "4                      Blacksmith Scene       0      1893     NaN   \n",
       "...                                 ...     ...       ...     ...   \n",
       "9099334  Chico Albuquerque - Revelações       0      2013     NaN   \n",
       "9099340                  Episode #10.15       0      2019     NaN   \n",
       "9099375      Horrid Henry's Comic Caper       0      2014     NaN   \n",
       "9099382                        The Wind       0      2015     NaN   \n",
       "9099383       Horrid Henry Knows It All       0      2014     NaN   \n",
       "\n",
       "        runtimeMinutes                       genres  \n",
       "0                    1            Documentary,Short  \n",
       "1                    5              Animation,Short  \n",
       "2                    4     Animation,Comedy,Romance  \n",
       "3                   12              Animation,Short  \n",
       "4                    1                 Comedy,Short  \n",
       "...                ...                          ...  \n",
       "9099334             49                  Documentary  \n",
       "9099340             43  Family,Game-Show,Reality-TV  \n",
       "9099375             11   Adventure,Animation,Comedy  \n",
       "9099382             27                        Short  \n",
       "9099383             10   Adventure,Animation,Comedy  \n",
       "\n",
       "[2450793 rows x 9 columns]"
      ]
     },
     "execution_count": 17,
     "metadata": {},
     "output_type": "execute_result"
    }
   ],
   "source": [
    "basics"
   ]
  },
  {
   "cell_type": "code",
   "execution_count": 18,
   "id": "33f9791b",
   "metadata": {
    "ExecuteTime": {
     "end_time": "2022-07-29T03:53:22.009297Z",
     "start_time": "2022-07-29T03:53:20.923727Z"
    }
   },
   "outputs": [],
   "source": [
    "basics = basics[basics[\"genres\"].str.contains(\"NaN\")==False]"
   ]
  },
  {
   "cell_type": "code",
   "execution_count": 19,
   "id": "a5691c4a",
   "metadata": {
    "ExecuteTime": {
     "end_time": "2022-07-29T03:53:22.055508Z",
     "start_time": "2022-07-29T03:53:22.041921Z"
    }
   },
   "outputs": [
    {
     "data": {
      "text/html": [
       "<div>\n",
       "<style scoped>\n",
       "    .dataframe tbody tr th:only-of-type {\n",
       "        vertical-align: middle;\n",
       "    }\n",
       "\n",
       "    .dataframe tbody tr th {\n",
       "        vertical-align: top;\n",
       "    }\n",
       "\n",
       "    .dataframe thead th {\n",
       "        text-align: right;\n",
       "    }\n",
       "</style>\n",
       "<table border=\"1\" class=\"dataframe\">\n",
       "  <thead>\n",
       "    <tr style=\"text-align: right;\">\n",
       "      <th></th>\n",
       "      <th>tconst</th>\n",
       "      <th>titleType</th>\n",
       "      <th>primaryTitle</th>\n",
       "      <th>originalTitle</th>\n",
       "      <th>isAdult</th>\n",
       "      <th>startYear</th>\n",
       "      <th>endYear</th>\n",
       "      <th>runtimeMinutes</th>\n",
       "      <th>genres</th>\n",
       "    </tr>\n",
       "  </thead>\n",
       "  <tbody>\n",
       "    <tr>\n",
       "      <th>0</th>\n",
       "      <td>tt0000001</td>\n",
       "      <td>short</td>\n",
       "      <td>Carmencita</td>\n",
       "      <td>Carmencita</td>\n",
       "      <td>0</td>\n",
       "      <td>1894</td>\n",
       "      <td>NaN</td>\n",
       "      <td>1</td>\n",
       "      <td>Documentary,Short</td>\n",
       "    </tr>\n",
       "    <tr>\n",
       "      <th>1</th>\n",
       "      <td>tt0000002</td>\n",
       "      <td>short</td>\n",
       "      <td>Le clown et ses chiens</td>\n",
       "      <td>Le clown et ses chiens</td>\n",
       "      <td>0</td>\n",
       "      <td>1892</td>\n",
       "      <td>NaN</td>\n",
       "      <td>5</td>\n",
       "      <td>Animation,Short</td>\n",
       "    </tr>\n",
       "    <tr>\n",
       "      <th>2</th>\n",
       "      <td>tt0000003</td>\n",
       "      <td>short</td>\n",
       "      <td>Pauvre Pierrot</td>\n",
       "      <td>Pauvre Pierrot</td>\n",
       "      <td>0</td>\n",
       "      <td>1892</td>\n",
       "      <td>NaN</td>\n",
       "      <td>4</td>\n",
       "      <td>Animation,Comedy,Romance</td>\n",
       "    </tr>\n",
       "    <tr>\n",
       "      <th>3</th>\n",
       "      <td>tt0000004</td>\n",
       "      <td>short</td>\n",
       "      <td>Un bon bock</td>\n",
       "      <td>Un bon bock</td>\n",
       "      <td>0</td>\n",
       "      <td>1892</td>\n",
       "      <td>NaN</td>\n",
       "      <td>12</td>\n",
       "      <td>Animation,Short</td>\n",
       "    </tr>\n",
       "    <tr>\n",
       "      <th>4</th>\n",
       "      <td>tt0000005</td>\n",
       "      <td>short</td>\n",
       "      <td>Blacksmith Scene</td>\n",
       "      <td>Blacksmith Scene</td>\n",
       "      <td>0</td>\n",
       "      <td>1893</td>\n",
       "      <td>NaN</td>\n",
       "      <td>1</td>\n",
       "      <td>Comedy,Short</td>\n",
       "    </tr>\n",
       "    <tr>\n",
       "      <th>...</th>\n",
       "      <td>...</td>\n",
       "      <td>...</td>\n",
       "      <td>...</td>\n",
       "      <td>...</td>\n",
       "      <td>...</td>\n",
       "      <td>...</td>\n",
       "      <td>...</td>\n",
       "      <td>...</td>\n",
       "      <td>...</td>\n",
       "    </tr>\n",
       "    <tr>\n",
       "      <th>9099334</th>\n",
       "      <td>tt9916754</td>\n",
       "      <td>movie</td>\n",
       "      <td>Chico Albuquerque - Revelações</td>\n",
       "      <td>Chico Albuquerque - Revelações</td>\n",
       "      <td>0</td>\n",
       "      <td>2013</td>\n",
       "      <td>NaN</td>\n",
       "      <td>49</td>\n",
       "      <td>Documentary</td>\n",
       "    </tr>\n",
       "    <tr>\n",
       "      <th>9099340</th>\n",
       "      <td>tt9916766</td>\n",
       "      <td>tvEpisode</td>\n",
       "      <td>Episode #10.15</td>\n",
       "      <td>Episode #10.15</td>\n",
       "      <td>0</td>\n",
       "      <td>2019</td>\n",
       "      <td>NaN</td>\n",
       "      <td>43</td>\n",
       "      <td>Family,Game-Show,Reality-TV</td>\n",
       "    </tr>\n",
       "    <tr>\n",
       "      <th>9099375</th>\n",
       "      <td>tt9916840</td>\n",
       "      <td>tvEpisode</td>\n",
       "      <td>Horrid Henry's Comic Caper</td>\n",
       "      <td>Horrid Henry's Comic Caper</td>\n",
       "      <td>0</td>\n",
       "      <td>2014</td>\n",
       "      <td>NaN</td>\n",
       "      <td>11</td>\n",
       "      <td>Adventure,Animation,Comedy</td>\n",
       "    </tr>\n",
       "    <tr>\n",
       "      <th>9099382</th>\n",
       "      <td>tt9916856</td>\n",
       "      <td>short</td>\n",
       "      <td>The Wind</td>\n",
       "      <td>The Wind</td>\n",
       "      <td>0</td>\n",
       "      <td>2015</td>\n",
       "      <td>NaN</td>\n",
       "      <td>27</td>\n",
       "      <td>Short</td>\n",
       "    </tr>\n",
       "    <tr>\n",
       "      <th>9099383</th>\n",
       "      <td>tt9916880</td>\n",
       "      <td>tvEpisode</td>\n",
       "      <td>Horrid Henry Knows It All</td>\n",
       "      <td>Horrid Henry Knows It All</td>\n",
       "      <td>0</td>\n",
       "      <td>2014</td>\n",
       "      <td>NaN</td>\n",
       "      <td>10</td>\n",
       "      <td>Adventure,Animation,Comedy</td>\n",
       "    </tr>\n",
       "  </tbody>\n",
       "</table>\n",
       "<p>2383565 rows × 9 columns</p>\n",
       "</div>"
      ],
      "text/plain": [
       "            tconst  titleType                    primaryTitle  \\\n",
       "0        tt0000001      short                      Carmencita   \n",
       "1        tt0000002      short          Le clown et ses chiens   \n",
       "2        tt0000003      short                  Pauvre Pierrot   \n",
       "3        tt0000004      short                     Un bon bock   \n",
       "4        tt0000005      short                Blacksmith Scene   \n",
       "...            ...        ...                             ...   \n",
       "9099334  tt9916754      movie  Chico Albuquerque - Revelações   \n",
       "9099340  tt9916766  tvEpisode                  Episode #10.15   \n",
       "9099375  tt9916840  tvEpisode      Horrid Henry's Comic Caper   \n",
       "9099382  tt9916856      short                        The Wind   \n",
       "9099383  tt9916880  tvEpisode       Horrid Henry Knows It All   \n",
       "\n",
       "                          originalTitle isAdult startYear endYear  \\\n",
       "0                            Carmencita       0      1894     NaN   \n",
       "1                Le clown et ses chiens       0      1892     NaN   \n",
       "2                        Pauvre Pierrot       0      1892     NaN   \n",
       "3                           Un bon bock       0      1892     NaN   \n",
       "4                      Blacksmith Scene       0      1893     NaN   \n",
       "...                                 ...     ...       ...     ...   \n",
       "9099334  Chico Albuquerque - Revelações       0      2013     NaN   \n",
       "9099340                  Episode #10.15       0      2019     NaN   \n",
       "9099375      Horrid Henry's Comic Caper       0      2014     NaN   \n",
       "9099382                        The Wind       0      2015     NaN   \n",
       "9099383       Horrid Henry Knows It All       0      2014     NaN   \n",
       "\n",
       "        runtimeMinutes                       genres  \n",
       "0                    1            Documentary,Short  \n",
       "1                    5              Animation,Short  \n",
       "2                    4     Animation,Comedy,Romance  \n",
       "3                   12              Animation,Short  \n",
       "4                    1                 Comedy,Short  \n",
       "...                ...                          ...  \n",
       "9099334             49                  Documentary  \n",
       "9099340             43  Family,Game-Show,Reality-TV  \n",
       "9099375             11   Adventure,Animation,Comedy  \n",
       "9099382             27                        Short  \n",
       "9099383             10   Adventure,Animation,Comedy  \n",
       "\n",
       "[2383565 rows x 9 columns]"
      ]
     },
     "execution_count": 19,
     "metadata": {},
     "output_type": "execute_result"
    }
   ],
   "source": [
    "basics"
   ]
  },
  {
   "cell_type": "code",
   "execution_count": 20,
   "id": "9d9bc085",
   "metadata": {
    "ExecuteTime": {
     "end_time": "2022-07-29T03:53:25.685647Z",
     "start_time": "2022-07-29T03:53:25.554195Z"
    }
   },
   "outputs": [
    {
     "data": {
      "text/plain": [
       "tvEpisode       1057000\n",
       "short            571161\n",
       "movie            365046\n",
       "video            174308\n",
       "tvMovie           88023\n",
       "tvSeries          86112\n",
       "tvSpecial         16344\n",
       "tvMiniSeries      15918\n",
       "tvShort            9360\n",
       "videoGame           293\n",
       "Name: titleType, dtype: int64"
      ]
     },
     "execution_count": 20,
     "metadata": {},
     "output_type": "execute_result"
    }
   ],
   "source": [
    "basics['titleType'].value_counts()"
   ]
  },
  {
   "cell_type": "code",
   "execution_count": 21,
   "id": "66a094c9",
   "metadata": {
    "ExecuteTime": {
     "end_time": "2022-07-29T03:53:27.530594Z",
     "start_time": "2022-07-29T03:53:26.546575Z"
    }
   },
   "outputs": [],
   "source": [
    "basics = basics[basics[\"titleType\"].str.contains(\"tvEpisode\")==False]"
   ]
  },
  {
   "cell_type": "code",
   "execution_count": 22,
   "id": "d5c2fa51",
   "metadata": {
    "ExecuteTime": {
     "end_time": "2022-07-29T03:53:28.099970Z",
     "start_time": "2022-07-29T03:53:27.563997Z"
    }
   },
   "outputs": [],
   "source": [
    "basics = basics[basics[\"titleType\"].str.contains(\"short\")==False]"
   ]
  },
  {
   "cell_type": "code",
   "execution_count": 23,
   "id": "eba79414",
   "metadata": {
    "ExecuteTime": {
     "end_time": "2022-07-29T03:53:29.161904Z",
     "start_time": "2022-07-29T03:53:28.838195Z"
    }
   },
   "outputs": [],
   "source": [
    "basics = basics[basics[\"titleType\"].str.contains(\"video\")==False]"
   ]
  },
  {
   "cell_type": "code",
   "execution_count": 24,
   "id": "387f1d1a",
   "metadata": {
    "ExecuteTime": {
     "end_time": "2022-07-29T03:53:30.067520Z",
     "start_time": "2022-07-29T03:53:29.809691Z"
    }
   },
   "outputs": [],
   "source": [
    "basics = basics[basics[\"titleType\"].str.contains(\"tvMovie\")==False]"
   ]
  },
  {
   "cell_type": "code",
   "execution_count": 25,
   "id": "36a1fba8",
   "metadata": {
    "ExecuteTime": {
     "end_time": "2022-07-29T03:53:31.174010Z",
     "start_time": "2022-07-29T03:53:30.963090Z"
    }
   },
   "outputs": [],
   "source": [
    "basics = basics[basics[\"titleType\"].str.contains(\"tvSeries\")==False]"
   ]
  },
  {
   "cell_type": "code",
   "execution_count": 26,
   "id": "f61df3be",
   "metadata": {
    "ExecuteTime": {
     "end_time": "2022-07-29T03:53:31.928594Z",
     "start_time": "2022-07-29T03:53:31.732957Z"
    }
   },
   "outputs": [],
   "source": [
    "basics = basics[basics[\"titleType\"].str.contains(\"tvMiniSeries\")==False]"
   ]
  },
  {
   "cell_type": "code",
   "execution_count": 27,
   "id": "fd4082eb",
   "metadata": {
    "ExecuteTime": {
     "end_time": "2022-07-29T03:53:33.747468Z",
     "start_time": "2022-07-29T03:53:33.572210Z"
    }
   },
   "outputs": [],
   "source": [
    "basics = basics[basics[\"titleType\"].str.contains(\"tvShort\")==False]"
   ]
  },
  {
   "cell_type": "code",
   "execution_count": 28,
   "id": "5ab4af9f",
   "metadata": {
    "ExecuteTime": {
     "end_time": "2022-07-29T03:53:34.608962Z",
     "start_time": "2022-07-29T03:53:34.442961Z"
    }
   },
   "outputs": [],
   "source": [
    "basics = basics[basics[\"titleType\"].str.contains(\"videoGame\")==False]"
   ]
  },
  {
   "cell_type": "code",
   "execution_count": 29,
   "id": "64895beb",
   "metadata": {
    "ExecuteTime": {
     "end_time": "2022-07-29T03:53:36.792301Z",
     "start_time": "2022-07-29T03:53:36.775406Z"
    }
   },
   "outputs": [
    {
     "data": {
      "text/html": [
       "<div>\n",
       "<style scoped>\n",
       "    .dataframe tbody tr th:only-of-type {\n",
       "        vertical-align: middle;\n",
       "    }\n",
       "\n",
       "    .dataframe tbody tr th {\n",
       "        vertical-align: top;\n",
       "    }\n",
       "\n",
       "    .dataframe thead th {\n",
       "        text-align: right;\n",
       "    }\n",
       "</style>\n",
       "<table border=\"1\" class=\"dataframe\">\n",
       "  <thead>\n",
       "    <tr style=\"text-align: right;\">\n",
       "      <th></th>\n",
       "      <th>tconst</th>\n",
       "      <th>titleType</th>\n",
       "      <th>primaryTitle</th>\n",
       "      <th>originalTitle</th>\n",
       "      <th>isAdult</th>\n",
       "      <th>startYear</th>\n",
       "      <th>endYear</th>\n",
       "      <th>runtimeMinutes</th>\n",
       "      <th>genres</th>\n",
       "    </tr>\n",
       "  </thead>\n",
       "  <tbody>\n",
       "    <tr>\n",
       "      <th>8</th>\n",
       "      <td>tt0000009</td>\n",
       "      <td>movie</td>\n",
       "      <td>Miss Jerry</td>\n",
       "      <td>Miss Jerry</td>\n",
       "      <td>0</td>\n",
       "      <td>1894</td>\n",
       "      <td>NaN</td>\n",
       "      <td>45</td>\n",
       "      <td>Romance</td>\n",
       "    </tr>\n",
       "    <tr>\n",
       "      <th>570</th>\n",
       "      <td>tt0000574</td>\n",
       "      <td>movie</td>\n",
       "      <td>The Story of the Kelly Gang</td>\n",
       "      <td>The Story of the Kelly Gang</td>\n",
       "      <td>0</td>\n",
       "      <td>1906</td>\n",
       "      <td>NaN</td>\n",
       "      <td>70</td>\n",
       "      <td>Action,Adventure,Biography</td>\n",
       "    </tr>\n",
       "    <tr>\n",
       "      <th>587</th>\n",
       "      <td>tt0000591</td>\n",
       "      <td>movie</td>\n",
       "      <td>The Prodigal Son</td>\n",
       "      <td>L'enfant prodigue</td>\n",
       "      <td>0</td>\n",
       "      <td>1907</td>\n",
       "      <td>NaN</td>\n",
       "      <td>90</td>\n",
       "      <td>Drama</td>\n",
       "    </tr>\n",
       "    <tr>\n",
       "      <th>672</th>\n",
       "      <td>tt0000679</td>\n",
       "      <td>movie</td>\n",
       "      <td>The Fairylogue and Radio-Plays</td>\n",
       "      <td>The Fairylogue and Radio-Plays</td>\n",
       "      <td>0</td>\n",
       "      <td>1908</td>\n",
       "      <td>NaN</td>\n",
       "      <td>120</td>\n",
       "      <td>Adventure,Fantasy</td>\n",
       "    </tr>\n",
       "    <tr>\n",
       "      <th>1172</th>\n",
       "      <td>tt0001184</td>\n",
       "      <td>movie</td>\n",
       "      <td>Don Juan de Serrallonga</td>\n",
       "      <td>Don Juan de Serrallonga</td>\n",
       "      <td>0</td>\n",
       "      <td>1910</td>\n",
       "      <td>NaN</td>\n",
       "      <td>58</td>\n",
       "      <td>Adventure,Drama</td>\n",
       "    </tr>\n",
       "    <tr>\n",
       "      <th>...</th>\n",
       "      <td>...</td>\n",
       "      <td>...</td>\n",
       "      <td>...</td>\n",
       "      <td>...</td>\n",
       "      <td>...</td>\n",
       "      <td>...</td>\n",
       "      <td>...</td>\n",
       "      <td>...</td>\n",
       "      <td>...</td>\n",
       "    </tr>\n",
       "    <tr>\n",
       "      <th>9099149</th>\n",
       "      <td>tt9916362</td>\n",
       "      <td>movie</td>\n",
       "      <td>Coven</td>\n",
       "      <td>Akelarre</td>\n",
       "      <td>0</td>\n",
       "      <td>2020</td>\n",
       "      <td>NaN</td>\n",
       "      <td>92</td>\n",
       "      <td>Drama,History</td>\n",
       "    </tr>\n",
       "    <tr>\n",
       "      <th>9099233</th>\n",
       "      <td>tt9916538</td>\n",
       "      <td>movie</td>\n",
       "      <td>Kuambil Lagi Hatiku</td>\n",
       "      <td>Kuambil Lagi Hatiku</td>\n",
       "      <td>0</td>\n",
       "      <td>2019</td>\n",
       "      <td>NaN</td>\n",
       "      <td>123</td>\n",
       "      <td>Drama</td>\n",
       "    </tr>\n",
       "    <tr>\n",
       "      <th>9099274</th>\n",
       "      <td>tt9916622</td>\n",
       "      <td>movie</td>\n",
       "      <td>Rodolpho Teóphilo - O Legado de um Pioneiro</td>\n",
       "      <td>Rodolpho Teóphilo - O Legado de um Pioneiro</td>\n",
       "      <td>0</td>\n",
       "      <td>2015</td>\n",
       "      <td>NaN</td>\n",
       "      <td>57</td>\n",
       "      <td>Documentary</td>\n",
       "    </tr>\n",
       "    <tr>\n",
       "      <th>9099301</th>\n",
       "      <td>tt9916680</td>\n",
       "      <td>movie</td>\n",
       "      <td>De la ilusión al desconcierto: cine colombiano...</td>\n",
       "      <td>De la ilusión al desconcierto: cine colombiano...</td>\n",
       "      <td>0</td>\n",
       "      <td>2007</td>\n",
       "      <td>NaN</td>\n",
       "      <td>100</td>\n",
       "      <td>Documentary</td>\n",
       "    </tr>\n",
       "    <tr>\n",
       "      <th>9099334</th>\n",
       "      <td>tt9916754</td>\n",
       "      <td>movie</td>\n",
       "      <td>Chico Albuquerque - Revelações</td>\n",
       "      <td>Chico Albuquerque - Revelações</td>\n",
       "      <td>0</td>\n",
       "      <td>2013</td>\n",
       "      <td>NaN</td>\n",
       "      <td>49</td>\n",
       "      <td>Documentary</td>\n",
       "    </tr>\n",
       "  </tbody>\n",
       "</table>\n",
       "<p>381390 rows × 9 columns</p>\n",
       "</div>"
      ],
      "text/plain": [
       "            tconst titleType  \\\n",
       "8        tt0000009     movie   \n",
       "570      tt0000574     movie   \n",
       "587      tt0000591     movie   \n",
       "672      tt0000679     movie   \n",
       "1172     tt0001184     movie   \n",
       "...            ...       ...   \n",
       "9099149  tt9916362     movie   \n",
       "9099233  tt9916538     movie   \n",
       "9099274  tt9916622     movie   \n",
       "9099301  tt9916680     movie   \n",
       "9099334  tt9916754     movie   \n",
       "\n",
       "                                              primaryTitle  \\\n",
       "8                                               Miss Jerry   \n",
       "570                            The Story of the Kelly Gang   \n",
       "587                                       The Prodigal Son   \n",
       "672                         The Fairylogue and Radio-Plays   \n",
       "1172                               Don Juan de Serrallonga   \n",
       "...                                                    ...   \n",
       "9099149                                              Coven   \n",
       "9099233                                Kuambil Lagi Hatiku   \n",
       "9099274        Rodolpho Teóphilo - O Legado de um Pioneiro   \n",
       "9099301  De la ilusión al desconcierto: cine colombiano...   \n",
       "9099334                     Chico Albuquerque - Revelações   \n",
       "\n",
       "                                             originalTitle isAdult startYear  \\\n",
       "8                                               Miss Jerry       0      1894   \n",
       "570                            The Story of the Kelly Gang       0      1906   \n",
       "587                                      L'enfant prodigue       0      1907   \n",
       "672                         The Fairylogue and Radio-Plays       0      1908   \n",
       "1172                               Don Juan de Serrallonga       0      1910   \n",
       "...                                                    ...     ...       ...   \n",
       "9099149                                           Akelarre       0      2020   \n",
       "9099233                                Kuambil Lagi Hatiku       0      2019   \n",
       "9099274        Rodolpho Teóphilo - O Legado de um Pioneiro       0      2015   \n",
       "9099301  De la ilusión al desconcierto: cine colombiano...       0      2007   \n",
       "9099334                     Chico Albuquerque - Revelações       0      2013   \n",
       "\n",
       "        endYear runtimeMinutes                      genres  \n",
       "8           NaN             45                     Romance  \n",
       "570         NaN             70  Action,Adventure,Biography  \n",
       "587         NaN             90                       Drama  \n",
       "672         NaN            120           Adventure,Fantasy  \n",
       "1172        NaN             58             Adventure,Drama  \n",
       "...         ...            ...                         ...  \n",
       "9099149     NaN             92               Drama,History  \n",
       "9099233     NaN            123                       Drama  \n",
       "9099274     NaN             57                 Documentary  \n",
       "9099301     NaN            100                 Documentary  \n",
       "9099334     NaN             49                 Documentary  \n",
       "\n",
       "[381390 rows x 9 columns]"
      ]
     },
     "execution_count": 29,
     "metadata": {},
     "output_type": "execute_result"
    }
   ],
   "source": [
    "basics"
   ]
  },
  {
   "cell_type": "code",
   "execution_count": 30,
   "id": "9f196818",
   "metadata": {
    "ExecuteTime": {
     "end_time": "2022-07-29T03:53:39.884792Z",
     "start_time": "2022-07-29T03:53:39.858831Z"
    }
   },
   "outputs": [
    {
     "data": {
      "text/plain": [
       "2017    14799\n",
       "2018    14744\n",
       "2019    14476\n",
       "2016    14377\n",
       "2015    13875\n",
       "        ...  \n",
       "1909        1\n",
       "1910        1\n",
       "1908        1\n",
       "1907        1\n",
       "1908        1\n",
       "Name: startYear, Length: 212, dtype: int64"
      ]
     },
     "execution_count": 30,
     "metadata": {},
     "output_type": "execute_result"
    }
   ],
   "source": [
    "basics['startYear'].value_counts()"
   ]
  },
  {
   "cell_type": "code",
   "execution_count": 31,
   "id": "d833f1c5",
   "metadata": {
    "ExecuteTime": {
     "end_time": "2022-07-29T03:53:42.988926Z",
     "start_time": "2022-07-29T03:53:42.814454Z"
    }
   },
   "outputs": [],
   "source": [
    "basics = basics[basics[\"genres\"].str.contains(\"NaN\")==False]"
   ]
  },
  {
   "cell_type": "code",
   "execution_count": 32,
   "id": "492975f8",
   "metadata": {
    "ExecuteTime": {
     "end_time": "2022-07-29T03:53:46.418201Z",
     "start_time": "2022-07-29T03:53:44.574844Z"
    }
   },
   "outputs": [
    {
     "ename": "ValueError",
     "evalue": "cannot convert float NaN to integer",
     "output_type": "error",
     "traceback": [
      "\u001b[1;31m---------------------------------------------------------------------------\u001b[0m",
      "\u001b[1;31mValueError\u001b[0m                                Traceback (most recent call last)",
      "Input \u001b[1;32mIn [32]\u001b[0m, in \u001b[0;36m<cell line: 1>\u001b[1;34m()\u001b[0m\n\u001b[1;32m----> 1\u001b[0m basics \u001b[38;5;241m=\u001b[39m \u001b[43mbasics\u001b[49m\u001b[43m[\u001b[49m\u001b[38;5;124;43m'\u001b[39;49m\u001b[38;5;124;43mstartYear\u001b[39;49m\u001b[38;5;124;43m'\u001b[39;49m\u001b[43m]\u001b[49m\u001b[38;5;241;43m.\u001b[39;49m\u001b[43mastype\u001b[49m\u001b[43m(\u001b[49m\u001b[38;5;28;43mint\u001b[39;49m\u001b[43m)\u001b[49m\n",
      "File \u001b[1;32m~\\anaconda3\\envs\\dojo-env\\lib\\site-packages\\pandas\\core\\generic.py:5912\u001b[0m, in \u001b[0;36mNDFrame.astype\u001b[1;34m(self, dtype, copy, errors)\u001b[0m\n\u001b[0;32m   5905\u001b[0m     results \u001b[38;5;241m=\u001b[39m [\n\u001b[0;32m   5906\u001b[0m         \u001b[38;5;28mself\u001b[39m\u001b[38;5;241m.\u001b[39miloc[:, i]\u001b[38;5;241m.\u001b[39mastype(dtype, copy\u001b[38;5;241m=\u001b[39mcopy)\n\u001b[0;32m   5907\u001b[0m         \u001b[38;5;28;01mfor\u001b[39;00m i \u001b[38;5;129;01min\u001b[39;00m \u001b[38;5;28mrange\u001b[39m(\u001b[38;5;28mlen\u001b[39m(\u001b[38;5;28mself\u001b[39m\u001b[38;5;241m.\u001b[39mcolumns))\n\u001b[0;32m   5908\u001b[0m     ]\n\u001b[0;32m   5910\u001b[0m \u001b[38;5;28;01melse\u001b[39;00m:\n\u001b[0;32m   5911\u001b[0m     \u001b[38;5;66;03m# else, only a single dtype is given\u001b[39;00m\n\u001b[1;32m-> 5912\u001b[0m     new_data \u001b[38;5;241m=\u001b[39m \u001b[38;5;28;43mself\u001b[39;49m\u001b[38;5;241;43m.\u001b[39;49m\u001b[43m_mgr\u001b[49m\u001b[38;5;241;43m.\u001b[39;49m\u001b[43mastype\u001b[49m\u001b[43m(\u001b[49m\u001b[43mdtype\u001b[49m\u001b[38;5;241;43m=\u001b[39;49m\u001b[43mdtype\u001b[49m\u001b[43m,\u001b[49m\u001b[43m \u001b[49m\u001b[43mcopy\u001b[49m\u001b[38;5;241;43m=\u001b[39;49m\u001b[43mcopy\u001b[49m\u001b[43m,\u001b[49m\u001b[43m \u001b[49m\u001b[43merrors\u001b[49m\u001b[38;5;241;43m=\u001b[39;49m\u001b[43merrors\u001b[49m\u001b[43m)\u001b[49m\n\u001b[0;32m   5913\u001b[0m     \u001b[38;5;28;01mreturn\u001b[39;00m \u001b[38;5;28mself\u001b[39m\u001b[38;5;241m.\u001b[39m_constructor(new_data)\u001b[38;5;241m.\u001b[39m__finalize__(\u001b[38;5;28mself\u001b[39m, method\u001b[38;5;241m=\u001b[39m\u001b[38;5;124m\"\u001b[39m\u001b[38;5;124mastype\u001b[39m\u001b[38;5;124m\"\u001b[39m)\n\u001b[0;32m   5915\u001b[0m \u001b[38;5;66;03m# GH 33113: handle empty frame or series\u001b[39;00m\n",
      "File \u001b[1;32m~\\anaconda3\\envs\\dojo-env\\lib\\site-packages\\pandas\\core\\internals\\managers.py:419\u001b[0m, in \u001b[0;36mBaseBlockManager.astype\u001b[1;34m(self, dtype, copy, errors)\u001b[0m\n\u001b[0;32m    418\u001b[0m \u001b[38;5;28;01mdef\u001b[39;00m \u001b[38;5;21mastype\u001b[39m(\u001b[38;5;28mself\u001b[39m: T, dtype, copy: \u001b[38;5;28mbool\u001b[39m \u001b[38;5;241m=\u001b[39m \u001b[38;5;28;01mFalse\u001b[39;00m, errors: \u001b[38;5;28mstr\u001b[39m \u001b[38;5;241m=\u001b[39m \u001b[38;5;124m\"\u001b[39m\u001b[38;5;124mraise\u001b[39m\u001b[38;5;124m\"\u001b[39m) \u001b[38;5;241m-\u001b[39m\u001b[38;5;241m>\u001b[39m T:\n\u001b[1;32m--> 419\u001b[0m     \u001b[38;5;28;01mreturn\u001b[39;00m \u001b[38;5;28;43mself\u001b[39;49m\u001b[38;5;241;43m.\u001b[39;49m\u001b[43mapply\u001b[49m\u001b[43m(\u001b[49m\u001b[38;5;124;43m\"\u001b[39;49m\u001b[38;5;124;43mastype\u001b[39;49m\u001b[38;5;124;43m\"\u001b[39;49m\u001b[43m,\u001b[49m\u001b[43m \u001b[49m\u001b[43mdtype\u001b[49m\u001b[38;5;241;43m=\u001b[39;49m\u001b[43mdtype\u001b[49m\u001b[43m,\u001b[49m\u001b[43m \u001b[49m\u001b[43mcopy\u001b[49m\u001b[38;5;241;43m=\u001b[39;49m\u001b[43mcopy\u001b[49m\u001b[43m,\u001b[49m\u001b[43m \u001b[49m\u001b[43merrors\u001b[49m\u001b[38;5;241;43m=\u001b[39;49m\u001b[43merrors\u001b[49m\u001b[43m)\u001b[49m\n",
      "File \u001b[1;32m~\\anaconda3\\envs\\dojo-env\\lib\\site-packages\\pandas\\core\\internals\\managers.py:304\u001b[0m, in \u001b[0;36mBaseBlockManager.apply\u001b[1;34m(self, f, align_keys, ignore_failures, **kwargs)\u001b[0m\n\u001b[0;32m    302\u001b[0m         applied \u001b[38;5;241m=\u001b[39m b\u001b[38;5;241m.\u001b[39mapply(f, \u001b[38;5;241m*\u001b[39m\u001b[38;5;241m*\u001b[39mkwargs)\n\u001b[0;32m    303\u001b[0m     \u001b[38;5;28;01melse\u001b[39;00m:\n\u001b[1;32m--> 304\u001b[0m         applied \u001b[38;5;241m=\u001b[39m \u001b[38;5;28;43mgetattr\u001b[39;49m\u001b[43m(\u001b[49m\u001b[43mb\u001b[49m\u001b[43m,\u001b[49m\u001b[43m \u001b[49m\u001b[43mf\u001b[49m\u001b[43m)\u001b[49m\u001b[43m(\u001b[49m\u001b[38;5;241;43m*\u001b[39;49m\u001b[38;5;241;43m*\u001b[39;49m\u001b[43mkwargs\u001b[49m\u001b[43m)\u001b[49m\n\u001b[0;32m    305\u001b[0m \u001b[38;5;28;01mexcept\u001b[39;00m (\u001b[38;5;167;01mTypeError\u001b[39;00m, \u001b[38;5;167;01mNotImplementedError\u001b[39;00m):\n\u001b[0;32m    306\u001b[0m     \u001b[38;5;28;01mif\u001b[39;00m \u001b[38;5;129;01mnot\u001b[39;00m ignore_failures:\n",
      "File \u001b[1;32m~\\anaconda3\\envs\\dojo-env\\lib\\site-packages\\pandas\\core\\internals\\blocks.py:580\u001b[0m, in \u001b[0;36mBlock.astype\u001b[1;34m(self, dtype, copy, errors)\u001b[0m\n\u001b[0;32m    562\u001b[0m \u001b[38;5;124;03m\"\"\"\u001b[39;00m\n\u001b[0;32m    563\u001b[0m \u001b[38;5;124;03mCoerce to the new dtype.\u001b[39;00m\n\u001b[0;32m    564\u001b[0m \n\u001b[1;32m   (...)\u001b[0m\n\u001b[0;32m    576\u001b[0m \u001b[38;5;124;03mBlock\u001b[39;00m\n\u001b[0;32m    577\u001b[0m \u001b[38;5;124;03m\"\"\"\u001b[39;00m\n\u001b[0;32m    578\u001b[0m values \u001b[38;5;241m=\u001b[39m \u001b[38;5;28mself\u001b[39m\u001b[38;5;241m.\u001b[39mvalues\n\u001b[1;32m--> 580\u001b[0m new_values \u001b[38;5;241m=\u001b[39m \u001b[43mastype_array_safe\u001b[49m\u001b[43m(\u001b[49m\u001b[43mvalues\u001b[49m\u001b[43m,\u001b[49m\u001b[43m \u001b[49m\u001b[43mdtype\u001b[49m\u001b[43m,\u001b[49m\u001b[43m \u001b[49m\u001b[43mcopy\u001b[49m\u001b[38;5;241;43m=\u001b[39;49m\u001b[43mcopy\u001b[49m\u001b[43m,\u001b[49m\u001b[43m \u001b[49m\u001b[43merrors\u001b[49m\u001b[38;5;241;43m=\u001b[39;49m\u001b[43merrors\u001b[49m\u001b[43m)\u001b[49m\n\u001b[0;32m    582\u001b[0m new_values \u001b[38;5;241m=\u001b[39m maybe_coerce_values(new_values)\n\u001b[0;32m    583\u001b[0m newb \u001b[38;5;241m=\u001b[39m \u001b[38;5;28mself\u001b[39m\u001b[38;5;241m.\u001b[39mmake_block(new_values)\n",
      "File \u001b[1;32m~\\anaconda3\\envs\\dojo-env\\lib\\site-packages\\pandas\\core\\dtypes\\cast.py:1292\u001b[0m, in \u001b[0;36mastype_array_safe\u001b[1;34m(values, dtype, copy, errors)\u001b[0m\n\u001b[0;32m   1289\u001b[0m     dtype \u001b[38;5;241m=\u001b[39m dtype\u001b[38;5;241m.\u001b[39mnumpy_dtype\n\u001b[0;32m   1291\u001b[0m \u001b[38;5;28;01mtry\u001b[39;00m:\n\u001b[1;32m-> 1292\u001b[0m     new_values \u001b[38;5;241m=\u001b[39m \u001b[43mastype_array\u001b[49m\u001b[43m(\u001b[49m\u001b[43mvalues\u001b[49m\u001b[43m,\u001b[49m\u001b[43m \u001b[49m\u001b[43mdtype\u001b[49m\u001b[43m,\u001b[49m\u001b[43m \u001b[49m\u001b[43mcopy\u001b[49m\u001b[38;5;241;43m=\u001b[39;49m\u001b[43mcopy\u001b[49m\u001b[43m)\u001b[49m\n\u001b[0;32m   1293\u001b[0m \u001b[38;5;28;01mexcept\u001b[39;00m (\u001b[38;5;167;01mValueError\u001b[39;00m, \u001b[38;5;167;01mTypeError\u001b[39;00m):\n\u001b[0;32m   1294\u001b[0m     \u001b[38;5;66;03m# e.g. astype_nansafe can fail on object-dtype of strings\u001b[39;00m\n\u001b[0;32m   1295\u001b[0m     \u001b[38;5;66;03m#  trying to convert to float\u001b[39;00m\n\u001b[0;32m   1296\u001b[0m     \u001b[38;5;28;01mif\u001b[39;00m errors \u001b[38;5;241m==\u001b[39m \u001b[38;5;124m\"\u001b[39m\u001b[38;5;124mignore\u001b[39m\u001b[38;5;124m\"\u001b[39m:\n",
      "File \u001b[1;32m~\\anaconda3\\envs\\dojo-env\\lib\\site-packages\\pandas\\core\\dtypes\\cast.py:1237\u001b[0m, in \u001b[0;36mastype_array\u001b[1;34m(values, dtype, copy)\u001b[0m\n\u001b[0;32m   1234\u001b[0m     values \u001b[38;5;241m=\u001b[39m values\u001b[38;5;241m.\u001b[39mastype(dtype, copy\u001b[38;5;241m=\u001b[39mcopy)\n\u001b[0;32m   1236\u001b[0m \u001b[38;5;28;01melse\u001b[39;00m:\n\u001b[1;32m-> 1237\u001b[0m     values \u001b[38;5;241m=\u001b[39m \u001b[43mastype_nansafe\u001b[49m\u001b[43m(\u001b[49m\u001b[43mvalues\u001b[49m\u001b[43m,\u001b[49m\u001b[43m \u001b[49m\u001b[43mdtype\u001b[49m\u001b[43m,\u001b[49m\u001b[43m \u001b[49m\u001b[43mcopy\u001b[49m\u001b[38;5;241;43m=\u001b[39;49m\u001b[43mcopy\u001b[49m\u001b[43m)\u001b[49m\n\u001b[0;32m   1239\u001b[0m \u001b[38;5;66;03m# in pandas we don't store numpy str dtypes, so convert to object\u001b[39;00m\n\u001b[0;32m   1240\u001b[0m \u001b[38;5;28;01mif\u001b[39;00m \u001b[38;5;28misinstance\u001b[39m(dtype, np\u001b[38;5;241m.\u001b[39mdtype) \u001b[38;5;129;01mand\u001b[39;00m \u001b[38;5;28missubclass\u001b[39m(values\u001b[38;5;241m.\u001b[39mdtype\u001b[38;5;241m.\u001b[39mtype, \u001b[38;5;28mstr\u001b[39m):\n",
      "File \u001b[1;32m~\\anaconda3\\envs\\dojo-env\\lib\\site-packages\\pandas\\core\\dtypes\\cast.py:1154\u001b[0m, in \u001b[0;36mastype_nansafe\u001b[1;34m(arr, dtype, copy, skipna)\u001b[0m\n\u001b[0;32m   1150\u001b[0m \u001b[38;5;28;01melif\u001b[39;00m is_object_dtype(arr\u001b[38;5;241m.\u001b[39mdtype):\n\u001b[0;32m   1151\u001b[0m \n\u001b[0;32m   1152\u001b[0m     \u001b[38;5;66;03m# work around NumPy brokenness, #1987\u001b[39;00m\n\u001b[0;32m   1153\u001b[0m     \u001b[38;5;28;01mif\u001b[39;00m np\u001b[38;5;241m.\u001b[39missubdtype(dtype\u001b[38;5;241m.\u001b[39mtype, np\u001b[38;5;241m.\u001b[39minteger):\n\u001b[1;32m-> 1154\u001b[0m         \u001b[38;5;28;01mreturn\u001b[39;00m \u001b[43mlib\u001b[49m\u001b[38;5;241;43m.\u001b[39;49m\u001b[43mastype_intsafe\u001b[49m\u001b[43m(\u001b[49m\u001b[43marr\u001b[49m\u001b[43m,\u001b[49m\u001b[43m \u001b[49m\u001b[43mdtype\u001b[49m\u001b[43m)\u001b[49m\n\u001b[0;32m   1156\u001b[0m     \u001b[38;5;66;03m# if we have a datetime/timedelta array of objects\u001b[39;00m\n\u001b[0;32m   1157\u001b[0m     \u001b[38;5;66;03m# then coerce to a proper dtype and recall astype_nansafe\u001b[39;00m\n\u001b[0;32m   1159\u001b[0m     \u001b[38;5;28;01melif\u001b[39;00m is_datetime64_dtype(dtype):\n",
      "File \u001b[1;32m~\\anaconda3\\envs\\dojo-env\\lib\\site-packages\\pandas\\_libs\\lib.pyx:668\u001b[0m, in \u001b[0;36mpandas._libs.lib.astype_intsafe\u001b[1;34m()\u001b[0m\n",
      "\u001b[1;31mValueError\u001b[0m: cannot convert float NaN to integer"
     ]
    }
   ],
   "source": [
    "basics = basics['startYear'].astype(int)"
   ]
  },
  {
   "cell_type": "code",
   "execution_count": 33,
   "id": "d53c8a9d",
   "metadata": {
    "ExecuteTime": {
     "end_time": "2022-07-29T03:53:53.406684Z",
     "start_time": "2022-07-29T03:53:53.196235Z"
    }
   },
   "outputs": [],
   "source": [
    "is_documentary = basics['genres'].str.contains('Documentary',case=False)\n",
    "basics = basics[~is_documentary]\n",
    "\n"
   ]
  },
  {
   "cell_type": "code",
   "execution_count": 34,
   "id": "a89b2192",
   "metadata": {
    "ExecuteTime": {
     "end_time": "2022-07-29T03:53:54.238006Z",
     "start_time": "2022-07-29T03:53:54.230539Z"
    }
   },
   "outputs": [
    {
     "data": {
      "text/plain": [
       "['.ipynb_checkpoints', 'akas.csv.gz', 'basics.csv.gz', 'ratings.csv.gz']"
      ]
     },
     "execution_count": 34,
     "metadata": {},
     "output_type": "execute_result"
    }
   ],
   "source": [
    "import os\n",
    "os.makedirs('DATA/',exist_ok=True)\n",
    "\n",
    "os.listdir(\"DATA/\")"
   ]
  },
  {
   "cell_type": "code",
   "execution_count": 35,
   "id": "1c147311",
   "metadata": {
    "ExecuteTime": {
     "end_time": "2022-07-29T03:54:01.682815Z",
     "start_time": "2022-07-29T03:53:58.676553Z"
    }
   },
   "outputs": [],
   "source": [
    "basics.to_csv(\"DATA/basics.csv.gz\",compression='gzip',index=False)\n",
    "\n"
   ]
  },
  {
   "cell_type": "code",
   "execution_count": 36,
   "id": "f640241c",
   "metadata": {
    "ExecuteTime": {
     "end_time": "2022-07-29T03:54:30.259831Z",
     "start_time": "2022-07-29T03:54:21.896666Z"
    }
   },
   "outputs": [],
   "source": [
    "ratings.to_csv(\"DATA/ratings.csv.gz\",compression='gzip',index=False)"
   ]
  },
  {
   "cell_type": "code",
   "execution_count": 37,
   "id": "4461d5cc",
   "metadata": {
    "ExecuteTime": {
     "end_time": "2022-07-29T03:56:57.592336Z",
     "start_time": "2022-07-29T03:54:30.323519Z"
    }
   },
   "outputs": [],
   "source": [
    "akas.to_csv(\"DATA/akas.csv.gz\",compression='gzip',index=False)"
   ]
  },
  {
   "cell_type": "code",
   "execution_count": 38,
   "id": "2d888701",
   "metadata": {
    "ExecuteTime": {
     "end_time": "2022-07-29T03:56:58.407373Z",
     "start_time": "2022-07-29T03:56:57.639980Z"
    }
   },
   "outputs": [
    {
     "data": {
      "text/html": [
       "<div>\n",
       "<style scoped>\n",
       "    .dataframe tbody tr th:only-of-type {\n",
       "        vertical-align: middle;\n",
       "    }\n",
       "\n",
       "    .dataframe tbody tr th {\n",
       "        vertical-align: top;\n",
       "    }\n",
       "\n",
       "    .dataframe thead th {\n",
       "        text-align: right;\n",
       "    }\n",
       "</style>\n",
       "<table border=\"1\" class=\"dataframe\">\n",
       "  <thead>\n",
       "    <tr style=\"text-align: right;\">\n",
       "      <th></th>\n",
       "      <th>tconst</th>\n",
       "      <th>titleType</th>\n",
       "      <th>primaryTitle</th>\n",
       "      <th>originalTitle</th>\n",
       "      <th>isAdult</th>\n",
       "      <th>startYear</th>\n",
       "      <th>endYear</th>\n",
       "      <th>runtimeMinutes</th>\n",
       "      <th>genres</th>\n",
       "    </tr>\n",
       "  </thead>\n",
       "  <tbody>\n",
       "    <tr>\n",
       "      <th>0</th>\n",
       "      <td>tt0000009</td>\n",
       "      <td>movie</td>\n",
       "      <td>Miss Jerry</td>\n",
       "      <td>Miss Jerry</td>\n",
       "      <td>0</td>\n",
       "      <td>1894.0</td>\n",
       "      <td>NaN</td>\n",
       "      <td>45</td>\n",
       "      <td>Romance</td>\n",
       "    </tr>\n",
       "    <tr>\n",
       "      <th>1</th>\n",
       "      <td>tt0000574</td>\n",
       "      <td>movie</td>\n",
       "      <td>The Story of the Kelly Gang</td>\n",
       "      <td>The Story of the Kelly Gang</td>\n",
       "      <td>0</td>\n",
       "      <td>1906.0</td>\n",
       "      <td>NaN</td>\n",
       "      <td>70</td>\n",
       "      <td>Action,Adventure,Biography</td>\n",
       "    </tr>\n",
       "    <tr>\n",
       "      <th>2</th>\n",
       "      <td>tt0000591</td>\n",
       "      <td>movie</td>\n",
       "      <td>The Prodigal Son</td>\n",
       "      <td>L'enfant prodigue</td>\n",
       "      <td>0</td>\n",
       "      <td>1907.0</td>\n",
       "      <td>NaN</td>\n",
       "      <td>90</td>\n",
       "      <td>Drama</td>\n",
       "    </tr>\n",
       "    <tr>\n",
       "      <th>3</th>\n",
       "      <td>tt0000679</td>\n",
       "      <td>movie</td>\n",
       "      <td>The Fairylogue and Radio-Plays</td>\n",
       "      <td>The Fairylogue and Radio-Plays</td>\n",
       "      <td>0</td>\n",
       "      <td>1908.0</td>\n",
       "      <td>NaN</td>\n",
       "      <td>120</td>\n",
       "      <td>Adventure,Fantasy</td>\n",
       "    </tr>\n",
       "    <tr>\n",
       "      <th>4</th>\n",
       "      <td>tt0001184</td>\n",
       "      <td>movie</td>\n",
       "      <td>Don Juan de Serrallonga</td>\n",
       "      <td>Don Juan de Serrallonga</td>\n",
       "      <td>0</td>\n",
       "      <td>1910.0</td>\n",
       "      <td>NaN</td>\n",
       "      <td>58</td>\n",
       "      <td>Adventure,Drama</td>\n",
       "    </tr>\n",
       "  </tbody>\n",
       "</table>\n",
       "</div>"
      ],
      "text/plain": [
       "      tconst titleType                    primaryTitle  \\\n",
       "0  tt0000009     movie                      Miss Jerry   \n",
       "1  tt0000574     movie     The Story of the Kelly Gang   \n",
       "2  tt0000591     movie                The Prodigal Son   \n",
       "3  tt0000679     movie  The Fairylogue and Radio-Plays   \n",
       "4  tt0001184     movie         Don Juan de Serrallonga   \n",
       "\n",
       "                    originalTitle  isAdult  startYear  endYear  \\\n",
       "0                      Miss Jerry        0     1894.0      NaN   \n",
       "1     The Story of the Kelly Gang        0     1906.0      NaN   \n",
       "2               L'enfant prodigue        0     1907.0      NaN   \n",
       "3  The Fairylogue and Radio-Plays        0     1908.0      NaN   \n",
       "4         Don Juan de Serrallonga        0     1910.0      NaN   \n",
       "\n",
       "   runtimeMinutes                      genres  \n",
       "0              45                     Romance  \n",
       "1              70  Action,Adventure,Biography  \n",
       "2              90                       Drama  \n",
       "3             120           Adventure,Fantasy  \n",
       "4              58             Adventure,Drama  "
      ]
     },
     "execution_count": 38,
     "metadata": {},
     "output_type": "execute_result"
    }
   ],
   "source": [
    "basics = pd.read_csv(\"DATA/basics.csv.gz\", low_memory = False)\n",
    "basics.head()"
   ]
  },
  {
   "cell_type": "code",
   "execution_count": 39,
   "id": "21eef54f",
   "metadata": {
    "ExecuteTime": {
     "end_time": "2022-07-29T03:56:59.283849Z",
     "start_time": "2022-07-29T03:56:58.456283Z"
    }
   },
   "outputs": [
    {
     "data": {
      "text/html": [
       "<div>\n",
       "<style scoped>\n",
       "    .dataframe tbody tr th:only-of-type {\n",
       "        vertical-align: middle;\n",
       "    }\n",
       "\n",
       "    .dataframe tbody tr th {\n",
       "        vertical-align: top;\n",
       "    }\n",
       "\n",
       "    .dataframe thead th {\n",
       "        text-align: right;\n",
       "    }\n",
       "</style>\n",
       "<table border=\"1\" class=\"dataframe\">\n",
       "  <thead>\n",
       "    <tr style=\"text-align: right;\">\n",
       "      <th></th>\n",
       "      <th>tconst</th>\n",
       "      <th>averageRating</th>\n",
       "      <th>numVotes</th>\n",
       "    </tr>\n",
       "  </thead>\n",
       "  <tbody>\n",
       "    <tr>\n",
       "      <th>0</th>\n",
       "      <td>tt0000001</td>\n",
       "      <td>5.7</td>\n",
       "      <td>1901</td>\n",
       "    </tr>\n",
       "    <tr>\n",
       "      <th>1</th>\n",
       "      <td>tt0000002</td>\n",
       "      <td>5.9</td>\n",
       "      <td>254</td>\n",
       "    </tr>\n",
       "    <tr>\n",
       "      <th>2</th>\n",
       "      <td>tt0000003</td>\n",
       "      <td>6.5</td>\n",
       "      <td>1694</td>\n",
       "    </tr>\n",
       "    <tr>\n",
       "      <th>3</th>\n",
       "      <td>tt0000004</td>\n",
       "      <td>5.7</td>\n",
       "      <td>166</td>\n",
       "    </tr>\n",
       "    <tr>\n",
       "      <th>4</th>\n",
       "      <td>tt0000005</td>\n",
       "      <td>6.2</td>\n",
       "      <td>2510</td>\n",
       "    </tr>\n",
       "  </tbody>\n",
       "</table>\n",
       "</div>"
      ],
      "text/plain": [
       "      tconst  averageRating  numVotes\n",
       "0  tt0000001            5.7      1901\n",
       "1  tt0000002            5.9       254\n",
       "2  tt0000003            6.5      1694\n",
       "3  tt0000004            5.7       166\n",
       "4  tt0000005            6.2      2510"
      ]
     },
     "execution_count": 39,
     "metadata": {},
     "output_type": "execute_result"
    }
   ],
   "source": [
    "ratings = pd.read_csv(\"DATA/ratings.csv.gz\", low_memory = False)\n",
    "ratings.head()"
   ]
  },
  {
   "cell_type": "code",
   "execution_count": 40,
   "id": "be61982a",
   "metadata": {
    "ExecuteTime": {
     "end_time": "2022-07-29T03:57:35.755651Z",
     "start_time": "2022-07-29T03:56:59.331794Z"
    }
   },
   "outputs": [
    {
     "data": {
      "text/html": [
       "<div>\n",
       "<style scoped>\n",
       "    .dataframe tbody tr th:only-of-type {\n",
       "        vertical-align: middle;\n",
       "    }\n",
       "\n",
       "    .dataframe tbody tr th {\n",
       "        vertical-align: top;\n",
       "    }\n",
       "\n",
       "    .dataframe thead th {\n",
       "        text-align: right;\n",
       "    }\n",
       "</style>\n",
       "<table border=\"1\" class=\"dataframe\">\n",
       "  <thead>\n",
       "    <tr style=\"text-align: right;\">\n",
       "      <th></th>\n",
       "      <th>titleId</th>\n",
       "      <th>ordering</th>\n",
       "      <th>title</th>\n",
       "      <th>region</th>\n",
       "      <th>language</th>\n",
       "      <th>types</th>\n",
       "      <th>attributes</th>\n",
       "      <th>isOriginalTitle</th>\n",
       "    </tr>\n",
       "  </thead>\n",
       "  <tbody>\n",
       "    <tr>\n",
       "      <th>0</th>\n",
       "      <td>tt0000001</td>\n",
       "      <td>1</td>\n",
       "      <td>Карменсіта</td>\n",
       "      <td>UA</td>\n",
       "      <td>NaN</td>\n",
       "      <td>imdbDisplay</td>\n",
       "      <td>NaN</td>\n",
       "      <td>0.0</td>\n",
       "    </tr>\n",
       "    <tr>\n",
       "      <th>1</th>\n",
       "      <td>tt0000001</td>\n",
       "      <td>2</td>\n",
       "      <td>Carmencita</td>\n",
       "      <td>DE</td>\n",
       "      <td>NaN</td>\n",
       "      <td>NaN</td>\n",
       "      <td>literal title</td>\n",
       "      <td>0.0</td>\n",
       "    </tr>\n",
       "    <tr>\n",
       "      <th>2</th>\n",
       "      <td>tt0000001</td>\n",
       "      <td>3</td>\n",
       "      <td>Carmencita - spanyol tánc</td>\n",
       "      <td>HU</td>\n",
       "      <td>NaN</td>\n",
       "      <td>imdbDisplay</td>\n",
       "      <td>NaN</td>\n",
       "      <td>0.0</td>\n",
       "    </tr>\n",
       "    <tr>\n",
       "      <th>3</th>\n",
       "      <td>tt0000001</td>\n",
       "      <td>4</td>\n",
       "      <td>Καρμενσίτα</td>\n",
       "      <td>GR</td>\n",
       "      <td>NaN</td>\n",
       "      <td>imdbDisplay</td>\n",
       "      <td>NaN</td>\n",
       "      <td>0.0</td>\n",
       "    </tr>\n",
       "    <tr>\n",
       "      <th>4</th>\n",
       "      <td>tt0000001</td>\n",
       "      <td>5</td>\n",
       "      <td>Карменсита</td>\n",
       "      <td>RU</td>\n",
       "      <td>NaN</td>\n",
       "      <td>imdbDisplay</td>\n",
       "      <td>NaN</td>\n",
       "      <td>0.0</td>\n",
       "    </tr>\n",
       "  </tbody>\n",
       "</table>\n",
       "</div>"
      ],
      "text/plain": [
       "     titleId  ordering                      title region language  \\\n",
       "0  tt0000001         1                 Карменсіта     UA      NaN   \n",
       "1  tt0000001         2                 Carmencita     DE      NaN   \n",
       "2  tt0000001         3  Carmencita - spanyol tánc     HU      NaN   \n",
       "3  tt0000001         4                 Καρμενσίτα     GR      NaN   \n",
       "4  tt0000001         5                 Карменсита     RU      NaN   \n",
       "\n",
       "         types     attributes  isOriginalTitle  \n",
       "0  imdbDisplay            NaN              0.0  \n",
       "1          NaN  literal title              0.0  \n",
       "2  imdbDisplay            NaN              0.0  \n",
       "3  imdbDisplay            NaN              0.0  \n",
       "4  imdbDisplay            NaN              0.0  "
      ]
     },
     "execution_count": 40,
     "metadata": {},
     "output_type": "execute_result"
    }
   ],
   "source": [
    "akas = pd.read_csv(\"DATA/akas.csv.gz\", low_memory = False)\n",
    "akas.head()"
   ]
  },
  {
   "cell_type": "code",
   "execution_count": null,
   "id": "b1a4b191",
   "metadata": {},
   "outputs": [],
   "source": []
  }
 ],
 "metadata": {
  "hide_input": false,
  "kernelspec": {
   "display_name": "Python (dojo-env)",
   "language": "python",
   "name": "dojo-env"
  },
  "language_info": {
   "codemirror_mode": {
    "name": "ipython",
    "version": 3
   },
   "file_extension": ".py",
   "mimetype": "text/x-python",
   "name": "python",
   "nbconvert_exporter": "python",
   "pygments_lexer": "ipython3",
   "version": "3.8.13"
  },
  "latex_envs": {
   "LaTeX_envs_menu_present": true,
   "autoclose": false,
   "autocomplete": true,
   "bibliofile": "biblio.bib",
   "cite_by": "apalike",
   "current_citInitial": 1,
   "eqLabelWithNumbers": true,
   "eqNumInitial": 1,
   "hotkeys": {
    "equation": "Ctrl-E",
    "itemize": "Ctrl-I"
   },
   "labels_anchors": false,
   "latex_user_defs": false,
   "report_style_numbering": false,
   "user_envs_cfg": false
  },
  "nbTranslate": {
   "displayLangs": [
    "*"
   ],
   "hotkey": "alt-t",
   "langInMainMenu": true,
   "sourceLang": "en",
   "targetLang": "fr",
   "useGoogleTranslate": true
  },
  "toc": {
   "base_numbering": 1,
   "nav_menu": {},
   "number_sections": false,
   "sideBar": true,
   "skip_h1_title": false,
   "title_cell": "Table of Contents",
   "title_sidebar": "Contents",
   "toc_cell": false,
   "toc_position": {},
   "toc_section_display": true,
   "toc_window_display": false
  },
  "varInspector": {
   "cols": {
    "lenName": 16,
    "lenType": 16,
    "lenVar": 40
   },
   "kernels_config": {
    "python": {
     "delete_cmd_postfix": "",
     "delete_cmd_prefix": "del ",
     "library": "var_list.py",
     "varRefreshCmd": "print(var_dic_list())"
    },
    "r": {
     "delete_cmd_postfix": ") ",
     "delete_cmd_prefix": "rm(",
     "library": "var_list.r",
     "varRefreshCmd": "cat(var_dic_list()) "
    }
   },
   "types_to_exclude": [
    "module",
    "function",
    "builtin_function_or_method",
    "instance",
    "_Feature"
   ],
   "window_display": false
  }
 },
 "nbformat": 4,
 "nbformat_minor": 5
}
